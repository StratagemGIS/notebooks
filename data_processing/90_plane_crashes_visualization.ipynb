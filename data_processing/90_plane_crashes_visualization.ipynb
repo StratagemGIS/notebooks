{
  "nbformat": 4,
  "nbformat_minor": 0,
  "metadata": {
    "colab": {
      "provenance": [],
      "authorship_tag": "ABX9TyMm9DfEuQPB74hpUbyYaZNV",
      "include_colab_link": true
    },
    "kernelspec": {
      "name": "python3",
      "display_name": "Python 3"
    },
    "language_info": {
      "name": "python"
    }
  },
  "cells": [
    {
      "cell_type": "markdown",
      "metadata": {
        "id": "view-in-github",
        "colab_type": "text"
      },
      "source": [
        "<a href=\"https://colab.research.google.com/github/StratagemGIS/notebooks/blob/main/data_processing/90_plane_crashes_visualization.ipynb\" target=\"_parent\"><img src=\"https://colab.research.google.com/assets/colab-badge.svg\" alt=\"Open In Colab\"/></a>"
      ]
    },
    {
      "cell_type": "markdown",
      "source": [
        "Vaasudevan Srinivasan 🧑🏻‍💻  \n",
        "StratagemGIS Solutions"
      ],
      "metadata": {
        "id": "sap1TqkNAvYC"
      }
    },
    {
      "cell_type": "code",
      "source": [
        "%%capture\n",
        "!pip install --no-deps fiona GeodesicLinesToGIS"
      ],
      "metadata": {
        "id": "PqTj_-WaVVhr"
      },
      "execution_count": null,
      "outputs": []
    },
    {
      "cell_type": "code",
      "execution_count": null,
      "metadata": {
        "id": "SDVIZpxFALD2"
      },
      "outputs": [],
      "source": [
        "import geopandas as gpd\n",
        "import pooch\n",
        "from geodesiclinestogis.geodesicline2gisfile import GeodesicLine2Gisfile\n",
        "from shapely import wkt\n",
        "from shapely.geometry import LineString"
      ]
    },
    {
      "cell_type": "code",
      "source": [
        "plane_crashes_file = pooch.retrieve(\n",
        "    'https://github.com/StratagemGIS/datasets/raw/refs/heads/main/vector/plane_crashes.gpkg',\n",
        "    known_hash='bbfe8e7d32fcec699960f486fec3dfad69cebbcac2d223003749f41c907afad0'\n",
        ")"
      ],
      "metadata": {
        "id": "A-PNXX_5Af9I",
        "colab": {
          "base_uri": "https://localhost:8080/"
        },
        "outputId": "8bbd69b6-3ead-412c-ae85-279f9f45c0c4"
      },
      "execution_count": null,
      "outputs": [
        {
          "output_type": "stream",
          "name": "stderr",
          "text": [
            "Downloading data from 'https://github.com/StratagemGIS/datasets/raw/refs/heads/main/vector/plane_crashes.gpkg' to file '/root/.cache/pooch/53702f832ca11cbace0b4441aa93fa8a-plane_crashes.gpkg'.\n"
          ]
        }
      ]
    },
    {
      "cell_type": "code",
      "source": [
        "plane_crashes = (\n",
        "    gpd.read_file(plane_crashes_file)\n",
        "    .dropna(subset=['From_pt'])\n",
        "    .dropna(subset=['To_pt'])\n",
        "    .assign(\n",
        "        From_pt=lambda df_: df_.From_pt.apply(wkt.loads),\n",
        "        To_pt=lambda df_: df_.To_pt.apply(wkt.loads),\n",
        "    )\n",
        "    .query('From_pt != To_pt')\n",
        "    .reset_index(drop=True)\n",
        ")"
      ],
      "metadata": {
        "id": "KYnJFEFQBDW-"
      },
      "execution_count": null,
      "outputs": []
    },
    {
      "cell_type": "code",
      "source": [
        "def get_geodesic_line(pts):\n",
        "    try:\n",
        "        gtg = GeodesicLine2Gisfile()\n",
        "        cd = gtg.gdlComp(pts, km_pts=5)\n",
        "        return LineString(cd)\n",
        "    except:\n",
        "        return None\n",
        "\n",
        "\n",
        "for ix, rec in plane_crashes.iterrows():\n",
        "    pts = [*rec.From_pt.coords[0]] + [*rec.To_pt.coords[0]]\n",
        "    plane_crashes.loc[ix, 'geometry'] = get_geodesic_line(pts)\n",
        "\n",
        "plane_crashes = (\n",
        "    gpd.GeoDataFrame(plane_crashes)\n",
        "    .dropna(subset=['geometry'])\n",
        "    .set_crs('EPSG:4326')\n",
        "    .assign(length=lambda df_: df_.geometry.length)\n",
        "    # .query('Aboard_Count > 50')\n",
        "    # .query('80 < length < 100')\n",
        ")"
      ],
      "metadata": {
        "id": "hJFCZBXxXc7V",
        "colab": {
          "base_uri": "https://localhost:8080/"
        },
        "outputId": "1054c989-5f2d-4e41-97bf-6b9609b6307c"
      },
      "execution_count": null,
      "outputs": [
        {
          "output_type": "stream",
          "name": "stderr",
          "text": [
            "ERROR:root:Error: inv_intermediate: npts and del_s are mutually exclusive, only one of them must be != 0.\n",
            "ERROR:root:Error: inv_intermediate: npts and del_s are mutually exclusive, only one of them must be != 0.\n",
            "ERROR:root:Error: inv_intermediate: npts and del_s are mutually exclusive, only one of them must be != 0.\n",
            "ERROR:root:Error: inv_intermediate: npts and del_s are mutually exclusive, only one of them must be != 0.\n",
            "<ipython-input-5-8c2e13bfe3c3>:18: UserWarning: Geometry is in a geographic CRS. Results from 'length' are likely incorrect. Use 'GeoSeries.to_crs()' to re-project geometries to a projected CRS before this operation.\n",
            "\n",
            "  .assign(length=lambda df_: df_.geometry.length)\n"
          ]
        }
      ]
    },
    {
      "cell_type": "code",
      "source": [
        "plane_crashes.drop(columns=['From_pt', 'To_pt']).to_file('crash_lines.gpkg')"
      ],
      "metadata": {
        "id": "EMNZs9ho-HRG"
      },
      "execution_count": null,
      "outputs": []
    }
  ]
}