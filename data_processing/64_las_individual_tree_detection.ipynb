{
  "nbformat": 4,
  "nbformat_minor": 0,
  "metadata": {
    "colab": {
      "provenance": [],
      "authorship_tag": "ABX9TyOJg/50kAwCDYp+aukfr9VP",
      "include_colab_link": true
    },
    "kernelspec": {
      "name": "python3",
      "display_name": "Python 3"
    },
    "language_info": {
      "name": "python"
    }
  },
  "cells": [
    {
      "cell_type": "markdown",
      "metadata": {
        "id": "view-in-github",
        "colab_type": "text"
      },
      "source": [
        "<a href=\"https://colab.research.google.com/github/StratagemGIS/notebooks/blob/main/data_processing/64_las_individual_tree_detection.ipynb\" target=\"_parent\"><img src=\"https://colab.research.google.com/assets/colab-badge.svg\" alt=\"Open In Colab\"/></a>"
      ]
    },
    {
      "cell_type": "markdown",
      "source": [
        "Vaasudevan Srinivasan 🧑🏻‍💻  \n",
        "StratagemGIS Solutions"
      ],
      "metadata": {
        "id": "2trFa_GwLgFX"
      }
    },
    {
      "cell_type": "code",
      "execution_count": null,
      "metadata": {
        "id": "YFGLBuirLeKB"
      },
      "outputs": [],
      "source": [
        "%%capture\n",
        "!pip install whitebox"
      ]
    },
    {
      "cell_type": "code",
      "source": [
        "import pooch\n",
        "import whitebox"
      ],
      "metadata": {
        "id": "w46zf8egLj1W"
      },
      "execution_count": null,
      "outputs": []
    },
    {
      "cell_type": "code",
      "source": [
        "las_file = pooch.retrieve(\n",
        "    'https://github.com/StratagemGIS/datasets/raw/main/lidar/nb_2015_2487000_7438000_u22_extent.las.zip',\n",
        "    known_hash='2277b4ca6e6166340cd2631fdb58971b94689da6bcd595d4d02bf48aff3e057f',\n",
        "    processor=pooch.Unzip(),\n",
        "    path='.'\n",
        ")[0]"
      ],
      "metadata": {
        "id": "NI_sSSKSLqvO"
      },
      "execution_count": null,
      "outputs": []
    },
    {
      "cell_type": "code",
      "source": [
        "%%capture\n",
        "\n",
        "wbt = whitebox.WhiteboxTools()\n",
        "\n",
        "wbt.individual_tree_detection(\n",
        "    las_file,\n",
        "    '/content/nb_2015_2487000_7438000_u22_extent_tree_points.shp',\n",
        "    max_search_radius=8.0,\n",
        "    max_height=30.0,\n",
        "    only_use_veg=True\n",
        ")"
      ],
      "metadata": {
        "id": "vqzbJhjNLsSt"
      },
      "execution_count": null,
      "outputs": []
    }
  ]
}