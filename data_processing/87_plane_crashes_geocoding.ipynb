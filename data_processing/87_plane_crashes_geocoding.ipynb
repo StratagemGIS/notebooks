{
  "nbformat": 4,
  "nbformat_minor": 0,
  "metadata": {
    "colab": {
      "provenance": [],
      "authorship_tag": "ABX9TyOHE5dxNCZoo5/h7FkL2Gjs",
      "include_colab_link": true
    },
    "kernelspec": {
      "name": "python3",
      "display_name": "Python 3"
    },
    "language_info": {
      "name": "python"
    },
    "widgets": {
      "application/vnd.jupyter.widget-state+json": {
        "afc140beae514f68b9cc765ba69ca935": {
          "model_module": "@jupyter-widgets/output",
          "model_name": "OutputModel",
          "model_module_version": "1.0.0",
          "state": {
            "_dom_classes": [],
            "_model_module": "@jupyter-widgets/output",
            "_model_module_version": "1.0.0",
            "_model_name": "OutputModel",
            "_view_count": null,
            "_view_module": "@jupyter-widgets/output",
            "_view_module_version": "1.0.0",
            "_view_name": "OutputView",
            "layout": "IPY_MODEL_1a766b534fee4265985e043a8a1c569c",
            "msg_id": "",
            "outputs": [
              {
                "output_type": "display_data",
                "data": {
                  "text/plain": "Working... \u001b[38;2;114;156;31m━━━━━━━━━━━━━━━━━━━━━━━━━━━━━━━━━━━━━━━━\u001b[0m \u001b[35m100%\u001b[0m \u001b[33m1:04:25\u001b[0m\n",
                  "text/html": "<pre style=\"white-space:pre;overflow-x:auto;line-height:normal;font-family:Menlo,'DejaVu Sans Mono',consolas,'Courier New',monospace\">Working... <span style=\"color: #729c1f; text-decoration-color: #729c1f\">━━━━━━━━━━━━━━━━━━━━━━━━━━━━━━━━━━━━━━━━</span> <span style=\"color: #800080; text-decoration-color: #800080\">100%</span> <span style=\"color: #808000; text-decoration-color: #808000\">1:04:25</span>\n</pre>\n"
                },
                "metadata": {}
              }
            ]
          }
        },
        "1a766b534fee4265985e043a8a1c569c": {
          "model_module": "@jupyter-widgets/base",
          "model_name": "LayoutModel",
          "model_module_version": "1.2.0",
          "state": {
            "_model_module": "@jupyter-widgets/base",
            "_model_module_version": "1.2.0",
            "_model_name": "LayoutModel",
            "_view_count": null,
            "_view_module": "@jupyter-widgets/base",
            "_view_module_version": "1.2.0",
            "_view_name": "LayoutView",
            "align_content": null,
            "align_items": null,
            "align_self": null,
            "border": null,
            "bottom": null,
            "display": null,
            "flex": null,
            "flex_flow": null,
            "grid_area": null,
            "grid_auto_columns": null,
            "grid_auto_flow": null,
            "grid_auto_rows": null,
            "grid_column": null,
            "grid_gap": null,
            "grid_row": null,
            "grid_template_areas": null,
            "grid_template_columns": null,
            "grid_template_rows": null,
            "height": null,
            "justify_content": null,
            "justify_items": null,
            "left": null,
            "margin": null,
            "max_height": null,
            "max_width": null,
            "min_height": null,
            "min_width": null,
            "object_fit": null,
            "object_position": null,
            "order": null,
            "overflow": null,
            "overflow_x": null,
            "overflow_y": null,
            "padding": null,
            "right": null,
            "top": null,
            "visibility": null,
            "width": null
          }
        }
      }
    }
  },
  "cells": [
    {
      "cell_type": "markdown",
      "metadata": {
        "id": "view-in-github",
        "colab_type": "text"
      },
      "source": [
        "<a href=\"https://colab.research.google.com/github/StratagemGIS/notebooks/blob/main/data_processing/87_plane_crashes_geocoding.ipynb\" target=\"_parent\"><img src=\"https://colab.research.google.com/assets/colab-badge.svg\" alt=\"Open In Colab\"/></a>"
      ]
    },
    {
      "cell_type": "markdown",
      "source": [
        "Vaasudevan Srinivasan 🧑🏻‍💻  \n",
        "StratagemGIS Solutions"
      ],
      "metadata": {
        "id": "sap1TqkNAvYC"
      }
    },
    {
      "cell_type": "code",
      "source": [
        "%%capture\n",
        "!pip install osmnx"
      ],
      "metadata": {
        "id": "sqYBFSAuAhb4"
      },
      "execution_count": null,
      "outputs": []
    },
    {
      "cell_type": "code",
      "execution_count": null,
      "metadata": {
        "id": "SDVIZpxFALD2"
      },
      "outputs": [],
      "source": [
        "from functools import cache\n",
        "\n",
        "import geopandas as gpd\n",
        "import osmnx as ox\n",
        "import pandas as pd\n",
        "import pooch\n",
        "from rich.progress import track\n",
        "from shapely.geometry import Point"
      ]
    },
    {
      "cell_type": "code",
      "source": [
        "plane_crashes_file = pooch.retrieve(\n",
        "    'https://github.com/StratagemGIS/datasets/raw/refs/heads/main/table/plane_crashes_raw.csv',\n",
        "    known_hash='265b3e905741f10c1f261c8bff0c5a19d5b0181313dfca33eb12a7b5a7916de7'\n",
        ")"
      ],
      "metadata": {
        "id": "A-PNXX_5Af9I"
      },
      "execution_count": null,
      "outputs": []
    },
    {
      "cell_type": "code",
      "source": [
        "plane_crashes = (\n",
        "    pd.read_csv(plane_crashes_file)\n",
        "    .dropna(subset=['Location', 'Route'])\n",
        "    .query('Route.str.contains(\"-\")')\n",
        "    .query('~Aboard.str.contains(\"\\?\")')\n",
        "    .assign(\n",
        "        Aboard_Count=lambda df_: df_.Aboard.str.split('(').str[0].astype(float),\n",
        "        Fatalities_Count=lambda df_: df_.Fatalities.str.split('(').str[0].astype(float),\n",
        "        From=lambda df_: df_.Route.str.split(' - ').str[0],\n",
        "        To=lambda df_: df_.Route.str.split(' - ').str[1],\n",
        "    )\n",
        "    .reset_index(drop=True)\n",
        ")"
      ],
      "metadata": {
        "id": "28NvwsvLF4xp"
      },
      "execution_count": null,
      "outputs": []
    },
    {
      "cell_type": "code",
      "source": [
        "@cache\n",
        "def geocode(x):\n",
        "    try:\n",
        "        return Point(ox.geocode(x)[::-1])\n",
        "    except:\n",
        "        return None\n",
        "\n",
        "\n",
        "for ix, rec in track(plane_crashes.iterrows(), total=len(plane_crashes)):\n",
        "    plane_crashes.loc[ix, 'From_pt'] = geocode(rec.From)\n",
        "    plane_crashes.loc[ix, 'To_pt'] = geocode(rec.To)"
      ],
      "metadata": {
        "colab": {
          "base_uri": "https://localhost:8080/",
          "height": 33,
          "referenced_widgets": [
            "afc140beae514f68b9cc765ba69ca935",
            "1a766b534fee4265985e043a8a1c569c"
          ]
        },
        "id": "ofD4XhHojlRr",
        "outputId": "81770900-84cc-4c16-ef15-029305056cac"
      },
      "execution_count": null,
      "outputs": [
        {
          "output_type": "display_data",
          "data": {
            "text/plain": [
              "Output()"
            ],
            "application/vnd.jupyter.widget-view+json": {
              "version_major": 2,
              "version_minor": 0,
              "model_id": "afc140beae514f68b9cc765ba69ca935"
            }
          },
          "metadata": {}
        },
        {
          "output_type": "display_data",
          "data": {
            "text/plain": [],
            "text/html": [
              "<pre style=\"white-space:pre;overflow-x:auto;line-height:normal;font-family:Menlo,'DejaVu Sans Mono',consolas,'Courier New',monospace\"></pre>\n"
            ]
          },
          "metadata": {}
        }
      ]
    },
    {
      "cell_type": "code",
      "source": [
        "plane_crashes = gpd.GeoDataFrame(plane_crashes)\n",
        "plane_crashes.to_file('plane_crashes.gpkg')"
      ],
      "metadata": {
        "id": "seXE4UbdkKnn"
      },
      "execution_count": null,
      "outputs": []
    },
    {
      "cell_type": "code",
      "source": [
        "plane_crashes.shape"
      ],
      "metadata": {
        "colab": {
          "base_uri": "https://localhost:8080/"
        },
        "id": "-8pfMobS1Psl",
        "outputId": "70e71f0e-73be-483a-b847-cfb95a0036fc"
      },
      "execution_count": null,
      "outputs": [
        {
          "output_type": "execute_result",
          "data": {
            "text/plain": [
              "(3981, 19)"
            ]
          },
          "metadata": {},
          "execution_count": 19
        }
      ]
    },
    {
      "cell_type": "code",
      "source": [
        "print(plane_crashes.sample(5).to_string())"
      ],
      "metadata": {
        "colab": {
          "base_uri": "https://localhost:8080/"
        },
        "id": "QbobG05k1Wfl",
        "outputId": "6deb5192-9d7f-4dcb-c2eb-4cdea5554035"
      },
      "execution_count": null,
      "outputs": [
        {
          "output_type": "stream",
          "name": "stdout",
          "text": [
            "                   Date  Time                            Location                             Operator Flight #                          Route                    AC  Type Registration      cn / ln                      Aboard                 Fatalities Ground                                                                                                                                                                                                                                                                                                                                                                                                                    Summary  Aboard_Count  Fatalities_Count                   From           To                                       From_pt                           To_pt\n",
            "154   November 25, 1932     ?                  Marianna, Arkansas                       Hunter Airways        ?  Little Rock, AR - Memphis, TN             Travel Air 6000       NC369M         2020     2 (passengers:1 crew:1)    2 (passengers:1 crew:1)      0                                                                                                                                                                                                                                                                                                                         Became lost and circled until the plane struck an oak tree and crashed onto a island in the bayou.           2.0               2.0        Little Rock, AR  Memphis, TN                POINT (-92.2896267 34.7465071)  POINT (-90.0517638 35.1460249)\n",
            "3966  November 06, 2022  0853                    Bukoba, Tanzania                        Precision Air    PW494          Dar es-Salaam -Bukoba                  ATR 42-500       5H-PWF          819  43 (passengers:39 crew:39)  19 (passengers:17 crew:2)      0  While on final approach to Bukoba Airport, the crew encountered poor visibility due to heavy rain. Tthe airplane descended too low, and crashed into Lake Victoria, about 100 meters short of runway 31. Both pilots were killed. The pilot may have suffered a loss of situational awareness in the bad weather, and may have been trying to land the aircraft quickly out of concern for the developing weather system.          43.0              19.0  Dar es-Salaam -Bukoba          NaN  POINT (39.26232054620827 -6.827985209577307)    POINT (70.3800314 34.220389)\n",
            "3441     March 17, 2002  0802  Off Djibouti, Republic of Djibouti                    Djibouti Airlines        ?  Mogadishu, Somalia - Djibouti                Let 410UVP-E       J2-KBC       912537     4 (passengers:0 crew:4)    4 (passengers:0 crew:4)      0                                                                                                                                                                                                                                                                                                                                                     The cargo plane crashed into the ocean while on approach to Runway 27.           4.0               4.0     Mogadishu, Somalia     Djibouti                  POINT (45.3419183 2.0349312)   POINT (42.8453061 11.8145966)\n",
            "608      March 14, 1947  1530            Mt. Moucherolles, France                           Air France        ?           Lyons - Nice - Paris  Douglas DC-3 (C-47A-90-DL)       F-BAXO        20488   23 (passengers:18 crew:5)  23 (passengers:18 crew:5)      0                                                                                                                                                                                                                                                      Flew into 4,000 foot Mt. Moucherolles, 25 miles south of Grenoble in poor weather. The crash started an avalanche which buried most of the wreckage. Naviation error.          23.0              23.0                  Lyons         Nice                 POINT (-87.8232695 41.811108)    POINT (7.2683912 43.7009358)\n",
            "1113       May 15, 1956  2217            Orleans, Ontario, Canada  Military - Royal Canadian Air Force        ?                Ottawa - Ottawa              CF-100 Mark 4B        18367  C-100/4/267     2 (passengers:0 crew:2)    2 (passengers:0 crew:2)     13                                                      The CF-100 was from the Canadian Air Defense Command which was scrambled to investigate an unidentified transport plane flying in the area. It was suspected the crew's oxygen system malfunctioned on the fighter and the jet crashed into a convent operated by the Grey Nuns of the Cross, at over 680 miles an hour, destroying the three story, 70 room convent.           2.0               2.0                 Ottawa       Ottawa                POINT (-75.6901106 45.4208777)  POINT (-75.6901106 45.4208777)\n"
          ]
        }
      ]
    }
  ]
}