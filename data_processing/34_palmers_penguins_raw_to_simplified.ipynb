{
  "nbformat": 4,
  "nbformat_minor": 0,
  "metadata": {
    "colab": {
      "provenance": [],
      "authorship_tag": "ABX9TyNRXMzpBOLkz5XSbXNyyDkA",
      "include_colab_link": true
    },
    "kernelspec": {
      "name": "python3",
      "display_name": "Python 3"
    },
    "language_info": {
      "name": "python"
    }
  },
  "cells": [
    {
      "cell_type": "markdown",
      "metadata": {
        "id": "view-in-github",
        "colab_type": "text"
      },
      "source": [
        "<a href=\"https://colab.research.google.com/github/StratagemGIS/notebooks/blob/main/data_processing/34_palmers_penguins_raw_to_simplified.ipynb\" target=\"_parent\"><img src=\"https://colab.research.google.com/assets/colab-badge.svg\" alt=\"Open In Colab\"/></a>"
      ]
    },
    {
      "cell_type": "markdown",
      "source": [
        "Vaasudevan Srinivasan 🧑🏻‍💻  \n",
        "StratagemGIS Solutions\n",
        "\n",
        "# Pandas"
      ],
      "metadata": {
        "id": "967tcSzlUpV1"
      }
    },
    {
      "cell_type": "code",
      "source": [
        "penguins_raw_url = 'https://raw.githubusercontent.com/StratagemGIS/datasets/main/table/penguins_raw.csv'\n",
        "penguins_url = 'https://raw.githubusercontent.com/StratagemGIS/datasets/main/table/penguins.csv'"
      ],
      "metadata": {
        "id": "ePtO0tqYD8if"
      },
      "execution_count": null,
      "outputs": []
    },
    {
      "cell_type": "code",
      "source": [
        "import pandas as pd\n",
        "\n",
        "penguins_pd = (\n",
        "    pd.read_csv(penguins_raw_url)\n",
        "      .rename(columns={\n",
        "          'Island': 'island',\n",
        "          'Culmen Length (mm)': 'bill_length_mm',\n",
        "          'Culmen Depth (mm)': 'bill_depth_mm',\n",
        "          'Flipper Length (mm)': 'flipper_length_mm',\n",
        "          'Body Mass (g)': 'body_mass_g',\n",
        "      })\n",
        "      .assign(\n",
        "          species=lambda df_: df_['Species'].str.split(expand=True)[0],\n",
        "          sex=lambda df_: df_['Sex'].str.lower(),\n",
        "          year=lambda df_: pd.to_datetime(df_['Date Egg']).dt.year.astype('int64'),\n",
        "      )\n",
        "    [['species', 'island', 'bill_length_mm', 'bill_depth_mm',\n",
        "      'flipper_length_mm', 'body_mass_g', 'sex', 'year']]\n",
        ")"
      ],
      "metadata": {
        "id": "2fi0To-t2Mdg"
      },
      "execution_count": null,
      "outputs": []
    },
    {
      "cell_type": "code",
      "source": [
        "penguins_pd.equals(pd.read_csv(penguins_url))"
      ],
      "metadata": {
        "colab": {
          "base_uri": "https://localhost:8080/"
        },
        "id": "KcsBdCSwE6Er",
        "outputId": "f342e9c4-b179-452f-99bd-2cf4a9bc0e87"
      },
      "execution_count": null,
      "outputs": [
        {
          "output_type": "execute_result",
          "data": {
            "text/plain": [
              "True"
            ]
          },
          "metadata": {},
          "execution_count": 3
        }
      ]
    },
    {
      "cell_type": "markdown",
      "source": [
        "Vaasudevan Srinivasan 🧑🏻‍💻  \n",
        "StratagemGIS Solutions\n",
        "\n",
        "# Polars"
      ],
      "metadata": {
        "id": "jPwT-qlvUrYD"
      }
    },
    {
      "cell_type": "code",
      "source": [
        "penguins_raw_url = 'https://raw.githubusercontent.com/StratagemGIS/datasets/main/table/penguins_raw.csv'\n",
        "penguins_url = 'https://raw.githubusercontent.com/StratagemGIS/datasets/main/table/penguins.csv'"
      ],
      "metadata": {
        "id": "PsntUJcpU5YK"
      },
      "execution_count": null,
      "outputs": []
    },
    {
      "cell_type": "code",
      "source": [
        "import polars as pl\n",
        "\n",
        "penguins_pl = (\n",
        "    pl.read_csv(penguins_raw_url, null_values='NA')\n",
        "      .rename({\n",
        "          'Island': 'island',\n",
        "          'Culmen Length (mm)': 'bill_length_mm',\n",
        "          'Culmen Depth (mm)': 'bill_depth_mm',\n",
        "          'Flipper Length (mm)': 'flipper_length_mm',\n",
        "          'Body Mass (g)': 'body_mass_g',\n",
        "      })\n",
        "      .with_columns([\n",
        "          pl.col('Species').str.split(' ').list.get(0).alias('species'),\n",
        "          pl.col('Sex').str.to_lowercase().alias('sex'),\n",
        "          pl.col('Date Egg').str.to_datetime().dt.year().cast(pl.Int64).alias('year'),\n",
        "      ])\n",
        "      .select([\n",
        "          'species', 'island', 'bill_length_mm', 'bill_depth_mm',\n",
        "          'flipper_length_mm', 'body_mass_g', 'sex', 'year'\n",
        "      ])\n",
        ")"
      ],
      "metadata": {
        "id": "FJOXWoIyRUmY"
      },
      "execution_count": null,
      "outputs": []
    },
    {
      "cell_type": "code",
      "source": [
        "penguins_pl.equals(pl.read_csv(penguins_url, null_values='NA'))"
      ],
      "metadata": {
        "colab": {
          "base_uri": "https://localhost:8080/"
        },
        "id": "J3cbaNj12JLN",
        "outputId": "332aab1e-edb6-4e37-e8b7-97a1146320ea"
      },
      "execution_count": null,
      "outputs": [
        {
          "output_type": "execute_result",
          "data": {
            "text/plain": [
              "True"
            ]
          },
          "metadata": {},
          "execution_count": 6
        }
      ]
    }
  ]
}