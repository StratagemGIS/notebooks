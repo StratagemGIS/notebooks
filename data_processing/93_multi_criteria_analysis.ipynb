{
  "nbformat": 4,
  "nbformat_minor": 0,
  "metadata": {
    "colab": {
      "provenance": [],
      "authorship_tag": "ABX9TyNMgZTcyOIw3PdC9R0GdcIG",
      "include_colab_link": true
    },
    "kernelspec": {
      "name": "python3",
      "display_name": "Python 3"
    },
    "language_info": {
      "name": "python"
    }
  },
  "cells": [
    {
      "cell_type": "markdown",
      "metadata": {
        "id": "view-in-github",
        "colab_type": "text"
      },
      "source": [
        "<a href=\"https://colab.research.google.com/github/StratagemGIS/notebooks/blob/main/data_processing/93_multi_criteria_analysis.ipynb\" target=\"_parent\"><img src=\"https://colab.research.google.com/assets/colab-badge.svg\" alt=\"Open In Colab\"/></a>"
      ]
    },
    {
      "cell_type": "markdown",
      "source": [
        "Vaasudevan Srinivasan 🧑🏻‍💻  \n",
        "StratagemGIS Solutions"
      ],
      "metadata": {
        "id": "sap1TqkNAvYC"
      }
    },
    {
      "cell_type": "code",
      "source": [
        "%%capture\n",
        "!wget \"https://github.com/StratagemGIS/datasets/raw/refs/heads/main/vector/multi-criteria-analysis.gpkg.zip\"\n",
        "!unzip multi-criteria-analysis.gpkg.zip\n",
        "\n",
        "!apt install gdal-bin"
      ],
      "metadata": {
        "id": "nP25H5Pg4IZB"
      },
      "execution_count": null,
      "outputs": []
    },
    {
      "cell_type": "code",
      "source": [
        "%%bash\n",
        "\n",
        "for layer in highways schools residential; do\n",
        "\n",
        "    gdal_rasterize \\\n",
        "        -burn 1 -ts 25000 25000 -a_nodata 0 \\\n",
        "        -te -13810349.9621 6292844.9067 -13788458.5056 6315905.3467 \\\n",
        "        -of GTiff -ot Byte \\\n",
        "        -co BIGTIFF=IF_NEEDED -co COMPRESS=ZSTD \\\n",
        "        -l \"$layer\" \\\n",
        "        \"multi-criteria-analysis.gpkg\" \\\n",
        "        \"${layer}.tif\";\n",
        "\n",
        "    if [ \"$layer\" != \"residential\" ]; then\n",
        "\n",
        "        gdal_proximity.py \\\n",
        "            -srcband 1 -distunits GEO -maxdist 2500 \\\n",
        "            -of GTiff -ot Float32 \\\n",
        "            -co BIGTIFF=IF_NEEDED -co COMPRESS=NONE \\\n",
        "            \"${layer}.tif\" \\\n",
        "            \"${layer}_proxy.tif\";\n",
        "\n",
        "        gdal_calc.py \\\n",
        "            -A \"${layer}_proxy.tif\" \\\n",
        "            --outfile=\"${layer}_rank.tif\" \\\n",
        "            --creation-option COMPRESS=ZSTD \\\n",
        "            --calc=\"(A <= 500) * 100 + (A <= 2500) * 50 + (A > 2500) * 1\";\n",
        "\n",
        "    fi\n",
        "\n",
        "done"
      ],
      "metadata": {
        "id": "M-nDMAti2_s3"
      },
      "execution_count": null,
      "outputs": []
    },
    {
      "cell_type": "code",
      "source": [
        "%%bash\n",
        "\n",
        "gdal_calc.py \\\n",
        "    -A \"highways_rank.tif\" -B \"schools_rank.tif\" -C \"residential.tif\" \\\n",
        "    --outfile=\"multi_criteria_analysis.tif\" \\\n",
        "    --creation-option COMPRESS=ZSTD \\\n",
        "    --calc=\"A + (B * 10) * C\""
      ],
      "metadata": {
        "id": "SB5hCuOx9GEC"
      },
      "execution_count": null,
      "outputs": []
    },
    {
      "cell_type": "code",
      "source": [],
      "metadata": {
        "id": "G59xoPr1t1CH"
      },
      "execution_count": null,
      "outputs": []
    }
  ]
}