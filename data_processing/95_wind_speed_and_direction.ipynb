{
  "nbformat": 4,
  "nbformat_minor": 0,
  "metadata": {
    "colab": {
      "provenance": [],
      "authorship_tag": "ABX9TyPquDK9K9aE39WWoZVhc05q",
      "include_colab_link": true
    },
    "kernelspec": {
      "name": "python3",
      "display_name": "Python 3"
    },
    "language_info": {
      "name": "python"
    }
  },
  "cells": [
    {
      "cell_type": "markdown",
      "metadata": {
        "id": "view-in-github",
        "colab_type": "text"
      },
      "source": [
        "<a href=\"https://colab.research.google.com/github/StratagemGIS/notebooks/blob/main/data_processing/95_wind_speed_and_direction.ipynb\" target=\"_parent\"><img src=\"https://colab.research.google.com/assets/colab-badge.svg\" alt=\"Open In Colab\"/></a>"
      ]
    },
    {
      "cell_type": "markdown",
      "source": [
        "Vaasudevan Srinivasan 🧑🏻‍💻  \n",
        "StratagemGIS Solutions"
      ],
      "metadata": {
        "id": "sap1TqkNAvYC"
      }
    },
    {
      "cell_type": "code",
      "source": [
        "%%capture\n",
        "!pip install cartopy cfgrib"
      ],
      "metadata": {
        "id": "sqYBFSAuAhb4"
      },
      "execution_count": 1,
      "outputs": []
    },
    {
      "cell_type": "code",
      "execution_count": 2,
      "metadata": {
        "id": "SDVIZpxFALD2"
      },
      "outputs": [],
      "source": [
        "import cartopy.crs as ccrs\n",
        "import imageio\n",
        "import matplotlib.pyplot as plt\n",
        "import numpy as np\n",
        "import xarray as xr\n",
        "from tqdm import trange"
      ]
    },
    {
      "cell_type": "code",
      "source": [
        "ds = xr.load_dataset(\n",
        "    'March2024_windcomponents_NB.grib',\n",
        "    engine='cfgrib',\n",
        "    decode_timedelta=False,\n",
        ")"
      ],
      "metadata": {
        "id": "A-PNXX_5Af9I"
      },
      "execution_count": 3,
      "outputs": []
    },
    {
      "cell_type": "code",
      "source": [
        "lats = ds.variables['latitude']\n",
        "lons = ds.variables['longitude']\n",
        "lon, lat = np.meshgrid(lons, lats)\n",
        "\n",
        "u10 = ds.sel(time='2024-03-10').u10.to_numpy()\n",
        "v10 = ds.sel(time='2024-03-10').v10.to_numpy()\n",
        "ws = np.sqrt(u10 ** 2 + v10 ** 2)"
      ],
      "metadata": {
        "id": "YQEm58gR0kSH"
      },
      "execution_count": 4,
      "outputs": []
    },
    {
      "cell_type": "code",
      "source": [
        "for i in trange(24):\n",
        "\n",
        "    fig = plt.figure(figsize=(20, 15))\n",
        "    ax = plt.axes(projection=ccrs.PlateCarree())\n",
        "    ax.coastlines(resolution='10m', linewidth=1)\n",
        "\n",
        "    c_inv = np.arange(0,14,1)\n",
        "    plt.contourf(lon, lat, ws[i], c_inv, transform=ccrs.PlateCarree(), cmap=plt.cm.jet)\n",
        "    plt.title(f'ERA5 Wind Speed and Direction for NB: 2024-03-10 {i:02}:00 hrs', size=16)\n",
        "    cb = plt.colorbar(ax=ax, orientation='vertical', pad=0.02, aspect=16, shrink=0.8)\n",
        "    cb.set_label('m/s',size=14,rotation=0,labelpad=15)\n",
        "    cb.ax.tick_params(labelsize=10)\n",
        "    qv = plt.quiver(lon, lat, u10[i], v10[i], scale=350, color='black')\n",
        "\n",
        "    plt.savefig(f'{i}.png', bbox_inches='tight', dpi=300)\n",
        "    plt.close()"
      ],
      "metadata": {
        "id": "lGXFiJBnBDaj",
        "colab": {
          "base_uri": "https://localhost:8080/"
        },
        "outputId": "44dba6e5-3395-41ba-9971-629cbadea975"
      },
      "execution_count": 6,
      "outputs": [
        {
          "output_type": "stream",
          "name": "stderr",
          "text": [
            "100%|██████████| 24/24 [00:47<00:00,  1.99s/it]\n"
          ]
        }
      ]
    },
    {
      "cell_type": "code",
      "source": [
        "images = []\n",
        "for filename in [f'{i}.png' for i in trange(24)]:\n",
        "    img_data = imageio.v2.imread(filename)\n",
        "    images.append(img_data)\n",
        "imageio.mimsave('movie.gif', images, duration=200, loop=0)"
      ],
      "metadata": {
        "colab": {
          "base_uri": "https://localhost:8080/"
        },
        "id": "KGfWOfVX0sCK",
        "outputId": "68002be7-feeb-42d2-a812-cd7c4b1d9ccc"
      },
      "execution_count": 7,
      "outputs": [
        {
          "output_type": "stream",
          "name": "stderr",
          "text": [
            "100%|██████████| 24/24 [00:00<00:00, 77612.41it/s]\n"
          ]
        }
      ]
    },
    {
      "cell_type": "code",
      "source": [],
      "metadata": {
        "id": "o4efJ0dv3PHP"
      },
      "execution_count": null,
      "outputs": []
    }
  ]
}