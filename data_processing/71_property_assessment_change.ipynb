{
  "nbformat": 4,
  "nbformat_minor": 0,
  "metadata": {
    "colab": {
      "provenance": [],
      "authorship_tag": "ABX9TyMCnbtUWWokaiEFrA5FqDvW",
      "include_colab_link": true
    },
    "kernelspec": {
      "name": "python3",
      "display_name": "Python 3"
    },
    "language_info": {
      "name": "python"
    }
  },
  "cells": [
    {
      "cell_type": "markdown",
      "metadata": {
        "id": "view-in-github",
        "colab_type": "text"
      },
      "source": [
        "<a href=\"https://colab.research.google.com/github/StratagemGIS/notebooks/blob/main/data_processing/71_property_assessment_change.ipynb\" target=\"_parent\"><img src=\"https://colab.research.google.com/assets/colab-badge.svg\" alt=\"Open In Colab\"/></a>"
      ]
    },
    {
      "cell_type": "markdown",
      "source": [
        "Vaasudevan Srinivasan 🧑🏻‍💻  \n",
        "StratagemGIS Solutions"
      ],
      "metadata": {
        "id": "di46jujAZ_NL"
      }
    },
    {
      "cell_type": "code",
      "execution_count": null,
      "metadata": {
        "id": "vZFFme0MYy46"
      },
      "outputs": [],
      "source": [
        "import itertools\n",
        "\n",
        "import geopandas as gpd\n",
        "import imageio\n",
        "import matplotlib.pyplot as plt\n",
        "import pooch\n",
        "from shapely.geometry import box"
      ]
    },
    {
      "cell_type": "code",
      "source": [
        "assessments_file = pooch.retrieve(\n",
        "    'https://github.com/StratagemGIS/datasets/raw/main/vector/geonb_property_assessment.feather',\n",
        "    known_hash='37879e95a234085249c23b7217ac4654e02730a845d64671a2ea1a87b6e94652'\n",
        ")"
      ],
      "metadata": {
        "id": "DeF7Xjgfad3S"
      },
      "execution_count": null,
      "outputs": []
    },
    {
      "cell_type": "code",
      "source": [
        "years = list(itertools.pairwise(map(str, range(2018, 2025))))\n",
        "\n",
        "extent = box(*[\n",
        "    2486790.94054768281057477,\n",
        "    7437920.02525833249092102,\n",
        "    2490199.54119797190651298,\n",
        "    7439764.25761017389595509\n",
        "])\n",
        "\n",
        "df = (\n",
        "    gpd.read_feather(assessments_file)\n",
        "    .query('geometry.within(@extent)')\n",
        "    .dropna()\n",
        "    .reset_index(drop=True)\n",
        ")"
      ],
      "metadata": {
        "id": "cgXRoY8LaC4m"
      },
      "execution_count": null,
      "outputs": []
    },
    {
      "cell_type": "code",
      "source": [
        "plt.rcParams['axes.formatter.limits'] = (-5, 12)\n",
        "for ix, (a, b) in enumerate(years):\n",
        "    df[f'{b}_{a}'] = df[b] - df[a]\n",
        "    df.plot(column=f'{b}_{a}', cmap='Spectral', figsize=(10, 10), legend=True, legend_kwds={'shrink': 0.4})\n",
        "    plt.title(f'Property Assessment Price Change between {b} and {a}')\n",
        "    plt.axis('off')\n",
        "    plt.savefig(f'image{ix}.png', bbox_inches='tight', dpi=600)\n",
        "    plt.close()"
      ],
      "metadata": {
        "id": "UtuXce0Njtt6"
      },
      "execution_count": null,
      "outputs": []
    },
    {
      "cell_type": "code",
      "source": [
        "%%capture\n",
        "!ffmpeg -f image2 -framerate 1 -i image%d.png property_assessment_change.gif"
      ],
      "metadata": {
        "id": "1_91Te61nwm_"
      },
      "execution_count": null,
      "outputs": []
    }
  ]
}