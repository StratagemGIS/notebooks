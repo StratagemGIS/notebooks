{
  "nbformat": 4,
  "nbformat_minor": 0,
  "metadata": {
    "colab": {
      "provenance": [],
      "authorship_tag": "ABX9TyOTG/pIdm5RVwrvQlGibZT2",
      "include_colab_link": true
    },
    "kernelspec": {
      "name": "python3",
      "display_name": "Python 3"
    },
    "language_info": {
      "name": "python"
    }
  },
  "cells": [
    {
      "cell_type": "markdown",
      "metadata": {
        "id": "view-in-github",
        "colab_type": "text"
      },
      "source": [
        "<a href=\"https://colab.research.google.com/github/StratagemGIS/notebooks/blob/main/data_processing/02_download_using_pooch.ipynb\" target=\"_parent\"><img src=\"https://colab.research.google.com/assets/colab-badge.svg\" alt=\"Open In Colab\"/></a>"
      ]
    },
    {
      "cell_type": "code",
      "source": [
        "!shasum -a 256 oromocto_jun2021_composite.tif"
      ],
      "metadata": {
        "colab": {
          "base_uri": "https://localhost:8080/"
        },
        "id": "beui-5b2-_-M",
        "outputId": "41021a05-d9df-4836-a8be-b7e8685b907a"
      },
      "execution_count": 1,
      "outputs": [
        {
          "output_type": "stream",
          "name": "stdout",
          "text": [
            "e08df41e0f301d684f9ed1a487b9abccaf431fd3df25fa5f10da82d44e6b733d  oromocto_jun2021_composite.tif\n"
          ]
        }
      ]
    },
    {
      "cell_type": "code",
      "execution_count": 2,
      "metadata": {
        "id": "Mn7yx1sD-v_H"
      },
      "outputs": [],
      "source": [
        "import pooch"
      ]
    },
    {
      "cell_type": "markdown",
      "source": [
        "# Downloading a file"
      ],
      "metadata": {
        "id": "qxSRs3sPCiAq"
      }
    },
    {
      "cell_type": "code",
      "source": [
        "sentinel2_img = pooch.retrieve(\n",
        "    'https://github.com/StratagemGIS/datasets/raw/main/raster/oromocto_jun2021_composite.tif',\n",
        "    known_hash='e08df41e0f301d684f9ed1a487b9abccaf431fd3df25fa5f10da82d44e6b733d'\n",
        ")"
      ],
      "metadata": {
        "colab": {
          "base_uri": "https://localhost:8080/"
        },
        "id": "8zZVAxn5_ADB",
        "outputId": "7806c425-b7b5-4079-eece-33d34155deec"
      },
      "execution_count": 3,
      "outputs": [
        {
          "output_type": "stream",
          "name": "stderr",
          "text": [
            "Downloading data from 'https://github.com/StratagemGIS/datasets/raw/main/raster/oromocto_jun2021_composite.tif' to file '/root/.cache/pooch/1b7989bb99434afca6e9eaa37ae6579a-oromocto_jun2021_composite.tif'.\n"
          ]
        }
      ]
    },
    {
      "cell_type": "code",
      "source": [
        "sentinel2_img"
      ],
      "metadata": {
        "colab": {
          "base_uri": "https://localhost:8080/",
          "height": 35
        },
        "id": "EqSTcRxZ_AHy",
        "outputId": "71bbb350-5c84-4cf0-fff2-0064cc493919"
      },
      "execution_count": 4,
      "outputs": [
        {
          "output_type": "execute_result",
          "data": {
            "text/plain": [
              "'/root/.cache/pooch/1b7989bb99434afca6e9eaa37ae6579a-oromocto_jun2021_composite.tif'"
            ],
            "application/vnd.google.colaboratory.intrinsic+json": {
              "type": "string"
            }
          },
          "metadata": {},
          "execution_count": 4
        }
      ]
    },
    {
      "cell_type": "markdown",
      "source": [
        "# Download and unzip"
      ],
      "metadata": {
        "id": "rTqqHndDCkVa"
      }
    },
    {
      "cell_type": "code",
      "source": [
        "nb_counties = pooch.retrieve(\n",
        "    'https://github.com/StratagemGIS/datasets/raw/main/vector/geonb_county-comte_shp.zip',\n",
        "    known_hash='2abbb813b5b78f721ea5cc75f4f29a1f27da984476c74fe9f3b3026f41427d6a',\n",
        "    processor=pooch.Unzip()\n",
        ")"
      ],
      "metadata": {
        "colab": {
          "base_uri": "https://localhost:8080/"
        },
        "id": "Gw5Ci03A_12y",
        "outputId": "35e1d9d7-f960-4300-dfd8-41b1815585a9"
      },
      "execution_count": 5,
      "outputs": [
        {
          "output_type": "stream",
          "name": "stderr",
          "text": [
            "Downloading data from 'https://github.com/StratagemGIS/datasets/raw/main/vector/geonb_county-comte_shp.zip' to file '/root/.cache/pooch/2d4dde77d5ec90761cad3ae459fab258-geonb_county-comte_shp.zip'.\n",
            "Unzipping contents of '/root/.cache/pooch/2d4dde77d5ec90761cad3ae459fab258-geonb_county-comte_shp.zip' to '/root/.cache/pooch/2d4dde77d5ec90761cad3ae459fab258-geonb_county-comte_shp.zip.unzip'\n"
          ]
        }
      ]
    },
    {
      "cell_type": "code",
      "source": [
        "nb_counties"
      ],
      "metadata": {
        "colab": {
          "base_uri": "https://localhost:8080/"
        },
        "id": "xeEvpZxhBVOI",
        "outputId": "a7991457-e3ae-42a9-b2bc-30284f5253da"
      },
      "execution_count": 6,
      "outputs": [
        {
          "output_type": "execute_result",
          "data": {
            "text/plain": [
              "['/root/.cache/pooch/2d4dde77d5ec90761cad3ae459fab258-geonb_county-comte_shp.zip.unzip/geonb_county-comte.dbf',\n",
              " '/root/.cache/pooch/2d4dde77d5ec90761cad3ae459fab258-geonb_county-comte_shp.zip.unzip/geonb_county-comte.shp.xml',\n",
              " '/root/.cache/pooch/2d4dde77d5ec90761cad3ae459fab258-geonb_county-comte_shp.zip.unzip/geonb_county-comte.prj',\n",
              " '/root/.cache/pooch/2d4dde77d5ec90761cad3ae459fab258-geonb_county-comte_shp.zip.unzip/geonb_county-comte.cpg',\n",
              " '/root/.cache/pooch/2d4dde77d5ec90761cad3ae459fab258-geonb_county-comte_shp.zip.unzip/geonb_county-comte.shp',\n",
              " '/root/.cache/pooch/2d4dde77d5ec90761cad3ae459fab258-geonb_county-comte_shp.zip.unzip/geonb_county-comte.sbx',\n",
              " '/root/.cache/pooch/2d4dde77d5ec90761cad3ae459fab258-geonb_county-comte_shp.zip.unzip/lisez_moi.txt',\n",
              " '/root/.cache/pooch/2d4dde77d5ec90761cad3ae459fab258-geonb_county-comte_shp.zip.unzip/read_me.txt',\n",
              " '/root/.cache/pooch/2d4dde77d5ec90761cad3ae459fab258-geonb_county-comte_shp.zip.unzip/geonb_county-comte.shx',\n",
              " '/root/.cache/pooch/2d4dde77d5ec90761cad3ae459fab258-geonb_county-comte_shp.zip.unzip/license_licence.txt',\n",
              " '/root/.cache/pooch/2d4dde77d5ec90761cad3ae459fab258-geonb_county-comte_shp.zip.unzip/geonb_county-comte.sbn',\n",
              " '/root/.cache/pooch/2d4dde77d5ec90761cad3ae459fab258-geonb_county-comte_shp.zip.unzip/metadata/geonb_county_metadata.xml']"
            ]
          },
          "metadata": {},
          "execution_count": 6
        }
      ]
    }
  ]
}