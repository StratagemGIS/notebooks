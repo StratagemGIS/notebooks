{
  "nbformat": 4,
  "nbformat_minor": 0,
  "metadata": {
    "colab": {
      "provenance": [],
      "authorship_tag": "ABX9TyOGGyr/Iw7x0jbz06KgFRma",
      "include_colab_link": true
    },
    "kernelspec": {
      "name": "python3",
      "display_name": "Python 3"
    },
    "language_info": {
      "name": "python"
    }
  },
  "cells": [
    {
      "cell_type": "markdown",
      "metadata": {
        "id": "view-in-github",
        "colab_type": "text"
      },
      "source": [
        "<a href=\"https://colab.research.google.com/github/StratagemGIS/notebooks/blob/main/data_processing/88_road_network_stats_qa_qc.ipynb\" target=\"_parent\"><img src=\"https://colab.research.google.com/assets/colab-badge.svg\" alt=\"Open In Colab\"/></a>"
      ]
    },
    {
      "cell_type": "markdown",
      "source": [
        "Vaasudevan Srinivasan 🧑🏻‍💻  \n",
        "StratagemGIS Solutions"
      ],
      "metadata": {
        "id": "sap1TqkNAvYC"
      }
    },
    {
      "cell_type": "code",
      "source": [
        "%%capture\n",
        "!pip install momepy"
      ],
      "metadata": {
        "id": "sqYBFSAuAhb4"
      },
      "execution_count": null,
      "outputs": []
    },
    {
      "cell_type": "code",
      "execution_count": null,
      "metadata": {
        "id": "SDVIZpxFALD2"
      },
      "outputs": [],
      "source": [
        "import geopandas as gpd\n",
        "import momepy\n",
        "import networkx as nx\n",
        "from more_itertools import collapse\n",
        "from shapely.geometry import Point\n",
        "from tqdm import tqdm"
      ]
    },
    {
      "cell_type": "code",
      "source": [
        "# download the NBRN dataset and upload it here\n",
        "# as the dataset is updated daily\n",
        "nbrn = gpd.read_file(\n",
        "    'geonb_nbrn-rrnb_shp.zip',\n",
        "    layer='geonb_nbrn-rrnb_road-route',\n",
        "    engine='pyogrio',\n",
        "    use_arrow=True\n",
        ").explode()\n",
        "\n",
        "graph = momepy.gdf_to_nx(nbrn)"
      ],
      "metadata": {
        "id": "A-PNXX_5Af9I"
      },
      "execution_count": null,
      "outputs": []
    },
    {
      "cell_type": "markdown",
      "source": [
        "# Basic Stats"
      ],
      "metadata": {
        "id": "-3vWzcqBjIau"
      }
    },
    {
      "cell_type": "code",
      "source": [
        "nbrn.shape"
      ],
      "metadata": {
        "colab": {
          "base_uri": "https://localhost:8080/"
        },
        "id": "bIJsmLiujKTz",
        "outputId": "8f916d39-6a9a-43d9-faac-5bb942ee9152"
      },
      "execution_count": null,
      "outputs": [
        {
          "output_type": "execute_result",
          "data": {
            "text/plain": [
              "(69683, 38)"
            ]
          },
          "metadata": {},
          "execution_count": 4
        }
      ]
    },
    {
      "cell_type": "code",
      "source": [
        "len(graph.edges), len(graph.nodes)"
      ],
      "metadata": {
        "colab": {
          "base_uri": "https://localhost:8080/"
        },
        "id": "3ueRXK31jLl0",
        "outputId": "75df89ad-58df-4029-e1fd-bbb574633671"
      },
      "execution_count": null,
      "outputs": [
        {
          "output_type": "execute_result",
          "data": {
            "text/plain": [
              "(69683, 58381)"
            ]
          },
          "metadata": {},
          "execution_count": 5
        }
      ]
    },
    {
      "cell_type": "code",
      "source": [
        "nbrn.TRAFFICDIR.value_counts()"
      ],
      "metadata": {
        "colab": {
          "base_uri": "https://localhost:8080/",
          "height": 207
        },
        "id": "QwnZfEA7vL8M",
        "outputId": "f3c088b4-59b8-4a9f-d494-841921e9e51b"
      },
      "execution_count": null,
      "outputs": [
        {
          "output_type": "execute_result",
          "data": {
            "text/plain": [
              "TRAFFICDIR\n",
              "Both Directions       64038\n",
              "Same Direction         3732\n",
              "Opposite Direction     1913\n",
              "Name: count, dtype: int64"
            ],
            "text/html": [
              "<div>\n",
              "<style scoped>\n",
              "    .dataframe tbody tr th:only-of-type {\n",
              "        vertical-align: middle;\n",
              "    }\n",
              "\n",
              "    .dataframe tbody tr th {\n",
              "        vertical-align: top;\n",
              "    }\n",
              "\n",
              "    .dataframe thead th {\n",
              "        text-align: right;\n",
              "    }\n",
              "</style>\n",
              "<table border=\"1\" class=\"dataframe\">\n",
              "  <thead>\n",
              "    <tr style=\"text-align: right;\">\n",
              "      <th></th>\n",
              "      <th>count</th>\n",
              "    </tr>\n",
              "    <tr>\n",
              "      <th>TRAFFICDIR</th>\n",
              "      <th></th>\n",
              "    </tr>\n",
              "  </thead>\n",
              "  <tbody>\n",
              "    <tr>\n",
              "      <th>Both Directions</th>\n",
              "      <td>64038</td>\n",
              "    </tr>\n",
              "    <tr>\n",
              "      <th>Same Direction</th>\n",
              "      <td>3732</td>\n",
              "    </tr>\n",
              "    <tr>\n",
              "      <th>Opposite Direction</th>\n",
              "      <td>1913</td>\n",
              "    </tr>\n",
              "  </tbody>\n",
              "</table>\n",
              "</div><br><label><b>dtype:</b> int64</label>"
            ]
          },
          "metadata": {},
          "execution_count": 6
        }
      ]
    },
    {
      "cell_type": "code",
      "source": [
        "# Top five lengthiest roads within Fredericton City\n",
        "(\n",
        "    nbrn\n",
        "    .query('STREETNAME != \"Unnamed\"')\n",
        "    .query('PLACE_NAME == \"Fredericton\"')\n",
        "    .query('ST_TYPE == \"Street\"')\n",
        "    .dissolve(by='STREETNAME')\n",
        "    .assign(road_length_km=lambda df_: df_.geometry.length / 1000)\n",
        "    .sort_values('road_length_km', ascending=False)\n",
        "    .reset_index()\n",
        "    [['STREETNAME', 'road_length_km']]\n",
        "    .head(5)\n",
        ")"
      ],
      "metadata": {
        "colab": {
          "base_uri": "https://localhost:8080/",
          "height": 204
        },
        "id": "E7QbtrA4xkiL",
        "outputId": "01171255-bf67-4199-d33d-a4ebf4bfe853"
      },
      "execution_count": null,
      "outputs": [
        {
          "output_type": "execute_result",
          "data": {
            "text/plain": [
              "            STREETNAME  road_length_km\n",
              "0        REGENT Street        8.933184\n",
              "1      PROSPECT Street        6.905208\n",
              "2        CANADA Street        6.496190\n",
              "3  SAINT MARY'S Street        5.532170\n",
              "4         RIVER Street        4.231963"
            ],
            "text/html": [
              "\n",
              "  <div id=\"df-267d2b1e-38af-4e15-8ae4-2ee3e2a1e3f2\" class=\"colab-df-container\">\n",
              "    <div>\n",
              "<style scoped>\n",
              "    .dataframe tbody tr th:only-of-type {\n",
              "        vertical-align: middle;\n",
              "    }\n",
              "\n",
              "    .dataframe tbody tr th {\n",
              "        vertical-align: top;\n",
              "    }\n",
              "\n",
              "    .dataframe thead th {\n",
              "        text-align: right;\n",
              "    }\n",
              "</style>\n",
              "<table border=\"1\" class=\"dataframe\">\n",
              "  <thead>\n",
              "    <tr style=\"text-align: right;\">\n",
              "      <th></th>\n",
              "      <th>STREETNAME</th>\n",
              "      <th>road_length_km</th>\n",
              "    </tr>\n",
              "  </thead>\n",
              "  <tbody>\n",
              "    <tr>\n",
              "      <th>0</th>\n",
              "      <td>REGENT Street</td>\n",
              "      <td>8.933184</td>\n",
              "    </tr>\n",
              "    <tr>\n",
              "      <th>1</th>\n",
              "      <td>PROSPECT Street</td>\n",
              "      <td>6.905208</td>\n",
              "    </tr>\n",
              "    <tr>\n",
              "      <th>2</th>\n",
              "      <td>CANADA Street</td>\n",
              "      <td>6.496190</td>\n",
              "    </tr>\n",
              "    <tr>\n",
              "      <th>3</th>\n",
              "      <td>SAINT MARY'S Street</td>\n",
              "      <td>5.532170</td>\n",
              "    </tr>\n",
              "    <tr>\n",
              "      <th>4</th>\n",
              "      <td>RIVER Street</td>\n",
              "      <td>4.231963</td>\n",
              "    </tr>\n",
              "  </tbody>\n",
              "</table>\n",
              "</div>\n",
              "    <div class=\"colab-df-buttons\">\n",
              "\n",
              "  <div class=\"colab-df-container\">\n",
              "    <button class=\"colab-df-convert\" onclick=\"convertToInteractive('df-267d2b1e-38af-4e15-8ae4-2ee3e2a1e3f2')\"\n",
              "            title=\"Convert this dataframe to an interactive table.\"\n",
              "            style=\"display:none;\">\n",
              "\n",
              "  <svg xmlns=\"http://www.w3.org/2000/svg\" height=\"24px\" viewBox=\"0 -960 960 960\">\n",
              "    <path d=\"M120-120v-720h720v720H120Zm60-500h600v-160H180v160Zm220 220h160v-160H400v160Zm0 220h160v-160H400v160ZM180-400h160v-160H180v160Zm440 0h160v-160H620v160ZM180-180h160v-160H180v160Zm440 0h160v-160H620v160Z\"/>\n",
              "  </svg>\n",
              "    </button>\n",
              "\n",
              "  <style>\n",
              "    .colab-df-container {\n",
              "      display:flex;\n",
              "      gap: 12px;\n",
              "    }\n",
              "\n",
              "    .colab-df-convert {\n",
              "      background-color: #E8F0FE;\n",
              "      border: none;\n",
              "      border-radius: 50%;\n",
              "      cursor: pointer;\n",
              "      display: none;\n",
              "      fill: #1967D2;\n",
              "      height: 32px;\n",
              "      padding: 0 0 0 0;\n",
              "      width: 32px;\n",
              "    }\n",
              "\n",
              "    .colab-df-convert:hover {\n",
              "      background-color: #E2EBFA;\n",
              "      box-shadow: 0px 1px 2px rgba(60, 64, 67, 0.3), 0px 1px 3px 1px rgba(60, 64, 67, 0.15);\n",
              "      fill: #174EA6;\n",
              "    }\n",
              "\n",
              "    .colab-df-buttons div {\n",
              "      margin-bottom: 4px;\n",
              "    }\n",
              "\n",
              "    [theme=dark] .colab-df-convert {\n",
              "      background-color: #3B4455;\n",
              "      fill: #D2E3FC;\n",
              "    }\n",
              "\n",
              "    [theme=dark] .colab-df-convert:hover {\n",
              "      background-color: #434B5C;\n",
              "      box-shadow: 0px 1px 3px 1px rgba(0, 0, 0, 0.15);\n",
              "      filter: drop-shadow(0px 1px 2px rgba(0, 0, 0, 0.3));\n",
              "      fill: #FFFFFF;\n",
              "    }\n",
              "  </style>\n",
              "\n",
              "    <script>\n",
              "      const buttonEl =\n",
              "        document.querySelector('#df-267d2b1e-38af-4e15-8ae4-2ee3e2a1e3f2 button.colab-df-convert');\n",
              "      buttonEl.style.display =\n",
              "        google.colab.kernel.accessAllowed ? 'block' : 'none';\n",
              "\n",
              "      async function convertToInteractive(key) {\n",
              "        const element = document.querySelector('#df-267d2b1e-38af-4e15-8ae4-2ee3e2a1e3f2');\n",
              "        const dataTable =\n",
              "          await google.colab.kernel.invokeFunction('convertToInteractive',\n",
              "                                                    [key], {});\n",
              "        if (!dataTable) return;\n",
              "\n",
              "        const docLinkHtml = 'Like what you see? Visit the ' +\n",
              "          '<a target=\"_blank\" href=https://colab.research.google.com/notebooks/data_table.ipynb>data table notebook</a>'\n",
              "          + ' to learn more about interactive tables.';\n",
              "        element.innerHTML = '';\n",
              "        dataTable['output_type'] = 'display_data';\n",
              "        await google.colab.output.renderOutput(dataTable, element);\n",
              "        const docLink = document.createElement('div');\n",
              "        docLink.innerHTML = docLinkHtml;\n",
              "        element.appendChild(docLink);\n",
              "      }\n",
              "    </script>\n",
              "  </div>\n",
              "\n",
              "\n",
              "<div id=\"df-8cdfe4ed-6989-43b6-97da-1f60104203a7\">\n",
              "  <button class=\"colab-df-quickchart\" onclick=\"quickchart('df-8cdfe4ed-6989-43b6-97da-1f60104203a7')\"\n",
              "            title=\"Suggest charts\"\n",
              "            style=\"display:none;\">\n",
              "\n",
              "<svg xmlns=\"http://www.w3.org/2000/svg\" height=\"24px\"viewBox=\"0 0 24 24\"\n",
              "     width=\"24px\">\n",
              "    <g>\n",
              "        <path d=\"M19 3H5c-1.1 0-2 .9-2 2v14c0 1.1.9 2 2 2h14c1.1 0 2-.9 2-2V5c0-1.1-.9-2-2-2zM9 17H7v-7h2v7zm4 0h-2V7h2v10zm4 0h-2v-4h2v4z\"/>\n",
              "    </g>\n",
              "</svg>\n",
              "  </button>\n",
              "\n",
              "<style>\n",
              "  .colab-df-quickchart {\n",
              "      --bg-color: #E8F0FE;\n",
              "      --fill-color: #1967D2;\n",
              "      --hover-bg-color: #E2EBFA;\n",
              "      --hover-fill-color: #174EA6;\n",
              "      --disabled-fill-color: #AAA;\n",
              "      --disabled-bg-color: #DDD;\n",
              "  }\n",
              "\n",
              "  [theme=dark] .colab-df-quickchart {\n",
              "      --bg-color: #3B4455;\n",
              "      --fill-color: #D2E3FC;\n",
              "      --hover-bg-color: #434B5C;\n",
              "      --hover-fill-color: #FFFFFF;\n",
              "      --disabled-bg-color: #3B4455;\n",
              "      --disabled-fill-color: #666;\n",
              "  }\n",
              "\n",
              "  .colab-df-quickchart {\n",
              "    background-color: var(--bg-color);\n",
              "    border: none;\n",
              "    border-radius: 50%;\n",
              "    cursor: pointer;\n",
              "    display: none;\n",
              "    fill: var(--fill-color);\n",
              "    height: 32px;\n",
              "    padding: 0;\n",
              "    width: 32px;\n",
              "  }\n",
              "\n",
              "  .colab-df-quickchart:hover {\n",
              "    background-color: var(--hover-bg-color);\n",
              "    box-shadow: 0 1px 2px rgba(60, 64, 67, 0.3), 0 1px 3px 1px rgba(60, 64, 67, 0.15);\n",
              "    fill: var(--button-hover-fill-color);\n",
              "  }\n",
              "\n",
              "  .colab-df-quickchart-complete:disabled,\n",
              "  .colab-df-quickchart-complete:disabled:hover {\n",
              "    background-color: var(--disabled-bg-color);\n",
              "    fill: var(--disabled-fill-color);\n",
              "    box-shadow: none;\n",
              "  }\n",
              "\n",
              "  .colab-df-spinner {\n",
              "    border: 2px solid var(--fill-color);\n",
              "    border-color: transparent;\n",
              "    border-bottom-color: var(--fill-color);\n",
              "    animation:\n",
              "      spin 1s steps(1) infinite;\n",
              "  }\n",
              "\n",
              "  @keyframes spin {\n",
              "    0% {\n",
              "      border-color: transparent;\n",
              "      border-bottom-color: var(--fill-color);\n",
              "      border-left-color: var(--fill-color);\n",
              "    }\n",
              "    20% {\n",
              "      border-color: transparent;\n",
              "      border-left-color: var(--fill-color);\n",
              "      border-top-color: var(--fill-color);\n",
              "    }\n",
              "    30% {\n",
              "      border-color: transparent;\n",
              "      border-left-color: var(--fill-color);\n",
              "      border-top-color: var(--fill-color);\n",
              "      border-right-color: var(--fill-color);\n",
              "    }\n",
              "    40% {\n",
              "      border-color: transparent;\n",
              "      border-right-color: var(--fill-color);\n",
              "      border-top-color: var(--fill-color);\n",
              "    }\n",
              "    60% {\n",
              "      border-color: transparent;\n",
              "      border-right-color: var(--fill-color);\n",
              "    }\n",
              "    80% {\n",
              "      border-color: transparent;\n",
              "      border-right-color: var(--fill-color);\n",
              "      border-bottom-color: var(--fill-color);\n",
              "    }\n",
              "    90% {\n",
              "      border-color: transparent;\n",
              "      border-bottom-color: var(--fill-color);\n",
              "    }\n",
              "  }\n",
              "</style>\n",
              "\n",
              "  <script>\n",
              "    async function quickchart(key) {\n",
              "      const quickchartButtonEl =\n",
              "        document.querySelector('#' + key + ' button');\n",
              "      quickchartButtonEl.disabled = true;  // To prevent multiple clicks.\n",
              "      quickchartButtonEl.classList.add('colab-df-spinner');\n",
              "      try {\n",
              "        const charts = await google.colab.kernel.invokeFunction(\n",
              "            'suggestCharts', [key], {});\n",
              "      } catch (error) {\n",
              "        console.error('Error during call to suggestCharts:', error);\n",
              "      }\n",
              "      quickchartButtonEl.classList.remove('colab-df-spinner');\n",
              "      quickchartButtonEl.classList.add('colab-df-quickchart-complete');\n",
              "    }\n",
              "    (() => {\n",
              "      let quickchartButtonEl =\n",
              "        document.querySelector('#df-8cdfe4ed-6989-43b6-97da-1f60104203a7 button');\n",
              "      quickchartButtonEl.style.display =\n",
              "        google.colab.kernel.accessAllowed ? 'block' : 'none';\n",
              "    })();\n",
              "  </script>\n",
              "</div>\n",
              "\n",
              "    </div>\n",
              "  </div>\n"
            ],
            "application/vnd.google.colaboratory.intrinsic+json": {
              "type": "dataframe",
              "summary": "{\n  \"name\": \")\",\n  \"rows\": 5,\n  \"fields\": [\n    {\n      \"column\": \"STREETNAME\",\n      \"properties\": {\n        \"dtype\": \"string\",\n        \"num_unique_values\": 5,\n        \"samples\": [\n          \"PROSPECT Street\",\n          \"RIVER Street\",\n          \"CANADA Street\"\n        ],\n        \"semantic_type\": \"\",\n        \"description\": \"\"\n      }\n    },\n    {\n      \"column\": \"road_length_km\",\n      \"properties\": {\n        \"dtype\": \"number\",\n        \"std\": 1.7416282702038373,\n        \"min\": 4.231962933718799,\n        \"max\": 8.93318443358847,\n        \"num_unique_values\": 5,\n        \"samples\": [\n          6.905207862197277,\n          4.231962933718799,\n          6.49618980584213\n        ],\n        \"semantic_type\": \"\",\n        \"description\": \"\"\n      }\n    }\n  ]\n}"
            }
          },
          "metadata": {},
          "execution_count": 7
        }
      ]
    },
    {
      "cell_type": "code",
      "source": [
        "nbrn.query('ST_TYPE != \"None\"').ST_TYPE.value_counts().head(10).plot.bar();"
      ],
      "metadata": {
        "colab": {
          "base_uri": "https://localhost:8080/",
          "height": 496
        },
        "id": "rfb8ZSbvvM-i",
        "outputId": "f77b23c1-b281-480f-eeca-8f67ff59cef9"
      },
      "execution_count": null,
      "outputs": [
        {
          "output_type": "display_data",
          "data": {
            "text/plain": [
              "<Figure size 640x480 with 1 Axes>"
            ],
            "image/png": "[encoded data removed]"
          },
          "metadata": {}
        }
      ]
    },
    {
      "cell_type": "code",
      "source": [
        "nbrn.ROADCLASS.value_counts().head(10).plot.bar();"
      ],
      "metadata": {
        "colab": {
          "base_uri": "https://localhost:8080/",
          "height": 625
        },
        "id": "mov7XqvevtP2",
        "outputId": "f14fa3c0-0fa4-448f-94c6-b099c513ee94"
      },
      "execution_count": null,
      "outputs": [
        {
          "output_type": "display_data",
          "data": {
            "text/plain": [
              "<Figure size 640x480 with 1 Axes>"
            ],
            "image/png": "[encoded data removed]"
          },
          "metadata": {}
        }
      ]
    },
    {
      "cell_type": "markdown",
      "source": [
        "# Missing Data"
      ],
      "metadata": {
        "id": "lVtGKPO8wLvz"
      }
    },
    {
      "cell_type": "code",
      "source": [
        "(\n",
        "    nbrn.isna()\n",
        "    .sum()\n",
        "    .div(len(nbrn))\n",
        "    .mul(100)\n",
        "    .round(2)\n",
        "    .to_frame()\n",
        "    .reset_index()\n",
        "    .rename(\n",
        "        columns={\n",
        "            'index': 'attribute',\n",
        "            0: 'missing_records_percentage'\n",
        "        }\n",
        "    )\n",
        "    .query('missing_records_percentage != 0')\n",
        "    .reset_index(drop=True)\n",
        ")"
      ],
      "metadata": {
        "colab": {
          "base_uri": "https://localhost:8080/",
          "height": 142
        },
        "id": "HlxzkOX0wNEr",
        "outputId": "8f01521a-d42b-47c2-ab27-b47c96d9fab8"
      },
      "execution_count": null,
      "outputs": [
        {
          "output_type": "execute_result",
          "data": {
            "text/plain": [
              "    attribute  missing_records_percentage\n",
              "0         NID                        0.43\n",
              "1  PLACE_NAME                        0.01\n",
              "2      COUNTY                        0.01"
            ],
            "text/html": [
              "\n",
              "  <div id=\"df-3e2ada9b-bf3e-4597-8ce2-156c0b957b4e\" class=\"colab-df-container\">\n",
              "    <div>\n",
              "<style scoped>\n",
              "    .dataframe tbody tr th:only-of-type {\n",
              "        vertical-align: middle;\n",
              "    }\n",
              "\n",
              "    .dataframe tbody tr th {\n",
              "        vertical-align: top;\n",
              "    }\n",
              "\n",
              "    .dataframe thead th {\n",
              "        text-align: right;\n",
              "    }\n",
              "</style>\n",
              "<table border=\"1\" class=\"dataframe\">\n",
              "  <thead>\n",
              "    <tr style=\"text-align: right;\">\n",
              "      <th></th>\n",
              "      <th>attribute</th>\n",
              "      <th>missing_records_percentage</th>\n",
              "    </tr>\n",
              "  </thead>\n",
              "  <tbody>\n",
              "    <tr>\n",
              "      <th>0</th>\n",
              "      <td>NID</td>\n",
              "      <td>0.43</td>\n",
              "    </tr>\n",
              "    <tr>\n",
              "      <th>1</th>\n",
              "      <td>PLACE_NAME</td>\n",
              "      <td>0.01</td>\n",
              "    </tr>\n",
              "    <tr>\n",
              "      <th>2</th>\n",
              "      <td>COUNTY</td>\n",
              "      <td>0.01</td>\n",
              "    </tr>\n",
              "  </tbody>\n",
              "</table>\n",
              "</div>\n",
              "    <div class=\"colab-df-buttons\">\n",
              "\n",
              "  <div class=\"colab-df-container\">\n",
              "    <button class=\"colab-df-convert\" onclick=\"convertToInteractive('df-3e2ada9b-bf3e-4597-8ce2-156c0b957b4e')\"\n",
              "            title=\"Convert this dataframe to an interactive table.\"\n",
              "            style=\"display:none;\">\n",
              "\n",
              "  <svg xmlns=\"http://www.w3.org/2000/svg\" height=\"24px\" viewBox=\"0 -960 960 960\">\n",
              "    <path d=\"M120-120v-720h720v720H120Zm60-500h600v-160H180v160Zm220 220h160v-160H400v160Zm0 220h160v-160H400v160ZM180-400h160v-160H180v160Zm440 0h160v-160H620v160ZM180-180h160v-160H180v160Zm440 0h160v-160H620v160Z\"/>\n",
              "  </svg>\n",
              "    </button>\n",
              "\n",
              "  <style>\n",
              "    .colab-df-container {\n",
              "      display:flex;\n",
              "      gap: 12px;\n",
              "    }\n",
              "\n",
              "    .colab-df-convert {\n",
              "      background-color: #E8F0FE;\n",
              "      border: none;\n",
              "      border-radius: 50%;\n",
              "      cursor: pointer;\n",
              "      display: none;\n",
              "      fill: #1967D2;\n",
              "      height: 32px;\n",
              "      padding: 0 0 0 0;\n",
              "      width: 32px;\n",
              "    }\n",
              "\n",
              "    .colab-df-convert:hover {\n",
              "      background-color: #E2EBFA;\n",
              "      box-shadow: 0px 1px 2px rgba(60, 64, 67, 0.3), 0px 1px 3px 1px rgba(60, 64, 67, 0.15);\n",
              "      fill: #174EA6;\n",
              "    }\n",
              "\n",
              "    .colab-df-buttons div {\n",
              "      margin-bottom: 4px;\n",
              "    }\n",
              "\n",
              "    [theme=dark] .colab-df-convert {\n",
              "      background-color: #3B4455;\n",
              "      fill: #D2E3FC;\n",
              "    }\n",
              "\n",
              "    [theme=dark] .colab-df-convert:hover {\n",
              "      background-color: #434B5C;\n",
              "      box-shadow: 0px 1px 3px 1px rgba(0, 0, 0, 0.15);\n",
              "      filter: drop-shadow(0px 1px 2px rgba(0, 0, 0, 0.3));\n",
              "      fill: #FFFFFF;\n",
              "    }\n",
              "  </style>\n",
              "\n",
              "    <script>\n",
              "      const buttonEl =\n",
              "        document.querySelector('#df-3e2ada9b-bf3e-4597-8ce2-156c0b957b4e button.colab-df-convert');\n",
              "      buttonEl.style.display =\n",
              "        google.colab.kernel.accessAllowed ? 'block' : 'none';\n",
              "\n",
              "      async function convertToInteractive(key) {\n",
              "        const element = document.querySelector('#df-3e2ada9b-bf3e-4597-8ce2-156c0b957b4e');\n",
              "        const dataTable =\n",
              "          await google.colab.kernel.invokeFunction('convertToInteractive',\n",
              "                                                    [key], {});\n",
              "        if (!dataTable) return;\n",
              "\n",
              "        const docLinkHtml = 'Like what you see? Visit the ' +\n",
              "          '<a target=\"_blank\" href=https://colab.research.google.com/notebooks/data_table.ipynb>data table notebook</a>'\n",
              "          + ' to learn more about interactive tables.';\n",
              "        element.innerHTML = '';\n",
              "        dataTable['output_type'] = 'display_data';\n",
              "        await google.colab.output.renderOutput(dataTable, element);\n",
              "        const docLink = document.createElement('div');\n",
              "        docLink.innerHTML = docLinkHtml;\n",
              "        element.appendChild(docLink);\n",
              "      }\n",
              "    </script>\n",
              "  </div>\n",
              "\n",
              "\n",
              "<div id=\"df-157bb515-f782-41d7-9fba-756a6c6b7b05\">\n",
              "  <button class=\"colab-df-quickchart\" onclick=\"quickchart('df-157bb515-f782-41d7-9fba-756a6c6b7b05')\"\n",
              "            title=\"Suggest charts\"\n",
              "            style=\"display:none;\">\n",
              "\n",
              "<svg xmlns=\"http://www.w3.org/2000/svg\" height=\"24px\"viewBox=\"0 0 24 24\"\n",
              "     width=\"24px\">\n",
              "    <g>\n",
              "        <path d=\"M19 3H5c-1.1 0-2 .9-2 2v14c0 1.1.9 2 2 2h14c1.1 0 2-.9 2-2V5c0-1.1-.9-2-2-2zM9 17H7v-7h2v7zm4 0h-2V7h2v10zm4 0h-2v-4h2v4z\"/>\n",
              "    </g>\n",
              "</svg>\n",
              "  </button>\n",
              "\n",
              "<style>\n",
              "  .colab-df-quickchart {\n",
              "      --bg-color: #E8F0FE;\n",
              "      --fill-color: #1967D2;\n",
              "      --hover-bg-color: #E2EBFA;\n",
              "      --hover-fill-color: #174EA6;\n",
              "      --disabled-fill-color: #AAA;\n",
              "      --disabled-bg-color: #DDD;\n",
              "  }\n",
              "\n",
              "  [theme=dark] .colab-df-quickchart {\n",
              "      --bg-color: #3B4455;\n",
              "      --fill-color: #D2E3FC;\n",
              "      --hover-bg-color: #434B5C;\n",
              "      --hover-fill-color: #FFFFFF;\n",
              "      --disabled-bg-color: #3B4455;\n",
              "      --disabled-fill-color: #666;\n",
              "  }\n",
              "\n",
              "  .colab-df-quickchart {\n",
              "    background-color: var(--bg-color);\n",
              "    border: none;\n",
              "    border-radius: 50%;\n",
              "    cursor: pointer;\n",
              "    display: none;\n",
              "    fill: var(--fill-color);\n",
              "    height: 32px;\n",
              "    padding: 0;\n",
              "    width: 32px;\n",
              "  }\n",
              "\n",
              "  .colab-df-quickchart:hover {\n",
              "    background-color: var(--hover-bg-color);\n",
              "    box-shadow: 0 1px 2px rgba(60, 64, 67, 0.3), 0 1px 3px 1px rgba(60, 64, 67, 0.15);\n",
              "    fill: var(--button-hover-fill-color);\n",
              "  }\n",
              "\n",
              "  .colab-df-quickchart-complete:disabled,\n",
              "  .colab-df-quickchart-complete:disabled:hover {\n",
              "    background-color: var(--disabled-bg-color);\n",
              "    fill: var(--disabled-fill-color);\n",
              "    box-shadow: none;\n",
              "  }\n",
              "\n",
              "  .colab-df-spinner {\n",
              "    border: 2px solid var(--fill-color);\n",
              "    border-color: transparent;\n",
              "    border-bottom-color: var(--fill-color);\n",
              "    animation:\n",
              "      spin 1s steps(1) infinite;\n",
              "  }\n",
              "\n",
              "  @keyframes spin {\n",
              "    0% {\n",
              "      border-color: transparent;\n",
              "      border-bottom-color: var(--fill-color);\n",
              "      border-left-color: var(--fill-color);\n",
              "    }\n",
              "    20% {\n",
              "      border-color: transparent;\n",
              "      border-left-color: var(--fill-color);\n",
              "      border-top-color: var(--fill-color);\n",
              "    }\n",
              "    30% {\n",
              "      border-color: transparent;\n",
              "      border-left-color: var(--fill-color);\n",
              "      border-top-color: var(--fill-color);\n",
              "      border-right-color: var(--fill-color);\n",
              "    }\n",
              "    40% {\n",
              "      border-color: transparent;\n",
              "      border-right-color: var(--fill-color);\n",
              "      border-top-color: var(--fill-color);\n",
              "    }\n",
              "    60% {\n",
              "      border-color: transparent;\n",
              "      border-right-color: var(--fill-color);\n",
              "    }\n",
              "    80% {\n",
              "      border-color: transparent;\n",
              "      border-right-color: var(--fill-color);\n",
              "      border-bottom-color: var(--fill-color);\n",
              "    }\n",
              "    90% {\n",
              "      border-color: transparent;\n",
              "      border-bottom-color: var(--fill-color);\n",
              "    }\n",
              "  }\n",
              "</style>\n",
              "\n",
              "  <script>\n",
              "    async function quickchart(key) {\n",
              "      const quickchartButtonEl =\n",
              "        document.querySelector('#' + key + ' button');\n",
              "      quickchartButtonEl.disabled = true;  // To prevent multiple clicks.\n",
              "      quickchartButtonEl.classList.add('colab-df-spinner');\n",
              "      try {\n",
              "        const charts = await google.colab.kernel.invokeFunction(\n",
              "            'suggestCharts', [key], {});\n",
              "      } catch (error) {\n",
              "        console.error('Error during call to suggestCharts:', error);\n",
              "      }\n",
              "      quickchartButtonEl.classList.remove('colab-df-spinner');\n",
              "      quickchartButtonEl.classList.add('colab-df-quickchart-complete');\n",
              "    }\n",
              "    (() => {\n",
              "      let quickchartButtonEl =\n",
              "        document.querySelector('#df-157bb515-f782-41d7-9fba-756a6c6b7b05 button');\n",
              "      quickchartButtonEl.style.display =\n",
              "        google.colab.kernel.accessAllowed ? 'block' : 'none';\n",
              "    })();\n",
              "  </script>\n",
              "</div>\n",
              "\n",
              "    </div>\n",
              "  </div>\n"
            ],
            "application/vnd.google.colaboratory.intrinsic+json": {
              "type": "dataframe",
              "summary": "{\n  \"name\": \")\",\n  \"rows\": 3,\n  \"fields\": [\n    {\n      \"column\": \"attribute\",\n      \"properties\": {\n        \"dtype\": \"string\",\n        \"num_unique_values\": 3,\n        \"samples\": [\n          \"NID\",\n          \"PLACE_NAME\",\n          \"COUNTY\"\n        ],\n        \"semantic_type\": \"\",\n        \"description\": \"\"\n      }\n    },\n    {\n      \"column\": \"missing_records_percentage\",\n      \"properties\": {\n        \"dtype\": \"number\",\n        \"std\": 0.24248711305964282,\n        \"min\": 0.01,\n        \"max\": 0.43,\n        \"num_unique_values\": 2,\n        \"samples\": [\n          0.01,\n          0.43\n        ],\n        \"semantic_type\": \"\",\n        \"description\": \"\"\n      }\n    }\n  ]\n}"
            }
          },
          "metadata": {},
          "execution_count": 10
        }
      ]
    },
    {
      "cell_type": "markdown",
      "source": [
        "# Valid Geometry"
      ],
      "metadata": {
        "id": "twL9nbrUeZdM"
      }
    },
    {
      "cell_type": "code",
      "source": [
        "nbrn.geometry.is_valid_reason().value_counts()"
      ],
      "metadata": {
        "colab": {
          "base_uri": "https://localhost:8080/",
          "height": 114
        },
        "id": "XyC2gpZIebTv",
        "outputId": "ae4af608-4dfe-48bf-f112-db1ffeac8b8b"
      },
      "execution_count": null,
      "outputs": [
        {
          "output_type": "execute_result",
          "data": {
            "text/plain": [
              "Valid Geometry    69683\n",
              "Name: count, dtype: int64"
            ],
            "text/html": [
              "<div>\n",
              "<style scoped>\n",
              "    .dataframe tbody tr th:only-of-type {\n",
              "        vertical-align: middle;\n",
              "    }\n",
              "\n",
              "    .dataframe tbody tr th {\n",
              "        vertical-align: top;\n",
              "    }\n",
              "\n",
              "    .dataframe thead th {\n",
              "        text-align: right;\n",
              "    }\n",
              "</style>\n",
              "<table border=\"1\" class=\"dataframe\">\n",
              "  <thead>\n",
              "    <tr style=\"text-align: right;\">\n",
              "      <th></th>\n",
              "      <th>count</th>\n",
              "    </tr>\n",
              "  </thead>\n",
              "  <tbody>\n",
              "    <tr>\n",
              "      <th>Valid Geometry</th>\n",
              "      <td>69683</td>\n",
              "    </tr>\n",
              "  </tbody>\n",
              "</table>\n",
              "</div><br><label><b>dtype:</b> int64</label>"
            ]
          },
          "metadata": {},
          "execution_count": 11
        }
      ]
    },
    {
      "cell_type": "markdown",
      "source": [
        "# Isolated Roads\n",
        "Road segments that do not connect to any other road segments or junctions, making them standalone features within a road network. These lines lack connectivity to the broader network"
      ],
      "metadata": {
        "id": "GyqW9dBhbEJn"
      }
    },
    {
      "cell_type": "code",
      "source": [
        "# Find nodes which belong to dangled roads\n",
        "nodes = list(\n",
        "    collapse(\n",
        "        [c for c in nx.connected_components(graph) if len(c) <= 2],\n",
        "        levels=1\n",
        "    )\n",
        ")\n",
        "\n",
        "# Find the roads in the network\n",
        "isolated_roads = (\n",
        "    gpd.sjoin(\n",
        "        nbrn,\n",
        "        gpd.GeoDataFrame(\n",
        "            geometry=list(map(Point, nodes)),\n",
        "            crs=nbrn.crs\n",
        "        ),\n",
        "    )\n",
        "    .drop_duplicates(subset=['NID'])\n",
        ")\n",
        "\n",
        "print(isolated_roads.drop(columns=['geometry']).to_string())"
      ],
      "metadata": {
        "colab": {
          "base_uri": "https://localhost:8080/"
        },
        "id": "dQaxMu5qTrpL",
        "outputId": "23ef711e-5eb2-4ff9-d5f7-58c5e8bc0240"
      },
      "execution_count": null,
      "outputs": [
        {
          "output_type": "stream",
          "name": "stdout",
          "text": [
            "                                    NID  ROADSEGID                     STREETNAME ST_TYPE TYPE_POSI PREFIX SUFFIX  NBRLANES RTENAME1EN RTENAME2EN RTENAME1FR RTENAME2FR RTNUMBER1 RTNUMBER2 STRUNAMEEN STRUNAMEFR STRUCTTYPE EXITNBR  SPEED_L  SPEED_R  SPEED SPEED_SR                        ROADCLASS PAVSTATUS   PAVSURF UNPAVSURF       TRAFFICDIR  CLOSING L_HNUMSTR R_HNUMSTR L_HNUMF L_HNUML R_HNUMF R_HNUML        PLACE_NAME          COUNTY TRAV_DIR  index_right\n",
            "38108  37F2BE5B8E3F422582166ECC356325B8   11044179                        Unnamed    None         N   None   None         1       None       None       None       None      None      None    Unknown    Unknown     Bridge    None       -1       -1     -1  Unknown                    Local/unknown     Paved  Flexible      None  Both Directions  Unknown      None      None       0       0       0       0              None            None     None            0\n",
            "51125  6DE5563789BA43C384A6E5B815E2DA3C   11061830  BEAUBEARS ISLAND NATURE Trail   Trail         S   None   None         1       None       None       None       None      None      None       None       None       None    None       -1       -1     -1  Unknown  Non-vehicular Addressed Segment   Unpaved      None      Dirt  Both Directions  Unknown       Odd      Even       1     199       2     200  Beaubears Island  Northumberland     None            3\n",
            "55978  2BC372DCC85E44789967F93CD6636993    9799939               LONG ISLAND Road    Road         S   None   None         2       None       None       None       None      None      None       None       None       None    None       -1       -1     50    Other         NBDOT Road Public Access   Unpaved      None      Dirt  Both Directions     None       Odd      Even       1     347       2     348     Clifton Royal           Kings     None            5\n"
          ]
        }
      ]
    },
    {
      "cell_type": "markdown",
      "source": [
        "# Closed Lines / Loop\n",
        "A road or line where the start and end points are the same is called a closed line or loop."
      ],
      "metadata": {
        "id": "hnWsZZQFgyaW"
      }
    },
    {
      "cell_type": "code",
      "source": [
        "nids_closed_lines = []\n",
        "for ix, rec in tqdm(nbrn.iterrows(), total=len(nbrn)):\n",
        "    coords = rec.geometry.coords[:]\n",
        "    if coords[0] == coords[-1]:\n",
        "        nids_closed_lines.append(rec.NID)"
      ],
      "metadata": {
        "colab": {
          "base_uri": "https://localhost:8080/"
        },
        "id": "WDr1TuLcfgKR",
        "outputId": "d342b15e-1683-4c18-a50e-dd5b381149fe"
      },
      "execution_count": null,
      "outputs": [
        {
          "output_type": "stream",
          "name": "stderr",
          "text": [
            "100%|██████████| 69683/69683 [00:14<00:00, 4720.67it/s]\n"
          ]
        }
      ]
    },
    {
      "cell_type": "code",
      "source": [
        "len(nids_closed_lines)"
      ],
      "metadata": {
        "colab": {
          "base_uri": "https://localhost:8080/"
        },
        "id": "9QdBSZBzhNt9",
        "outputId": "018c008e-f46a-48fd-d559-ea2a6ac7e112"
      },
      "execution_count": null,
      "outputs": [
        {
          "output_type": "execute_result",
          "data": {
            "text/plain": [
              "128"
            ]
          },
          "metadata": {},
          "execution_count": 14
        }
      ]
    },
    {
      "cell_type": "code",
      "source": [
        "nbrn.query(f'NID == \"{nids_closed_lines[100]}\"').geometry.squeeze()"
      ],
      "metadata": {
        "colab": {
          "base_uri": "https://localhost:8080/",
          "height": 316
        },
        "id": "rbMDc128h8l0",
        "outputId": "1dfd6e13-2b55-481f-cae9-bc087fd51f92"
      },
      "execution_count": null,
      "outputs": [
        {
          "output_type": "execute_result",
          "data": {
            "text/plain": [
              "<LINESTRING (2620544.54 7511211.452, 2620544.044 7511235.593, 2620544.184 75...>"
            ],
            "image/svg+xml": "<svg xmlns=\"http://www.w3.org/2000/svg\" xmlns:xlink=\"http://www.w3.org/1999/xlink\" width=\"300\" height=\"294.52849200181663\" viewBox=\"2620194.2523040012 7511163.527903999 401.00659200083464 294.52849200181663\" preserveAspectRatio=\"xMinYMin meet\"><g transform=\"matrix(1,0,0,-1,0,15022621.5843)\"><polyline fill=\"none\" stroke=\"#66cc99\" stroke-width=\"2.6733772800055644\" points=\"2620544.5403000005,7511211.452100001 2620544.0441000015,7511235.592599999 2620544.1840999983,7511241.510400001 2620545.275699999,7511250.891800001 2620547.4211999997,7511260.089499999 2620550.2511,7511268.162300002 2620553.8933000006,7511275.902600002 2620575.125599999,7511311.753600001 2620577.035700001,7511315.460099999 2620578.6783999987,7511319.785799999 2620579.7971,7511324.275699999 2620580.3759000003,7511328.866500001 2620580.406800002,7511333.493500002 2620579.5852000006,7511339.6556 2620577.7945999987,7511345.608800001 2620545.0449,7511424.127799999 2620542.7441000007,7511428.324000001 2620539.8544999994,7511432.138700001 2620536.4382000007,7511435.4899 2620532.5687000006,7511438.3057 2620528.3508,7511440.515999999 2620523.8561999984,7511442.089200001 2620519.1805000007,7511442.991599999 2620514.423300002,7511443.204300001 2620511.281399999,7511442.963100001 2620430.0253,7511432.6074 2620415.0808999985,7511431.152800001 2620400.096900001,7511430.1875 2620381.0621000007,7511429.668299999 2620239.5040000007,7511429.999400001 2620235.8911000006,7511429.543499999 2620232.3511999995,7511428.6886 2620228.9283000007,7511427.4452 2620225.664999999,7511425.829 2620222.6017000005,7511423.8598 2620219.776299998,7511421.562199999 2620217.224100001,7511418.9646000005 2620214.976500001,7511416.099199999 2620212.5516000018,7511412.024900001 2620210.7415000014,7511407.6426 2620209.5843,7511403.044599999 2620209.1044000015,7511398.327500001 2620209.3117999993,7511393.5907000005 2620210.2021999992,7511388.933600001 2620211.7567999996,7511384.454300001 2620213.9428999983,7511380.247000001 2620216.5243999995,7511376.6296 2620234.901299998,7511354.740400001 2620294.0535999984,7511294.716400001 2620300.7195999995,7511287.269400001 2620306.8872000016,7511279.4047 2620313.578499999,7511269.487199999 2620319.477499999,7511259.079 2620333.231400002,7511225.8233 2620342.058600001,7511206.9373 2620351.1642999984,7511190.514800001 2620354.3671999983,7511186.6468 2620358.2102999985,7511183.414000001 2620363.161600001,7511180.657900002 2620368.5669,7511178.956599999 2620374.2041000016,7511178.379999999 2620379.8418999985,7511178.951699998 2620382.4990999997,7511179.634799998 2620449.3161999993,7511205.148400001 2620460.4749,7511208.745499998 2620471.4452,7511211.305799998 2620482.5863999985,7511212.9712000005 2620493.8258999996,7511213.730799999 2620505.089899998,7511213.579599999 2620544.5403000005,7511211.452100001\" opacity=\"0.8\" /></g></svg>"
          },
          "metadata": {},
          "execution_count": 15
        }
      ]
    },
    {
      "cell_type": "markdown",
      "source": [
        "# Duplicate vertices"
      ],
      "metadata": {
        "id": "nLqU6Va3hPnC"
      }
    },
    {
      "cell_type": "code",
      "source": [
        "nid_duplicate_vertices = []\n",
        "for ix, rec in tqdm(nbrn.iterrows(), total=len(nbrn)):\n",
        "    coords = rec.geometry.coords[:]\n",
        "    if len(coords) != len(set(coords)):\n",
        "        if coords[0] != coords[-1]:\n",
        "            nid_duplicate_vertices.append(rec.NID)"
      ],
      "metadata": {
        "colab": {
          "base_uri": "https://localhost:8080/"
        },
        "id": "0JmsIkQThTwz",
        "outputId": "88f75b2a-be22-43cf-c465-052e1475ae71"
      },
      "execution_count": null,
      "outputs": [
        {
          "output_type": "stream",
          "name": "stderr",
          "text": [
            "100%|██████████| 69683/69683 [00:11<00:00, 5807.70it/s]\n"
          ]
        }
      ]
    },
    {
      "cell_type": "code",
      "source": [
        "len(nid_duplicate_vertices)"
      ],
      "metadata": {
        "colab": {
          "base_uri": "https://localhost:8080/"
        },
        "id": "W7ZFiXGqh6JF",
        "outputId": "96b68760-a9a0-421a-cbef-1830b790922c"
      },
      "execution_count": null,
      "outputs": [
        {
          "output_type": "execute_result",
          "data": {
            "text/plain": [
              "1"
            ]
          },
          "metadata": {},
          "execution_count": 17
        }
      ]
    },
    {
      "cell_type": "code",
      "source": [
        "nbrn.query(f'NID == \"{nid_duplicate_vertices[0]}\"').geometry.squeeze()"
      ],
      "metadata": {
        "colab": {
          "base_uri": "https://localhost:8080/",
          "height": 321
        },
        "id": "gkh2g9twhvP7",
        "outputId": "c22e8fa3-fec8-4741-e53e-97f9abc219d2"
      },
      "execution_count": null,
      "outputs": [
        {
          "output_type": "execute_result",
          "data": {
            "text/plain": [
              "<LINESTRING (2532283.326 7390152.499, 2532290.559 7390140.186, 2532294.384 7...>"
            ],
            "image/svg+xml": "<svg xmlns=\"http://www.w3.org/2000/svg\" xmlns:xlink=\"http://www.w3.org/1999/xlink\" width=\"300\" height=\"300\" viewBox=\"2532264.0493920017 7389761.364892 520.463015999645 410.4101159982383\" preserveAspectRatio=\"xMinYMin meet\"><g transform=\"matrix(1,0,0,-1,0,14779933.139899999)\"><polyline fill=\"none\" stroke=\"#66cc99\" stroke-width=\"3.4697534399976333\" points=\"2532283.3258000016,7390152.498599999 2532290.558699999,7390140.1862 2532294.3838,7390125.5799 2532299.146299999,7390115.102400001 2532304.861299999,7390100.1798 2532307.401299998,7390077.002300002 2532308.1950999983,7390057.317200001 2532311.370099999,7390040.8072 2532320.642499998,7390022.8017 2532327.5879000016,7390013.210499998 2532337.840500001,7390000.973499998 2532354.0461999997,7389986.421399999 2532366.2316000015,7389976.632399999 2532383.8528999984,7389961.3924 2532398.033300001,7389951.364100002 2532414.2391000018,7389942.103599999 2532425.8145999983,7389936.481199998 2532438.0516000018,7389928.874400001 2532452.9345000014,7389919.614 2532470.463100001,7389908.0385 2532486.9996000007,7389892.824900001 2532503.2054000013,7389880.587900002 2532520.734099999,7389866.035799999 2532535.6169000007,7389859.090399999 2532550.4998000003,7389853.1373 2532571.004999999,7389850.8222 2532591.840999998,7389851.4837 2532599.648600001,7389853.826000001 2532605.0702,7389855.452399999 2532614.330600001,7389865.374299999 2532621.9373999983,7389873.6426 2532627.8641000018,7389881.897599999 2532633.7908000015,7389889.7293 2532638.235800002,7389895.4443 2532644.5857999995,7389901.1592999995 2532650.935800001,7389906.662599999 2532657.4974999987,7389908.567600001 2532664.0592,7389908.144299999 2532669.985800002,7389905.816 2532675.7008000016,7389901.1592999995 2532684.5909,7389892.9043000005 2532692.6341999993,7389885.0726 2532701.100900002,7389877.6642 2532709.779199999,7389869.4092000015 2532717.6108999997,7389863.694200002 2532724.595899999,7389857.1325 2532732.0042999983,7389850.359200001 2532741.1059999987,7389844.009199999 2532755.0760000013,7389831.9441 2532763.1193999983,7389819.6675 2532765.2360000014,7389811.8358 2532765.0243999995,7389805.062399998 2532761.9437000006,7389798.456999999 2532755.6845000014,7389790.325100001 2532749.3345,7389784.610100001 2532740.9208000004,7389781.9113 2532731.0782999992,7389780.6413 2532723.4582,7389782.7051 2532715.2032000013,7389783.6576000005 2532700.280699998,7389789.213799998 2532678.849399999,7389799.5326000005 2532658.053100001,7389816.8363999985 2532635.0342999995,7389834.457699999 2532620.5879999995,7389844.3002 2532611.063000001,7389849.8565 2532599.648600001,7389853.826000001\" opacity=\"0.8\" /></g></svg>"
          },
          "metadata": {},
          "execution_count": 18
        }
      ]
    }
  ]
}