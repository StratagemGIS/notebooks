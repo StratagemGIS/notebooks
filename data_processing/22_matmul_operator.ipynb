{
  "nbformat": 4,
  "nbformat_minor": 0,
  "metadata": {
    "colab": {
      "provenance": [],
      "toc_visible": true,
      "authorship_tag": "ABX9TyMPHyKTYOqT2+NbQqgKPn36",
      "include_colab_link": true
    },
    "kernelspec": {
      "name": "python3",
      "display_name": "Python 3"
    },
    "language_info": {
      "name": "python"
    }
  },
  "cells": [
    {
      "cell_type": "markdown",
      "metadata": {
        "id": "view-in-github",
        "colab_type": "text"
      },
      "source": [
        "<a href=\"https://colab.research.google.com/github/StratagemGIS/notebooks/blob/main/data_processing/22_matmul_operator.ipynb\" target=\"_parent\"><img src=\"https://colab.research.google.com/assets/colab-badge.svg\" alt=\"Open In Colab\"/></a>"
      ]
    },
    {
      "cell_type": "code",
      "source": [
        "!pip install rasterio"
      ],
      "metadata": {
        "colab": {
          "base_uri": "https://localhost:8080/"
        },
        "id": "vuRKD02ddQnf",
        "outputId": "e44d2a5d-963c-474b-a944-b56a057f3cd2"
      },
      "execution_count": 1,
      "outputs": [
        {
          "output_type": "stream",
          "name": "stdout",
          "text": [
            "Collecting rasterio\n",
            "  Downloading rasterio-1.3.10-cp310-cp310-manylinux2014_x86_64.whl (21.5 MB)\n",
            "\u001b[2K     \u001b[90m━━━━━━━━━━━━━━━━━━━━━━━━━━━━━━━━━━━━━━━━\u001b[0m \u001b[32m21.5/21.5 MB\u001b[0m \u001b[31m17.4 MB/s\u001b[0m eta \u001b[36m0:00:00\u001b[0m\n",
            "\u001b[?25hCollecting affine (from rasterio)\n",
            "  Downloading affine-2.4.0-py3-none-any.whl (15 kB)\n",
            "Requirement already satisfied: attrs in /usr/local/lib/python3.10/dist-packages (from rasterio) (23.2.0)\n",
            "Requirement already satisfied: certifi in /usr/local/lib/python3.10/dist-packages (from rasterio) (2024.2.2)\n",
            "Requirement already satisfied: click>=4.0 in /usr/local/lib/python3.10/dist-packages (from rasterio) (8.1.7)\n",
            "Requirement already satisfied: cligj>=0.5 in /usr/local/lib/python3.10/dist-packages (from rasterio) (0.7.2)\n",
            "Requirement already satisfied: numpy in /usr/local/lib/python3.10/dist-packages (from rasterio) (1.25.2)\n",
            "Collecting snuggs>=1.4.1 (from rasterio)\n",
            "  Downloading snuggs-1.4.7-py3-none-any.whl (5.4 kB)\n",
            "Requirement already satisfied: click-plugins in /usr/local/lib/python3.10/dist-packages (from rasterio) (1.1.1)\n",
            "Requirement already satisfied: setuptools in /usr/local/lib/python3.10/dist-packages (from rasterio) (67.7.2)\n",
            "Requirement already satisfied: pyparsing>=2.1.6 in /usr/local/lib/python3.10/dist-packages (from snuggs>=1.4.1->rasterio) (3.1.2)\n",
            "Installing collected packages: snuggs, affine, rasterio\n",
            "Successfully installed affine-2.4.0 rasterio-1.3.10 snuggs-1.4.7\n"
          ]
        }
      ]
    },
    {
      "cell_type": "code",
      "source": [
        "import pooch\n",
        "import rasterio as rio"
      ],
      "metadata": {
        "id": "TyKT2ce9dO2K"
      },
      "execution_count": 2,
      "outputs": []
    },
    {
      "cell_type": "code",
      "source": [
        "sentinel2_img = pooch.retrieve(\n",
        "    'https://github.com/StratagemGIS/datasets/raw/main/raster/oromocto_jun2021_composite.tif',\n",
        "    known_hash='e08df41e0f301d684f9ed1a487b9abccaf431fd3df25fa5f10da82d44e6b733d'\n",
        ")"
      ],
      "metadata": {
        "colab": {
          "base_uri": "https://localhost:8080/"
        },
        "id": "Lxx3OD4PdVVX",
        "outputId": "01d72809-d183-461b-8691-0092eab2b30f"
      },
      "execution_count": 3,
      "outputs": [
        {
          "output_type": "stream",
          "name": "stderr",
          "text": [
            "Downloading data from 'https://github.com/StratagemGIS/datasets/raw/main/raster/oromocto_jun2021_composite.tif' to file '/root/.cache/pooch/1b7989bb99434afca6e9eaa37ae6579a-oromocto_jun2021_composite.tif'.\n"
          ]
        }
      ]
    },
    {
      "cell_type": "code",
      "execution_count": 4,
      "metadata": {
        "id": "pMtMoLgsc0yn"
      },
      "outputs": [],
      "source": [
        "class SGRaster:\n",
        "\n",
        "    def __init__(self, raster_file):\n",
        "        self.raster_file = raster_file\n",
        "\n",
        "    def __matmul__(self, point):\n",
        "        with rio.open(self.raster_file) as src:\n",
        "            return next(src.sample([point]))"
      ]
    },
    {
      "cell_type": "code",
      "source": [
        "sg = SGRaster(sentinel2_img)"
      ],
      "metadata": {
        "id": "D7bJ1gF0dTLl"
      },
      "execution_count": 5,
      "outputs": []
    },
    {
      "cell_type": "code",
      "source": [
        "print(sg @ (2499995, 7427696))"
      ],
      "metadata": {
        "colab": {
          "base_uri": "https://localhost:8080/"
        },
        "id": "qGl0nAYGdgZV",
        "outputId": "937d1e72-e09a-480c-e047-86d18faafe5f"
      },
      "execution_count": 6,
      "outputs": [
        {
          "output_type": "stream",
          "name": "stdout",
          "text": [
            "[ 235.  553.  213.  813. 3284. 4261. 5468. 4341. 1800.  825.]\n"
          ]
        }
      ]
    },
    {
      "cell_type": "code",
      "source": [
        "print(sg @ (2499271, 7427642))"
      ],
      "metadata": {
        "id": "p0HiLNxadibe",
        "colab": {
          "base_uri": "https://localhost:8080/"
        },
        "outputId": "6fa4da3b-2666-4724-ad63-e778a127ae79"
      },
      "execution_count": 7,
      "outputs": [
        {
          "output_type": "stream",
          "name": "stdout",
          "text": [
            "[ 207.  536.  177.  919. 3169. 3732. 3894. 3949. 1701.  759.]\n"
          ]
        }
      ]
    },
    {
      "cell_type": "markdown",
      "source": [
        "# Full Code"
      ],
      "metadata": {
        "id": "qoUng4ICeYnd"
      }
    },
    {
      "cell_type": "code",
      "source": [
        "\"\"\"\n",
        "Vaasudevan Srinivasan 🧑🏻‍💻\n",
        "StratagemGIS Solutions\n",
        "Script to use __matmul__ (@) operator\n",
        "\"\"\"\n",
        "\n",
        "\n",
        "import rasterio as rio\n",
        "\n",
        "\n",
        "class SGRaster:\n",
        "\n",
        "    def __init__(self, raster_file):\n",
        "        self.raster_file = raster_file\n",
        "\n",
        "    def __matmul__(self, point):\n",
        "        with rio.open(self.raster_file) as src:\n",
        "            return next(src.sample([point]))\n",
        "\n",
        "\n",
        "sg = SGRaster(sentinel2_img)\n",
        "\n",
        "print(sg @ (2499995, 7427696))\n",
        "# [ 235.  553.  213.  813. 3284. 4261. 5468. 4341. 1800.  825.]\n",
        "\n",
        "print(sg @ (2499271, 7427642))\n",
        "# [ 207.  536.  177.  919. 3169. 3732. 3894. 3949. 1701.  759.]\n"
      ],
      "metadata": {
        "id": "pKjzn_RzeZTO",
        "colab": {
          "base_uri": "https://localhost:8080/"
        },
        "outputId": "838c710d-e04f-41aa-dd3c-5262aacf938a"
      },
      "execution_count": 8,
      "outputs": [
        {
          "output_type": "stream",
          "name": "stdout",
          "text": [
            "[ 235.  553.  213.  813. 3284. 4261. 5468. 4341. 1800.  825.]\n",
            "[ 207.  536.  177.  919. 3169. 3732. 3894. 3949. 1701.  759.]\n"
          ]
        }
      ]
    },
    {
      "cell_type": "code",
      "source": [],
      "metadata": {
        "id": "QF3n8LTnfKxF"
      },
      "execution_count": null,
      "outputs": []
    }
  ]
}