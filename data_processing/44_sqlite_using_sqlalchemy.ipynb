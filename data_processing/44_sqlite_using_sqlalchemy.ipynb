{
  "nbformat": 4,
  "nbformat_minor": 0,
  "metadata": {
    "colab": {
      "provenance": [],
      "toc_visible": true,
      "authorship_tag": "ABX9TyMKL7Q3TpBY/BingRfVugOG",
      "include_colab_link": true
    },
    "kernelspec": {
      "name": "python3",
      "display_name": "Python 3"
    },
    "language_info": {
      "name": "python"
    }
  },
  "cells": [
    {
      "cell_type": "markdown",
      "metadata": {
        "id": "view-in-github",
        "colab_type": "text"
      },
      "source": [
        "<a href=\"https://colab.research.google.com/github/StratagemGIS/notebooks/blob/main/data_processing/44_sqlite_using_sqlalchemy.ipynb\" target=\"_parent\"><img src=\"https://colab.research.google.com/assets/colab-badge.svg\" alt=\"Open In Colab\"/></a>"
      ]
    },
    {
      "cell_type": "markdown",
      "source": [
        "Vaasudevan Srinivasan 🧑🏻‍💻  \n",
        "StratagemGIS Solutions"
      ],
      "metadata": {
        "id": "4nFh2YvxFtes"
      }
    },
    {
      "cell_type": "code",
      "execution_count": null,
      "metadata": {
        "id": "KCcEZ7oZFkO8"
      },
      "outputs": [],
      "source": [
        "import sqlalchemy as db"
      ]
    },
    {
      "cell_type": "code",
      "source": [
        "engine = db.create_engine('sqlite:///atlantic_provinces.sqlite')\n",
        "conn = engine.connect()\n",
        "metadata = db.MetaData()"
      ],
      "metadata": {
        "id": "3htlnwqWFsrw"
      },
      "execution_count": null,
      "outputs": []
    },
    {
      "cell_type": "code",
      "source": [
        "# Create a table\n",
        "provinces = db.Table(\n",
        "    'provinces',\n",
        "    metadata,\n",
        "    db.Column('id', db.Integer(), primary_key=True),\n",
        "    db.Column('name', db.String(255), nullable=False)\n",
        ")\n",
        "\n",
        "metadata.create_all(engine)"
      ],
      "metadata": {
        "id": "WGNRkb41GLmN"
      },
      "execution_count": null,
      "outputs": []
    },
    {
      "cell_type": "code",
      "source": [
        "# Insert values\n",
        "values_list = [{'id': 1, 'name': 'New Brunswick'},\n",
        "               {'id': 2, 'name': 'Newfoundland and Labrador'},\n",
        "               {'id': 3, 'name': 'Nova Scotia'},\n",
        "               {'id': 4, 'name': 'Prince Edward Island'}]\n",
        "\n",
        "query = db.insert(provinces)\n",
        "result = conn.execute(query, values_list)"
      ],
      "metadata": {
        "id": "Jy1f2rp9GnB3"
      },
      "execution_count": null,
      "outputs": []
    },
    {
      "cell_type": "code",
      "source": [
        "# SELECT * FROM provinces\n",
        "query = db.select(provinces)\n",
        "conn.execute(query).fetchall()"
      ],
      "metadata": {
        "colab": {
          "base_uri": "https://localhost:8080/"
        },
        "id": "5_-iI2PrHK10",
        "outputId": "1053bf7d-96cf-409e-e82c-8ed44b1bc152"
      },
      "execution_count": null,
      "outputs": [
        {
          "output_type": "execute_result",
          "data": {
            "text/plain": [
              "[(1, 'New Brunswick'),\n",
              " (2, 'Newfoundland and Labrador'),\n",
              " (3, 'Nova Scotia'),\n",
              " (4, 'Prince Edward Island')]"
            ]
          },
          "metadata": {},
          "execution_count": 5
        }
      ]
    },
    {
      "cell_type": "code",
      "source": [
        "# SELECT * FROM provinces WHERE name LIKE 'N%'\n",
        "query = provinces.select().where(provinces.columns.name.startswith('N'))\n",
        "conn.execute(query).fetchall()"
      ],
      "metadata": {
        "colab": {
          "base_uri": "https://localhost:8080/"
        },
        "id": "PTJvgP1QHPmM",
        "outputId": "90263399-821a-4ea7-9872-63b2c79e99e9"
      },
      "execution_count": null,
      "outputs": [
        {
          "output_type": "execute_result",
          "data": {
            "text/plain": [
              "[(1, 'New Brunswick'), (2, 'Newfoundland and Labrador'), (3, 'Nova Scotia')]"
            ]
          },
          "metadata": {},
          "execution_count": 6
        }
      ]
    },
    {
      "cell_type": "code",
      "source": [
        "# SELECT * FROM provinces WHERE id = 3\n",
        "query = provinces.select().where(provinces.columns.id == 3)\n",
        "conn.execute(query).fetchall()"
      ],
      "metadata": {
        "colab": {
          "base_uri": "https://localhost:8080/"
        },
        "id": "hjRkbp_0ID7U",
        "outputId": "dc72820d-4f9e-4963-fd8f-ae2a5986e79e"
      },
      "execution_count": null,
      "outputs": [
        {
          "output_type": "execute_result",
          "data": {
            "text/plain": [
              "[(3, 'Nova Scotia')]"
            ]
          },
          "metadata": {},
          "execution_count": 7
        }
      ]
    },
    {
      "cell_type": "code",
      "source": [],
      "metadata": {
        "id": "F7IqRcZsIsOG"
      },
      "execution_count": null,
      "outputs": []
    },
    {
      "cell_type": "code",
      "source": [],
      "metadata": {
        "id": "gBG9jYuQJzkN"
      },
      "execution_count": null,
      "outputs": []
    },
    {
      "cell_type": "code",
      "source": [],
      "metadata": {
        "id": "UXKaXhSbJzZf"
      },
      "execution_count": null,
      "outputs": []
    }
  ]
}