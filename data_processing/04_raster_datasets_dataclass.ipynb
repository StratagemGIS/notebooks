{
  "nbformat": 4,
  "nbformat_minor": 0,
  "metadata": {
    "colab": {
      "provenance": [],
      "toc_visible": true,
      "authorship_tag": "ABX9TyNVR4OaauzT68sZLUydaBF7",
      "include_colab_link": true
    },
    "kernelspec": {
      "name": "python3",
      "display_name": "Python 3"
    },
    "language_info": {
      "name": "python"
    }
  },
  "cells": [
    {
      "cell_type": "markdown",
      "metadata": {
        "id": "view-in-github",
        "colab_type": "text"
      },
      "source": [
        "<a href=\"https://colab.research.google.com/github/StratagemGIS/notebooks/blob/main/data_processing/04_raster_datasets_dataclass.ipynb\" target=\"_parent\"><img src=\"https://colab.research.google.com/assets/colab-badge.svg\" alt=\"Open In Colab\"/></a>"
      ]
    },
    {
      "cell_type": "markdown",
      "source": [
        "# Setting the environment"
      ],
      "metadata": {
        "id": "ZlvLrwPlOR6z"
      }
    },
    {
      "cell_type": "code",
      "source": [
        "!pip install rasterio"
      ],
      "metadata": {
        "colab": {
          "base_uri": "https://localhost:8080/"
        },
        "id": "z95yB_70OJrm",
        "outputId": "c6e3123b-7e1a-4920-d2d3-2aa4d56824ba"
      },
      "execution_count": 1,
      "outputs": [
        {
          "output_type": "stream",
          "name": "stdout",
          "text": [
            "Collecting rasterio\n",
            "  Downloading rasterio-1.3.10-cp310-cp310-manylinux2014_x86_64.whl (21.5 MB)\n",
            "\u001b[2K     \u001b[90m━━━━━━━━━━━━━━━━━━━━━━━━━━━━━━━━━━━━━━━━\u001b[0m \u001b[32m21.5/21.5 MB\u001b[0m \u001b[31m17.0 MB/s\u001b[0m eta \u001b[36m0:00:00\u001b[0m\n",
            "\u001b[?25hCollecting affine (from rasterio)\n",
            "  Downloading affine-2.4.0-py3-none-any.whl (15 kB)\n",
            "Requirement already satisfied: attrs in /usr/local/lib/python3.10/dist-packages (from rasterio) (23.2.0)\n",
            "Requirement already satisfied: certifi in /usr/local/lib/python3.10/dist-packages (from rasterio) (2024.2.2)\n",
            "Requirement already satisfied: click>=4.0 in /usr/local/lib/python3.10/dist-packages (from rasterio) (8.1.7)\n",
            "Requirement already satisfied: cligj>=0.5 in /usr/local/lib/python3.10/dist-packages (from rasterio) (0.7.2)\n",
            "Requirement already satisfied: numpy in /usr/local/lib/python3.10/dist-packages (from rasterio) (1.25.2)\n",
            "Collecting snuggs>=1.4.1 (from rasterio)\n",
            "  Downloading snuggs-1.4.7-py3-none-any.whl (5.4 kB)\n",
            "Requirement already satisfied: click-plugins in /usr/local/lib/python3.10/dist-packages (from rasterio) (1.1.1)\n",
            "Requirement already satisfied: setuptools in /usr/local/lib/python3.10/dist-packages (from rasterio) (67.7.2)\n",
            "Requirement already satisfied: pyparsing>=2.1.6 in /usr/local/lib/python3.10/dist-packages (from snuggs>=1.4.1->rasterio) (3.1.2)\n",
            "Installing collected packages: snuggs, affine, rasterio\n",
            "Successfully installed affine-2.4.0 rasterio-1.3.10 snuggs-1.4.7\n"
          ]
        }
      ]
    },
    {
      "cell_type": "code",
      "execution_count": 2,
      "metadata": {
        "id": "mmlZTiBIMcM9"
      },
      "outputs": [],
      "source": [
        "from dataclasses import dataclass\n",
        "from functools import cached_property\n",
        "\n",
        "import numpy as np\n",
        "import pooch\n",
        "import rasterio as rio"
      ]
    },
    {
      "cell_type": "code",
      "source": [
        "sentinel2_img = pooch.retrieve(\n",
        "    'https://github.com/StratagemGIS/datasets/raw/main/raster/oromocto_jun2021_composite.tif',\n",
        "    known_hash='e08df41e0f301d684f9ed1a487b9abccaf431fd3df25fa5f10da82d44e6b733d'\n",
        ")"
      ],
      "metadata": {
        "colab": {
          "base_uri": "https://localhost:8080/"
        },
        "id": "YwQ9LMO1OHQY",
        "outputId": "418fc274-7743-428d-ba0b-c3d377caa5c3"
      },
      "execution_count": 3,
      "outputs": [
        {
          "output_type": "stream",
          "name": "stderr",
          "text": [
            "Downloading data from 'https://github.com/StratagemGIS/datasets/raw/main/raster/oromocto_jun2021_composite.tif' to file '/root/.cache/pooch/1b7989bb99434afca6e9eaa37ae6579a-oromocto_jun2021_composite.tif'.\n"
          ]
        }
      ]
    },
    {
      "cell_type": "markdown",
      "source": [
        "# SGDataset (StratagemGIS Dataset)"
      ],
      "metadata": {
        "id": "gwzd5TUAOU-B"
      }
    },
    {
      "cell_type": "code",
      "source": [
        "@dataclass\n",
        "class SGDataset:\n",
        "\n",
        "    b: np.ndarray\n",
        "    g: np.ndarray\n",
        "    r: np.ndarray\n",
        "    re1: np.ndarray\n",
        "    re2: np.ndarray\n",
        "    re3: np.ndarray\n",
        "    nir: np.ndarray\n",
        "    re4: np.ndarray\n",
        "    swir1: np.ndarray\n",
        "    swir2: np.ndarray\n",
        "\n",
        "    # Generate the indices\n",
        "    def __post_init__(self):\n",
        "        self.ndvi = (self.nir - self.r) / (self.nir + self.r)\n",
        "        self.ndwi = (self.g - self.nir) / (self.g + self.nir)\n",
        "\n",
        "    @cached_property\n",
        "    def rgb(self):\n",
        "        return np.asarray([self.r, self.g, self.b])\n",
        "\n",
        "    def normalize(self):\n",
        "        ..."
      ],
      "metadata": {
        "id": "heEiVZWzOIpL"
      },
      "execution_count": 4,
      "outputs": []
    },
    {
      "cell_type": "code",
      "source": [
        "with rio.open(sentinel2_img) as src:\n",
        "    img1 = SGDataset(*src.read())"
      ],
      "metadata": {
        "id": "I-f5_UKgPV07"
      },
      "execution_count": 5,
      "outputs": []
    },
    {
      "cell_type": "code",
      "source": [
        "img1.nir"
      ],
      "metadata": {
        "colab": {
          "base_uri": "https://localhost:8080/"
        },
        "id": "QVPzEM9mS6lU",
        "outputId": "be6d950c-b64b-4099-cb94-3cc5721dc6cc"
      },
      "execution_count": 6,
      "outputs": [
        {
          "output_type": "execute_result",
          "data": {
            "text/plain": [
              "array([[ 319.,  312.,  316., ..., 2566., 2420., 2292.],\n",
              "       [ 310.,  321.,  321., ..., 2584., 2508., 2499.],\n",
              "       [ 317.,  342.,  339., ..., 2656., 2789., 2689.],\n",
              "       ...,\n",
              "       [1064., 2496., 3535., ..., 1791., 1726., 1465.],\n",
              "       [2035., 3393., 3905., ..., 2210., 2428., 2287.],\n",
              "       [2573., 3638., 4064., ..., 2864., 3059., 3212.]])"
            ]
          },
          "metadata": {},
          "execution_count": 6
        }
      ]
    },
    {
      "cell_type": "code",
      "source": [
        "img1.ndvi.shape"
      ],
      "metadata": {
        "colab": {
          "base_uri": "https://localhost:8080/"
        },
        "id": "G8HW3hwMPgWH",
        "outputId": "a0ca6032-0d72-4805-c217-e2b780542ea8"
      },
      "execution_count": 7,
      "outputs": [
        {
          "output_type": "execute_result",
          "data": {
            "text/plain": [
              "(607, 615)"
            ]
          },
          "metadata": {},
          "execution_count": 7
        }
      ]
    },
    {
      "cell_type": "code",
      "source": [
        "img1.rgb.shape"
      ],
      "metadata": {
        "colab": {
          "base_uri": "https://localhost:8080/"
        },
        "id": "WMf1b_maQEh9",
        "outputId": "598def42-4c55-42d7-b44c-863ccd8cc33a"
      },
      "execution_count": 8,
      "outputs": [
        {
          "output_type": "execute_result",
          "data": {
            "text/plain": [
              "(3, 607, 615)"
            ]
          },
          "metadata": {},
          "execution_count": 8
        }
      ]
    },
    {
      "cell_type": "markdown",
      "source": [
        "# Full Code"
      ],
      "metadata": {
        "id": "32Xt8lZuWBw-"
      }
    },
    {
      "cell_type": "code",
      "source": [
        "\"\"\"\n",
        "Vaasudevan Srinivasan 🧑🏻‍💻\n",
        "StratagemGIS Solutions\n",
        "Script that shows DataClasses as a way to manage Geospatial Dataset\n",
        "\"\"\"\n",
        "\n",
        "from dataclasses import dataclass\n",
        "from functools import cached_property\n",
        "\n",
        "import numpy as np\n",
        "import rasterio as rio\n",
        "\n",
        "\n",
        "@dataclass\n",
        "class SGDataset:\n",
        "\n",
        "    b: np.ndarray\n",
        "    g: np.ndarray\n",
        "    r: np.ndarray\n",
        "    re1: np.ndarray\n",
        "    re2: np.ndarray\n",
        "    re3: np.ndarray\n",
        "    nir: np.ndarray\n",
        "    re4: np.ndarray\n",
        "    swir1: np.ndarray\n",
        "    swir2: np.ndarray\n",
        "\n",
        "    # Generate the indices\n",
        "    def __post_init__(self):\n",
        "        self.ndvi = (self.nir - self.r) / (self.nir + self.r)\n",
        "        self.ndwi = (self.g - self.nir) / (self.g + self.nir)\n",
        "\n",
        "    @cached_property\n",
        "    def rgb(self):\n",
        "        return np.asarray([self.r, self.g, self.b])\n",
        "\n",
        "    def normalize(self):\n",
        "        # Code for normalization\n",
        "        ...\n",
        "\n",
        "\n",
        "with rio.open(sentinel2_img) as src:\n",
        "    img1 = SGDataset(*src.read())\n",
        "\n",
        "print(img1.ndvi.shape)  # (607, 615)\n",
        "print(img1.rgb.shape)  # (3, 607, 615)\n"
      ],
      "metadata": {
        "colab": {
          "base_uri": "https://localhost:8080/"
        },
        "id": "D-_DQWzzWCnB",
        "outputId": "26176b9e-253f-45c8-953e-955f3454123c"
      },
      "execution_count": 11,
      "outputs": [
        {
          "output_type": "stream",
          "name": "stdout",
          "text": [
            "(607, 615)\n",
            "(3, 607, 615)\n"
          ]
        }
      ]
    },
    {
      "cell_type": "code",
      "source": [],
      "metadata": {
        "id": "KmXkdadQWvSt"
      },
      "execution_count": null,
      "outputs": []
    }
  ]
}