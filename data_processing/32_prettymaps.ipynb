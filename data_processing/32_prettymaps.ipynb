{
  "nbformat": 4,
  "nbformat_minor": 0,
  "metadata": {
    "colab": {
      "provenance": [],
      "authorship_tag": "ABX9TyOZ3Pi9hP01v+F+rjFvPsMX",
      "include_colab_link": true
    },
    "kernelspec": {
      "name": "python3",
      "display_name": "Python 3"
    },
    "language_info": {
      "name": "python"
    }
  },
  "cells": [
    {
      "cell_type": "markdown",
      "metadata": {
        "id": "view-in-github",
        "colab_type": "text"
      },
      "source": [
        "<a href=\"https://colab.research.google.com/github/StratagemGIS/notebooks/blob/main/data_processing/32_prettymaps.ipynb\" target=\"_parent\"><img src=\"https://colab.research.google.com/assets/colab-badge.svg\" alt=\"Open In Colab\"/></a>"
      ]
    },
    {
      "cell_type": "markdown",
      "source": [
        "Vaasudevan Srinivasan 🧑🏻‍💻  \n",
        "StratagemGIS Solutions"
      ],
      "metadata": {
        "id": "Hf8gaw6a7BHD"
      }
    },
    {
      "cell_type": "code",
      "execution_count": null,
      "metadata": {
        "id": "6NYXePVVvLxL"
      },
      "outputs": [],
      "source": [
        "%%capture\n",
        "!pip install prettymaps"
      ]
    },
    {
      "cell_type": "code",
      "source": [
        "import prettymaps\n",
        "import matplotlib.pyplot as plt"
      ],
      "metadata": {
        "id": "8FJAaqCTwnmw"
      },
      "execution_count": 2,
      "outputs": []
    },
    {
      "cell_type": "code",
      "source": [
        "for preset in ('default', 'tijuca'):\n",
        "    plot = prettymaps.plot('Fredericton', preset=preset, radius=2500)\n",
        "    plt.savefig(f'{preset}.png', dpi=600, bbox_inches='tight')\n",
        "    plt.close()"
      ],
      "metadata": {
        "id": "d7tMzhZ4xaCE"
      },
      "execution_count": null,
      "outputs": []
    },
    {
      "cell_type": "code",
      "source": [],
      "metadata": {
        "id": "iDrUKtEv9SGt"
      },
      "execution_count": null,
      "outputs": []
    }
  ]
}