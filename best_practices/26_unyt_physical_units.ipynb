{
  "nbformat": 4,
  "nbformat_minor": 0,
  "metadata": {
    "colab": {
      "provenance": [],
      "authorship_tag": "ABX9TyOTPGivwC+uwwLd39fEtLdu",
      "include_colab_link": true
    },
    "kernelspec": {
      "name": "python3",
      "display_name": "Python 3"
    },
    "language_info": {
      "name": "python"
    }
  },
  "cells": [
    {
      "cell_type": "markdown",
      "metadata": {
        "id": "view-in-github",
        "colab_type": "text"
      },
      "source": [
        "<a href=\"https://colab.research.google.com/github/StratagemGIS/notebooks/blob/main/best_practices/26_unyt_physical_units.ipynb\" target=\"_parent\"><img src=\"https://colab.research.google.com/assets/colab-badge.svg\" alt=\"Open In Colab\"/></a>"
      ]
    },
    {
      "cell_type": "code",
      "source": [
        "!pip install unyt"
      ],
      "metadata": {
        "colab": {
          "base_uri": "https://localhost:8080/"
        },
        "id": "k6OobTCCbtZg",
        "outputId": "c7ff57b0-be28-43ab-ea41-9abe08039752"
      },
      "execution_count": 1,
      "outputs": [
        {
          "output_type": "stream",
          "name": "stdout",
          "text": [
            "Collecting unyt\n",
            "  Downloading unyt-3.0.2-py3-none-any.whl (138 kB)\n",
            "\u001b[2K     \u001b[90m━━━━━━━━━━━━━━━━━━━━━━━━━━━━━━━━━━━━━━━━\u001b[0m \u001b[32m138.6/138.6 kB\u001b[0m \u001b[31m2.1 MB/s\u001b[0m eta \u001b[36m0:00:00\u001b[0m\n",
            "\u001b[?25hRequirement already satisfied: numpy<3.0,>=1.19.3 in /usr/local/lib/python3.10/dist-packages (from unyt) (1.25.2)\n",
            "Requirement already satisfied: sympy>=1.7 in /usr/local/lib/python3.10/dist-packages (from unyt) (1.12)\n",
            "Requirement already satisfied: packaging>=20.9 in /usr/local/lib/python3.10/dist-packages (from unyt) (24.0)\n",
            "Requirement already satisfied: mpmath>=0.19 in /usr/local/lib/python3.10/dist-packages (from sympy>=1.7->unyt) (1.3.0)\n",
            "Installing collected packages: unyt\n",
            "Successfully installed unyt-3.0.2\n"
          ]
        }
      ]
    },
    {
      "cell_type": "code",
      "execution_count": 2,
      "metadata": {
        "id": "grkPYMxmbaGB"
      },
      "outputs": [],
      "source": [
        "from unyt import acre, cm, ha, hr, m, mile, s"
      ]
    },
    {
      "cell_type": "code",
      "source": [
        "# 10m + 20cm\n",
        "print((10 * m) + (20 * cm))"
      ],
      "metadata": {
        "colab": {
          "base_uri": "https://localhost:8080/"
        },
        "id": "o8wy9ENcbvnF",
        "outputId": "40d4b78f-7643-41d8-8ca7-10fc906a5f5b"
      },
      "execution_count": 3,
      "outputs": [
        {
          "output_type": "stream",
          "name": "stdout",
          "text": [
            "10.2 m\n"
          ]
        }
      ]
    },
    {
      "cell_type": "code",
      "source": [
        "# 1 acre to hectare\n",
        "print((1 * acre).to(ha))"
      ],
      "metadata": {
        "colab": {
          "base_uri": "https://localhost:8080/"
        },
        "id": "s28nSJlKb6e0",
        "outputId": "8f5f19c0-2649-432e-d42e-eefa095714ea"
      },
      "execution_count": 4,
      "outputs": [
        {
          "output_type": "stream",
          "name": "stdout",
          "text": [
            "0.40468564224000003 ha\n"
          ]
        }
      ]
    },
    {
      "cell_type": "code",
      "source": [
        "velocities = [20, 22, 25] * m / s\n",
        "print(velocities.to(mile / hr))"
      ],
      "metadata": {
        "colab": {
          "base_uri": "https://localhost:8080/"
        },
        "id": "LF92SBCmcG5B",
        "outputId": "f885692b-a620-46fb-e925-7bdcd4bfc6d3"
      },
      "execution_count": 5,
      "outputs": [
        {
          "output_type": "stream",
          "name": "stdout",
          "text": [
            "[44.73872584 49.21259843 55.9234073 ] mile/hr\n"
          ]
        }
      ]
    },
    {
      "cell_type": "code",
      "source": [],
      "metadata": {
        "id": "MKCCAy_adoYa"
      },
      "execution_count": 5,
      "outputs": []
    },
    {
      "cell_type": "code",
      "source": [],
      "metadata": {
        "id": "pSq2BwAbeCGy"
      },
      "execution_count": null,
      "outputs": []
    },
    {
      "cell_type": "code",
      "source": [],
      "metadata": {
        "id": "rdvxAuF3eCQ8"
      },
      "execution_count": null,
      "outputs": []
    }
  ]
}