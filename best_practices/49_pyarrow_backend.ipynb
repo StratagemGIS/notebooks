{
  "nbformat": 4,
  "nbformat_minor": 0,
  "metadata": {
    "colab": {
      "provenance": [],
      "toc_visible": true,
      "authorship_tag": "ABX9TyO9HL8uuWcK0PlJ8mLgbso8",
      "include_colab_link": true
    },
    "kernelspec": {
      "name": "python3",
      "display_name": "Python 3"
    },
    "language_info": {
      "name": "python"
    }
  },
  "cells": [
    {
      "cell_type": "markdown",
      "metadata": {
        "id": "view-in-github",
        "colab_type": "text"
      },
      "source": [
        "<a href=\"https://colab.research.google.com/github/StratagemGIS/notebooks/blob/main/best_practices/49_pyarrow_backend.ipynb\" target=\"_parent\"><img src=\"https://colab.research.google.com/assets/colab-badge.svg\" alt=\"Open In Colab\"/></a>"
      ]
    },
    {
      "cell_type": "markdown",
      "source": [
        "Vaasudevan Srinivasan 🧑🏻‍💻  \n",
        "StratagemGIS Solutions"
      ],
      "metadata": {
        "id": "-h0lW941uJ47"
      }
    },
    {
      "cell_type": "code",
      "execution_count": null,
      "metadata": {
        "id": "K_-u2b1TqYjQ"
      },
      "outputs": [],
      "source": [
        "import pandas as pd\n",
        "import pooch"
      ]
    },
    {
      "cell_type": "code",
      "source": [
        "spotify_songs = pooch.retrieve(\n",
        "    'https://github.com/StratagemGIS/datasets/raw/main/table/spotify_songs.csv',\n",
        "    known_hash='9902920cfe4940f0914ebb6716801a42f7f19ac88fbd6693eaae7e2822b16845'\n",
        ")"
      ],
      "metadata": {
        "id": "Mt59I0JMugjo"
      },
      "execution_count": null,
      "outputs": []
    },
    {
      "cell_type": "code",
      "source": [
        "def default_backend():\n",
        "    return pd.read_csv(spotify_songs)\n",
        "\n",
        "def pyarrow_backend():\n",
        "    return pd.read_csv(spotify_songs, engine='pyarrow', dtype_backend='pyarrow')"
      ],
      "metadata": {
        "id": "jrdhP0h8y1m6"
      },
      "execution_count": null,
      "outputs": []
    },
    {
      "cell_type": "code",
      "source": [
        "%%timeit\n",
        "default_backend()"
      ],
      "metadata": {
        "colab": {
          "base_uri": "https://localhost:8080/"
        },
        "id": "9prGXjHYt2z-",
        "outputId": "018b3adb-a9d0-421b-83a3-88921cf2e568"
      },
      "execution_count": null,
      "outputs": [
        {
          "output_type": "stream",
          "name": "stdout",
          "text": [
            "343 ms ± 17 ms per loop (mean ± std. dev. of 7 runs, 1 loop each)\n"
          ]
        }
      ]
    },
    {
      "cell_type": "code",
      "source": [
        "%%timeit\n",
        "pyarrow_backend()"
      ],
      "metadata": {
        "colab": {
          "base_uri": "https://localhost:8080/"
        },
        "id": "GrLmCvUEt6hi",
        "outputId": "2d5bf8a2-8baa-4513-c055-d8cde0c16655"
      },
      "execution_count": null,
      "outputs": [
        {
          "output_type": "stream",
          "name": "stdout",
          "text": [
            "79.2 ms ± 23.4 ms per loop (mean ± std. dev. of 7 runs, 10 loops each)\n"
          ]
        }
      ]
    },
    {
      "cell_type": "code",
      "source": [
        "default_backend().memory_usage(deep=True).sum()"
      ],
      "metadata": {
        "colab": {
          "base_uri": "https://localhost:8080/"
        },
        "id": "8A2q4NxHzh3k",
        "outputId": "dde09963-09dd-4437-eb0b-4338aca5cc4f"
      },
      "execution_count": null,
      "outputs": [
        {
          "output_type": "execute_result",
          "data": {
            "text/plain": [
              "27984976"
            ]
          },
          "metadata": {},
          "execution_count": 13
        }
      ]
    },
    {
      "cell_type": "code",
      "source": [
        "pyarrow_backend().memory_usage(deep=True).sum()"
      ],
      "metadata": {
        "colab": {
          "base_uri": "https://localhost:8080/"
        },
        "id": "WYqjMrK4zmb-",
        "outputId": "96b189ca-2210-4149-9bd1-55208a5c57c8"
      },
      "execution_count": null,
      "outputs": [
        {
          "output_type": "execute_result",
          "data": {
            "text/plain": [
              "10029315"
            ]
          },
          "metadata": {},
          "execution_count": 14
        }
      ]
    }
  ]
}