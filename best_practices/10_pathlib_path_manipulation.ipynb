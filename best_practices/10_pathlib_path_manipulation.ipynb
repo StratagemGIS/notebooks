{
  "nbformat": 4,
  "nbformat_minor": 0,
  "metadata": {
    "colab": {
      "provenance": [],
      "authorship_tag": "ABX9TyMYTzTAbBrwH4+UB6rd2R9d",
      "include_colab_link": true
    },
    "kernelspec": {
      "name": "python3",
      "display_name": "Python 3"
    },
    "language_info": {
      "name": "python"
    }
  },
  "cells": [
    {
      "cell_type": "markdown",
      "metadata": {
        "id": "view-in-github",
        "colab_type": "text"
      },
      "source": [
        "<a href=\"https://colab.research.google.com/github/StratagemGIS/notebooks/blob/main/best_practices/10_pathlib_path_manipulation.ipynb\" target=\"_parent\"><img src=\"https://colab.research.google.com/assets/colab-badge.svg\" alt=\"Open In Colab\"/></a>"
      ]
    },
    {
      "cell_type": "code",
      "execution_count": 1,
      "metadata": {
        "id": "yi-j83FXR-r9"
      },
      "outputs": [],
      "source": [
        "from pathlib import Path"
      ]
    },
    {
      "cell_type": "code",
      "source": [
        "p = Path('/root/.cache/pooch/oromocto_jun2021_composite.tif')"
      ],
      "metadata": {
        "id": "Tlt8UyaaTJw4"
      },
      "execution_count": 2,
      "outputs": []
    },
    {
      "cell_type": "code",
      "source": [
        "print(f'{p.suffix = }')\n",
        "print(f'{p.stem = }')\n",
        "print(f'{p.name = }')\n",
        "print(f'{p.parent = }')"
      ],
      "metadata": {
        "colab": {
          "base_uri": "https://localhost:8080/"
        },
        "id": "xH2w6dVPSNZv",
        "outputId": "bf892ba8-97b3-4142-ad0c-b38be1f22269"
      },
      "execution_count": 3,
      "outputs": [
        {
          "output_type": "stream",
          "name": "stdout",
          "text": [
            "p.suffix = '.tif'\n",
            "p.stem = 'oromocto_jun2021_composite'\n",
            "p.name = 'oromocto_jun2021_composite.tif'\n",
            "p.parent = PosixPath('/root/.cache/pooch')\n"
          ]
        }
      ]
    },
    {
      "cell_type": "code",
      "source": [
        "print(p.with_suffix('.png'))\n",
        "print(p.with_stem('result1'))\n",
        "print(p.with_name('log.txt'))"
      ],
      "metadata": {
        "colab": {
          "base_uri": "https://localhost:8080/"
        },
        "id": "DD-uAjqVSXOj",
        "outputId": "816108b3-bcd6-462d-a7ed-4201b807d73d"
      },
      "execution_count": 4,
      "outputs": [
        {
          "output_type": "stream",
          "name": "stdout",
          "text": [
            "/root/.cache/pooch/oromocto_jun2021_composite.png\n",
            "/root/.cache/pooch/result1.tif\n",
            "/root/.cache/pooch/log.txt\n"
          ]
        }
      ]
    },
    {
      "cell_type": "code",
      "source": [
        "print(list(p.parents))"
      ],
      "metadata": {
        "colab": {
          "base_uri": "https://localhost:8080/"
        },
        "id": "UUkwhI9WT4nf",
        "outputId": "76f54d1f-c4aa-4ed6-c129-efde7f00dfa9"
      },
      "execution_count": 5,
      "outputs": [
        {
          "output_type": "stream",
          "name": "stdout",
          "text": [
            "[PosixPath('/root/.cache/pooch'), PosixPath('/root/.cache'), PosixPath('/root'), PosixPath('/')]\n"
          ]
        }
      ]
    },
    {
      "cell_type": "code",
      "source": [
        "print(p.parts)"
      ],
      "metadata": {
        "colab": {
          "base_uri": "https://localhost:8080/"
        },
        "id": "TS90DfEAUGh1",
        "outputId": "297c1c91-7771-428a-9ee3-47323573ce5b"
      },
      "execution_count": 6,
      "outputs": [
        {
          "output_type": "stream",
          "name": "stdout",
          "text": [
            "('/', 'root', '.cache', 'pooch', 'oromocto_jun2021_composite.tif')\n"
          ]
        }
      ]
    },
    {
      "cell_type": "code",
      "source": [],
      "metadata": {
        "id": "PNlvJC1gUT4_"
      },
      "execution_count": 6,
      "outputs": []
    },
    {
      "cell_type": "code",
      "source": [],
      "metadata": {
        "id": "badfVriaUkiB"
      },
      "execution_count": null,
      "outputs": []
    }
  ]
}