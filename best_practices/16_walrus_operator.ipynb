{
  "nbformat": 4,
  "nbformat_minor": 0,
  "metadata": {
    "colab": {
      "provenance": [],
      "toc_visible": true,
      "authorship_tag": "ABX9TyNc+RwaKa3PUPzFWzQXYH64",
      "include_colab_link": true
    },
    "kernelspec": {
      "name": "python3",
      "display_name": "Python 3"
    },
    "language_info": {
      "name": "python"
    }
  },
  "cells": [
    {
      "cell_type": "markdown",
      "metadata": {
        "id": "view-in-github",
        "colab_type": "text"
      },
      "source": [
        "<a href=\"https://colab.research.google.com/github/StratagemGIS/notebooks/blob/main/best_practices/16_walrus_operator.ipynb\" target=\"_parent\"><img src=\"https://colab.research.google.com/assets/colab-badge.svg\" alt=\"Open In Colab\"/></a>"
      ]
    },
    {
      "cell_type": "code",
      "execution_count": 3,
      "metadata": {
        "id": "r9-z8SeCj8F3"
      },
      "outputs": [],
      "source": [
        "def some_function():\n",
        "    ..."
      ]
    },
    {
      "cell_type": "code",
      "source": [
        "# Don't do this\n",
        "result = some_function()\n",
        "if result:\n",
        "    print('success')\n",
        "else:\n",
        "    print('failure')"
      ],
      "metadata": {
        "colab": {
          "base_uri": "https://localhost:8080/"
        },
        "id": "qQVfJ6v8ldIT",
        "outputId": "c1a332b5-d0b0-49aa-8951-65178e76e367"
      },
      "execution_count": 4,
      "outputs": [
        {
          "output_type": "stream",
          "name": "stdout",
          "text": [
            "failure\n"
          ]
        }
      ]
    },
    {
      "cell_type": "code",
      "source": [
        "# Do this\n",
        "if (result := some_function()):\n",
        "    print('success')\n",
        "else:\n",
        "    print('failure')"
      ],
      "metadata": {
        "colab": {
          "base_uri": "https://localhost:8080/"
        },
        "id": "xylCFakxlFJa",
        "outputId": "4f673291-603e-4c69-dabe-d093cd26274c"
      },
      "execution_count": 5,
      "outputs": [
        {
          "output_type": "stream",
          "name": "stdout",
          "text": [
            "failure\n"
          ]
        }
      ]
    },
    {
      "cell_type": "markdown",
      "source": [
        "# Full Code"
      ],
      "metadata": {
        "id": "lceN3SC_lZ7f"
      }
    },
    {
      "cell_type": "code",
      "source": [
        "\"\"\"\n",
        "Vaasudevan Srinivasan\n",
        "StratagemGIS Solutions\n",
        "Script that shows the usage of walrus operator\n",
        "\"\"\"\n",
        "\n",
        "\n",
        "def some_function():\n",
        "    ...\n",
        "\n",
        "\n",
        "# Don't do this\n",
        "result = some_function()\n",
        "if result:\n",
        "    print('success')\n",
        "else:\n",
        "    print('failure')\n",
        "\n",
        "\n",
        "# Do this\n",
        "if (result := some_function()):\n",
        "    print('success')\n",
        "else:\n",
        "    print('failure')"
      ],
      "metadata": {
        "colab": {
          "base_uri": "https://localhost:8080/"
        },
        "id": "8Te3D0milN_l",
        "outputId": "97f4940d-6f5e-457f-d20f-a3b2f55fe788"
      },
      "execution_count": 6,
      "outputs": [
        {
          "output_type": "stream",
          "name": "stdout",
          "text": [
            "failure\n",
            "failure\n"
          ]
        }
      ]
    },
    {
      "cell_type": "code",
      "source": [],
      "metadata": {
        "id": "x6czc_rWle8V"
      },
      "execution_count": null,
      "outputs": []
    }
  ]
}