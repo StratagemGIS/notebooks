{
  "nbformat": 4,
  "nbformat_minor": 0,
  "metadata": {
    "colab": {
      "provenance": [],
      "authorship_tag": "ABX9TyMVp70jfQVGlr2RPmSrKG4m",
      "include_colab_link": true
    },
    "kernelspec": {
      "name": "python3",
      "display_name": "Python 3"
    },
    "language_info": {
      "name": "python"
    }
  },
  "cells": [
    {
      "cell_type": "markdown",
      "metadata": {
        "id": "view-in-github",
        "colab_type": "text"
      },
      "source": [
        "<a href=\"https://colab.research.google.com/github/StratagemGIS/notebooks/blob/main/best_practices/23_geopandas_pyogrio_pyarrow.ipynb\" target=\"_parent\"><img src=\"https://colab.research.google.com/assets/colab-badge.svg\" alt=\"Open In Colab\"/></a>"
      ]
    },
    {
      "cell_type": "code",
      "source": [
        "!pip install pyogrio pyarrow"
      ],
      "metadata": {
        "id": "R8Q-kAjeHs9w",
        "colab": {
          "base_uri": "https://localhost:8080/"
        },
        "outputId": "c488f26a-9362-4e85-e103-b616fd3d4b36"
      },
      "execution_count": 1,
      "outputs": [
        {
          "output_type": "stream",
          "name": "stdout",
          "text": [
            "Collecting pyogrio\n",
            "  Downloading pyogrio-0.8.0-cp310-cp310-manylinux_2_17_x86_64.manylinux2014_x86_64.whl (23.1 MB)\n",
            "\u001b[2K     \u001b[90m━━━━━━━━━━━━━━━━━━━━━━━━━━━━━━━━━━━━━━━━\u001b[0m \u001b[32m23.1/23.1 MB\u001b[0m \u001b[31m16.6 MB/s\u001b[0m eta \u001b[36m0:00:00\u001b[0m\n",
            "\u001b[?25hRequirement already satisfied: pyarrow in /usr/local/lib/python3.10/dist-packages (14.0.2)\n",
            "Requirement already satisfied: certifi in /usr/local/lib/python3.10/dist-packages (from pyogrio) (2024.2.2)\n",
            "Requirement already satisfied: numpy in /usr/local/lib/python3.10/dist-packages (from pyogrio) (1.25.2)\n",
            "Requirement already satisfied: packaging in /usr/local/lib/python3.10/dist-packages (from pyogrio) (24.0)\n",
            "Installing collected packages: pyogrio\n",
            "Successfully installed pyogrio-0.8.0\n"
          ]
        }
      ]
    },
    {
      "cell_type": "markdown",
      "source": [
        "# Calculate Time"
      ],
      "metadata": {
        "id": "l63zEVawaOZ6"
      }
    },
    {
      "cell_type": "code",
      "source": [
        "import geopandas as gpd\n",
        "import pooch"
      ],
      "metadata": {
        "id": "UBJphyFWH8QD"
      },
      "execution_count": 2,
      "outputs": []
    },
    {
      "cell_type": "code",
      "source": [
        "anb_file = pooch.retrieve(\n",
        "    'https://github.com/StratagemGIS/datasets/raw/main/vector/geonb_anb_shp.zip',\n",
        "    known_hash='67de38f5edb30f2578aef2a64f10a0a7cc7a8a1b77d680e34936574e35528f26'\n",
        ")"
      ],
      "metadata": {
        "id": "eU0ugGixHkha",
        "colab": {
          "base_uri": "https://localhost:8080/"
        },
        "outputId": "0dbca09d-8239-4f29-b426-828c70238ab5"
      },
      "execution_count": 3,
      "outputs": [
        {
          "output_type": "stream",
          "name": "stderr",
          "text": [
            "Downloading data from 'https://github.com/StratagemGIS/datasets/raw/main/vector/geonb_anb_shp.zip' to file '/root/.cache/pooch/2520ffadcdc6224a88a33a77bbf2de03-geonb_anb_shp.zip'.\n"
          ]
        }
      ]
    },
    {
      "cell_type": "code",
      "source": [
        "anb_file = f'{anb_file}!geonb_anb_addresses.shp'\n",
        "anb_file"
      ],
      "metadata": {
        "id": "MgZUr5cGJALm",
        "colab": {
          "base_uri": "https://localhost:8080/",
          "height": 35
        },
        "outputId": "10f2c554-619d-4a69-d3e5-8bc6a4a78bf6"
      },
      "execution_count": 4,
      "outputs": [
        {
          "output_type": "execute_result",
          "data": {
            "text/plain": [
              "'/root/.cache/pooch/2520ffadcdc6224a88a33a77bbf2de03-geonb_anb_shp.zip!geonb_anb_addresses.shp'"
            ],
            "application/vnd.google.colaboratory.intrinsic+json": {
              "type": "string"
            }
          },
          "metadata": {},
          "execution_count": 4
        }
      ]
    },
    {
      "cell_type": "code",
      "source": [
        "%%timeit -n 1 -r 3\n",
        "df1 = gpd.read_file(anb_file, engine='fiona')"
      ],
      "metadata": {
        "id": "VxLgwdGQH-dj",
        "colab": {
          "base_uri": "https://localhost:8080/"
        },
        "outputId": "cfc695ea-6f1e-4500-dc5f-bff71342f6fb"
      },
      "execution_count": 5,
      "outputs": [
        {
          "output_type": "stream",
          "name": "stdout",
          "text": [
            "3min 40s ± 5.65 s per loop (mean ± std. dev. of 3 runs, 1 loop each)\n"
          ]
        }
      ]
    },
    {
      "cell_type": "code",
      "source": [
        "%%timeit -n 1 -r 3\n",
        "df2 = gpd.read_file(anb_file, engine='pyogrio')"
      ],
      "metadata": {
        "id": "3vqirYosIaKU",
        "colab": {
          "base_uri": "https://localhost:8080/"
        },
        "outputId": "c360a900-4efc-4947-d770-40b6086f71f8"
      },
      "execution_count": 6,
      "outputs": [
        {
          "output_type": "stream",
          "name": "stdout",
          "text": [
            "21.3 s ± 332 ms per loop (mean ± std. dev. of 3 runs, 1 loop each)\n"
          ]
        }
      ]
    },
    {
      "cell_type": "code",
      "source": [
        "%%timeit -n 1 -r 3\n",
        "df3 = gpd.read_file(anb_file, engine='pyogrio', use_arrow=True)"
      ],
      "metadata": {
        "id": "x49HOF13Iqkr",
        "colab": {
          "base_uri": "https://localhost:8080/"
        },
        "outputId": "30d706f1-814d-4fdf-96bb-b1d8f3352e3b"
      },
      "execution_count": 7,
      "outputs": [
        {
          "output_type": "stream",
          "name": "stdout",
          "text": [
            "12.2 s ± 219 ms per loop (mean ± std. dev. of 3 runs, 1 loop each)\n"
          ]
        }
      ]
    },
    {
      "cell_type": "markdown",
      "source": [
        "# Plotting"
      ],
      "metadata": {
        "id": "Uc3O6nhMXXTT"
      }
    },
    {
      "cell_type": "code",
      "source": [
        "import matplotlib.pyplot as plt\n",
        "import seaborn as sns"
      ],
      "metadata": {
        "id": "Qzi4i5NMXYcl"
      },
      "execution_count": 8,
      "outputs": []
    },
    {
      "cell_type": "code",
      "source": [
        "custom = {'grid.linestyle': 'dashed', 'grid.color': 'black'}\n",
        "sns.set_style('whitegrid', rc=custom)"
      ],
      "metadata": {
        "id": "_HbYQNsHXZWL"
      },
      "execution_count": 9,
      "outputs": []
    },
    {
      "cell_type": "code",
      "source": [
        "plt.bar(['fiona', 'pyogrio', 'pyogrio & pyarrow'], [220, 21.3, 12.2])\n",
        "plt.ylabel('Time (seconds)')\n",
        "plt.title('Reading NB - Civic Addresses Dataset (383k records)')\n",
        "plt.savefig('timeit_result.png', bbox_inches='tight', dpi=600);"
      ],
      "metadata": {
        "id": "dhoDtfceTN-q",
        "colab": {
          "base_uri": "https://localhost:8080/",
          "height": 452
        },
        "outputId": "8a05a0b8-e32e-4788-ba8d-2cccf1f66319"
      },
      "execution_count": 11,
      "outputs": [
        {
          "output_type": "display_data",
          "data": {
            "text/plain": [
              "<Figure size 640x480 with 1 Axes>"
            ],
            "image/png": "[encoded data removed]"
          },
          "metadata": {}
        }
      ]
    },
    {
      "cell_type": "code",
      "source": [],
      "metadata": {
        "id": "m9zlzbzlVyog"
      },
      "execution_count": 10,
      "outputs": []
    }
  ]
}