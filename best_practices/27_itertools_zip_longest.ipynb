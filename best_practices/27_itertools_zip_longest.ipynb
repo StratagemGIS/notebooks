{
  "nbformat": 4,
  "nbformat_minor": 0,
  "metadata": {
    "colab": {
      "provenance": [],
      "toc_visible": true,
      "authorship_tag": "ABX9TyNLg4TAA7t3Uf8WnhlzbMa2",
      "include_colab_link": true
    },
    "kernelspec": {
      "name": "python3",
      "display_name": "Python 3"
    },
    "language_info": {
      "name": "python"
    }
  },
  "cells": [
    {
      "cell_type": "markdown",
      "metadata": {
        "id": "view-in-github",
        "colab_type": "text"
      },
      "source": [
        "<a href=\"https://colab.research.google.com/github/StratagemGIS/notebooks/blob/main/best_practices/27_itertools_zip_longest.ipynb\" target=\"_parent\"><img src=\"https://colab.research.google.com/assets/colab-badge.svg\" alt=\"Open In Colab\"/></a>"
      ]
    },
    {
      "cell_type": "code",
      "execution_count": 1,
      "metadata": {
        "id": "-vwViQp8Fb59"
      },
      "outputs": [],
      "source": [
        "names = ['Allison', 'Trey', 'David', 'Alexandra']\n",
        "countries = ['Canada', 'Mexico', 'China']"
      ]
    },
    {
      "cell_type": "code",
      "source": [
        "for name, country in zip(names, countries):\n",
        "    print(f'{name=}, {country=}')"
      ],
      "metadata": {
        "colab": {
          "base_uri": "https://localhost:8080/"
        },
        "id": "6BYSb3_lGRPl",
        "outputId": "9acf5e75-5bc2-4075-d8a9-d315e76709c0"
      },
      "execution_count": 2,
      "outputs": [
        {
          "output_type": "stream",
          "name": "stdout",
          "text": [
            "name='Allison', country='Canada'\n",
            "name='Trey', country='Mexico'\n",
            "name='David', country='China'\n"
          ]
        }
      ]
    },
    {
      "cell_type": "markdown",
      "source": [
        "# `zip_longest`"
      ],
      "metadata": {
        "id": "qAA5COJlGleS"
      }
    },
    {
      "cell_type": "code",
      "source": [
        "from itertools import zip_longest"
      ],
      "metadata": {
        "id": "E6weZhKyGUlI"
      },
      "execution_count": 3,
      "outputs": []
    },
    {
      "cell_type": "code",
      "source": [
        "for name, country in zip_longest(names, countries, fillvalue='World'):\n",
        "    print(f'{name=}, {country=}')"
      ],
      "metadata": {
        "colab": {
          "base_uri": "https://localhost:8080/"
        },
        "id": "ZooCX0WdGgHR",
        "outputId": "17883c57-9541-44d3-86f1-6b79ab5889fb"
      },
      "execution_count": 4,
      "outputs": [
        {
          "output_type": "stream",
          "name": "stdout",
          "text": [
            "name='Allison', country='Canada'\n",
            "name='Trey', country='Mexico'\n",
            "name='David', country='China'\n",
            "name='Alexandra', country='World'\n"
          ]
        }
      ]
    },
    {
      "cell_type": "code",
      "source": [],
      "metadata": {
        "id": "Fr8BzG50GkEO"
      },
      "execution_count": 4,
      "outputs": []
    },
    {
      "cell_type": "code",
      "source": [],
      "metadata": {
        "id": "4aHqSpePG7nN"
      },
      "execution_count": 4,
      "outputs": []
    },
    {
      "cell_type": "code",
      "source": [],
      "metadata": {
        "id": "zrWlqoO-G7pM"
      },
      "execution_count": 4,
      "outputs": []
    }
  ]
}