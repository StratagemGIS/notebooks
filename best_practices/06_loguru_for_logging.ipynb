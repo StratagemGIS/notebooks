{
  "nbformat": 4,
  "nbformat_minor": 0,
  "metadata": {
    "colab": {
      "provenance": [],
      "toc_visible": true,
      "authorship_tag": "ABX9TyMN5UhdjSvW5YUtCMFJ7FzQ",
      "include_colab_link": true
    },
    "kernelspec": {
      "name": "python3",
      "display_name": "Python 3"
    },
    "language_info": {
      "name": "python"
    }
  },
  "cells": [
    {
      "cell_type": "markdown",
      "metadata": {
        "id": "view-in-github",
        "colab_type": "text"
      },
      "source": [
        "<a href=\"https://colab.research.google.com/github/StratagemGIS/notebooks/blob/main/best_practices/06_loguru_for_logging.ipynb\" target=\"_parent\"><img src=\"https://colab.research.google.com/assets/colab-badge.svg\" alt=\"Open In Colab\"/></a>"
      ]
    },
    {
      "cell_type": "code",
      "source": [
        "!pip install loguru"
      ],
      "metadata": {
        "colab": {
          "base_uri": "https://localhost:8080/"
        },
        "id": "PTiWN2XJRqZm",
        "outputId": "fe6ce314-24c2-40ab-8eb7-3a8e78c9a035"
      },
      "execution_count": 1,
      "outputs": [
        {
          "output_type": "stream",
          "name": "stdout",
          "text": [
            "Requirement already satisfied: loguru in /usr/local/lib/python3.10/dist-packages (0.7.2)\n"
          ]
        }
      ]
    },
    {
      "cell_type": "code",
      "execution_count": 2,
      "metadata": {
        "id": "VozphoNORc7x"
      },
      "outputs": [],
      "source": [
        "from loguru import logger"
      ]
    },
    {
      "cell_type": "code",
      "source": [
        "def my_func():\n",
        "    logger.info('Inside my_func')"
      ],
      "metadata": {
        "id": "j3MFeZ1YW_mp"
      },
      "execution_count": 3,
      "outputs": []
    },
    {
      "cell_type": "code",
      "source": [
        "def check_denominator(denom):\n",
        "    try:\n",
        "        1 / denom\n",
        "        logger.success(f'Succeeded for {denom=}')\n",
        "    except ZeroDivisionError:\n",
        "        logger.error(f'Not possible for {denom=}')"
      ],
      "metadata": {
        "id": "0rTxegQpXAT2"
      },
      "execution_count": 4,
      "outputs": []
    },
    {
      "cell_type": "code",
      "source": [
        "def warn_user():\n",
        "    logger.warning('Deprecation Alert')"
      ],
      "metadata": {
        "id": "z4VZ9GqFXQEp"
      },
      "execution_count": 5,
      "outputs": []
    },
    {
      "cell_type": "code",
      "source": [
        "def main():\n",
        "\n",
        "    logger.debug('Inside Main')\n",
        "    my_func()\n",
        "    check_denominator(0)\n",
        "    check_denominator(1)\n",
        "    warn_user()\n",
        "\n",
        "\n",
        "main()\n",
        "logger.critical('I am absolutely important')"
      ],
      "metadata": {
        "colab": {
          "base_uri": "https://localhost:8080/"
        },
        "id": "MrueKY7fRiYL",
        "outputId": "91852b59-760d-404c-bb4e-4915e8ba92a2"
      },
      "execution_count": 6,
      "outputs": [
        {
          "output_type": "stream",
          "name": "stderr",
          "text": [
            "\u001b[32m2024-05-01 22:55:09.306\u001b[0m | \u001b[34m\u001b[1mDEBUG   \u001b[0m | \u001b[36m__main__\u001b[0m:\u001b[36mmain\u001b[0m:\u001b[36m3\u001b[0m - \u001b[34m\u001b[1mInside Main\u001b[0m\n",
            "\u001b[32m2024-05-01 22:55:09.310\u001b[0m | \u001b[1mINFO    \u001b[0m | \u001b[36m__main__\u001b[0m:\u001b[36mmy_func\u001b[0m:\u001b[36m2\u001b[0m - \u001b[1mInside my_func\u001b[0m\n",
            "\u001b[32m2024-05-01 22:55:09.313\u001b[0m | \u001b[31m\u001b[1mERROR   \u001b[0m | \u001b[36m__main__\u001b[0m:\u001b[36mcheck_denominator\u001b[0m:\u001b[36m6\u001b[0m - \u001b[31m\u001b[1mNot possible for denom=0\u001b[0m\n",
            "\u001b[32m2024-05-01 22:55:09.316\u001b[0m | \u001b[32m\u001b[1mSUCCESS \u001b[0m | \u001b[36m__main__\u001b[0m:\u001b[36mcheck_denominator\u001b[0m:\u001b[36m4\u001b[0m - \u001b[32m\u001b[1mSucceeded for denom=1\u001b[0m\n",
            "\u001b[32m2024-05-01 22:55:09.318\u001b[0m | \u001b[33m\u001b[1mWARNING \u001b[0m | \u001b[36m__main__\u001b[0m:\u001b[36mwarn_user\u001b[0m:\u001b[36m2\u001b[0m - \u001b[33m\u001b[1mDeprecation Alert\u001b[0m\n",
            "\u001b[32m2024-05-01 22:55:09.320\u001b[0m | \u001b[41m\u001b[1mCRITICAL\u001b[0m | \u001b[36m__main__\u001b[0m:\u001b[36m<cell line: 11>\u001b[0m:\u001b[36m11\u001b[0m - \u001b[41m\u001b[1mI am absolutely important\u001b[0m\n"
          ]
        }
      ]
    },
    {
      "cell_type": "code",
      "source": [],
      "metadata": {
        "id": "K2zFbNrGSQcq"
      },
      "execution_count": 6,
      "outputs": []
    },
    {
      "cell_type": "code",
      "source": [],
      "metadata": {
        "id": "fbuxjolqb33Q"
      },
      "execution_count": null,
      "outputs": []
    },
    {
      "cell_type": "code",
      "source": [],
      "metadata": {
        "id": "nenIdLqrb35r"
      },
      "execution_count": null,
      "outputs": []
    },
    {
      "cell_type": "code",
      "source": [],
      "metadata": {
        "id": "BefDwkctb38D"
      },
      "execution_count": null,
      "outputs": []
    }
  ]
}