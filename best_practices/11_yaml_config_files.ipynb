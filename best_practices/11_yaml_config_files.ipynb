{
  "nbformat": 4,
  "nbformat_minor": 0,
  "metadata": {
    "colab": {
      "provenance": [],
      "authorship_tag": "ABX9TyNALSEgrRIkVyonn1ac9cxm",
      "include_colab_link": true
    },
    "kernelspec": {
      "name": "python3",
      "display_name": "Python 3"
    },
    "language_info": {
      "name": "python"
    }
  },
  "cells": [
    {
      "cell_type": "markdown",
      "metadata": {
        "id": "view-in-github",
        "colab_type": "text"
      },
      "source": [
        "<a href=\"https://colab.research.google.com/github/StratagemGIS/notebooks/blob/main/best_practices/11_yaml_config_files.ipynb\" target=\"_parent\"><img src=\"https://colab.research.google.com/assets/colab-badge.svg\" alt=\"Open In Colab\"/></a>"
      ]
    },
    {
      "cell_type": "code",
      "source": [
        "!pip install PyYaml python-box rasterio"
      ],
      "metadata": {
        "colab": {
          "base_uri": "https://localhost:8080/"
        },
        "id": "OvmmCztjj7YD",
        "outputId": "08900b93-4aa1-4b10-83d1-6c85e3cf2671"
      },
      "execution_count": 1,
      "outputs": [
        {
          "output_type": "stream",
          "name": "stdout",
          "text": [
            "Requirement already satisfied: PyYaml in /usr/local/lib/python3.10/dist-packages (6.0.1)\n",
            "Requirement already satisfied: python-box in /usr/local/lib/python3.10/dist-packages (7.1.1)\n",
            "Collecting rasterio\n",
            "  Downloading rasterio-1.3.10-cp310-cp310-manylinux2014_x86_64.whl (21.5 MB)\n",
            "\u001b[2K     \u001b[90m━━━━━━━━━━━━━━━━━━━━━━━━━━━━━━━━━━━━━━━━\u001b[0m \u001b[32m21.5/21.5 MB\u001b[0m \u001b[31m26.5 MB/s\u001b[0m eta \u001b[36m0:00:00\u001b[0m\n",
            "\u001b[?25hCollecting affine (from rasterio)\n",
            "  Downloading affine-2.4.0-py3-none-any.whl (15 kB)\n",
            "Requirement already satisfied: attrs in /usr/local/lib/python3.10/dist-packages (from rasterio) (23.2.0)\n",
            "Requirement already satisfied: certifi in /usr/local/lib/python3.10/dist-packages (from rasterio) (2024.2.2)\n",
            "Requirement already satisfied: click>=4.0 in /usr/local/lib/python3.10/dist-packages (from rasterio) (8.1.7)\n",
            "Requirement already satisfied: cligj>=0.5 in /usr/local/lib/python3.10/dist-packages (from rasterio) (0.7.2)\n",
            "Requirement already satisfied: numpy in /usr/local/lib/python3.10/dist-packages (from rasterio) (1.25.2)\n",
            "Collecting snuggs>=1.4.1 (from rasterio)\n",
            "  Downloading snuggs-1.4.7-py3-none-any.whl (5.4 kB)\n",
            "Requirement already satisfied: click-plugins in /usr/local/lib/python3.10/dist-packages (from rasterio) (1.1.1)\n",
            "Requirement already satisfied: setuptools in /usr/local/lib/python3.10/dist-packages (from rasterio) (67.7.2)\n",
            "Requirement already satisfied: pyparsing>=2.1.6 in /usr/local/lib/python3.10/dist-packages (from snuggs>=1.4.1->rasterio) (3.1.2)\n",
            "Installing collected packages: snuggs, affine, rasterio\n",
            "Successfully installed affine-2.4.0 rasterio-1.3.10 snuggs-1.4.7\n"
          ]
        }
      ]
    },
    {
      "cell_type": "code",
      "source": [
        "import pooch\n",
        "import rasterio as rio\n",
        "import yaml\n",
        "from box import Box"
      ],
      "metadata": {
        "id": "8W_WzYLtgZSk"
      },
      "execution_count": 2,
      "outputs": []
    },
    {
      "cell_type": "code",
      "source": [
        "def generate_difference_image(cfg):\n",
        "\n",
        "    with rio.open(cfg.input_image) as src:\n",
        "        src_cfg = src.profile\n",
        "        b1, b2 = src.read(cfg.band_ixs)\n",
        "        result = (b2 - b1) / (b2 + b1)\n",
        "\n",
        "    src_cfg.update(count=1)\n",
        "    with rio.open(cfg.output_image, 'w', **src_cfg) as out:\n",
        "        out.write(result, 1)"
      ],
      "metadata": {
        "id": "wJPOzy4flvPE"
      },
      "execution_count": 3,
      "outputs": []
    },
    {
      "cell_type": "code",
      "source": [
        "sentinel2_img = pooch.retrieve(\n",
        "    'https://github.com/StratagemGIS/datasets/raw/main/raster/oromocto_jun2021_composite.tif',\n",
        "    known_hash='e08df41e0f301d684f9ed1a487b9abccaf431fd3df25fa5f10da82d44e6b733d'\n",
        ")"
      ],
      "metadata": {
        "colab": {
          "base_uri": "https://localhost:8080/"
        },
        "id": "e2I-5ubolPR8",
        "outputId": "e941a169-1b3b-4230-98ed-fcb1bacc1321"
      },
      "execution_count": 4,
      "outputs": [
        {
          "output_type": "stream",
          "name": "stderr",
          "text": [
            "Downloading data from 'https://github.com/StratagemGIS/datasets/raw/main/raster/oromocto_jun2021_composite.tif' to file '/root/.cache/pooch/1b7989bb99434afca6e9eaa37ae6579a-oromocto_jun2021_composite.tif'.\n"
          ]
        }
      ]
    },
    {
      "cell_type": "code",
      "source": [
        "cfg = yaml.safe_load(f'''\n",
        "\n",
        "input_image: {sentinel2_img}\n",
        "output_image: ndvi.tif\n",
        "band_ixs:\n",
        "  - 3\n",
        "  - 7\n",
        "\n",
        "''')\n",
        "\n",
        "print(cfg)"
      ],
      "metadata": {
        "colab": {
          "base_uri": "https://localhost:8080/"
        },
        "id": "Ax62GFZfiDu8",
        "outputId": "3f7ef60a-178d-4be7-ca47-e10e63082395"
      },
      "execution_count": 5,
      "outputs": [
        {
          "output_type": "stream",
          "name": "stdout",
          "text": [
            "{'input_image': '/root/.cache/pooch/1b7989bb99434afca6e9eaa37ae6579a-oromocto_jun2021_composite.tif', 'output_image': 'ndvi.tif', 'band_ixs': [3, 7]}\n"
          ]
        }
      ]
    },
    {
      "cell_type": "code",
      "source": [
        "generate_difference_image(Box(cfg))"
      ],
      "metadata": {
        "id": "ohDj2wMjmhmU"
      },
      "execution_count": 6,
      "outputs": []
    },
    {
      "cell_type": "markdown",
      "source": [
        "# Full Code"
      ],
      "metadata": {
        "id": "LKsJvMNPmxcw"
      }
    },
    {
      "cell_type": "code",
      "source": [
        "\"\"\"\n",
        "Vaasudevan Srinivasan\n",
        "StratagemGIS Solutions 🧑🏻‍💻\n",
        "Script to read yaml as config file and generate ndvi\n",
        "\"\"\"\n",
        "\n",
        "\n",
        "# !pip install PyYaml python-box rasterio\n",
        "\n",
        "# config.yaml\n",
        "'''\n",
        "input_image: oromocto_jun2021_composite.tif\n",
        "output_image: ndvi.tif\n",
        "band_ixs:\n",
        "  - 3\n",
        "  - 7\n",
        "'''\n",
        "\n",
        "\n",
        "import rasterio as rio\n",
        "import yaml\n",
        "from box import Box\n",
        "\n",
        "\n",
        "def generate_difference_image(cfg):\n",
        "\n",
        "    with rio.open(cfg.input_image) as src:\n",
        "        src_cfg = src.profile\n",
        "        b1, b2 = src.read(cfg.band_ixs)\n",
        "        result = (b2 - b1) / (b2 + b1)\n",
        "\n",
        "    src_cfg.update(count=1)\n",
        "    with rio.open(cfg.output_image, 'w', **src_cfg) as out:\n",
        "        out.write(result, 1)\n",
        "\n",
        "\n",
        "with open('config.yaml') as f:\n",
        "\n",
        "    cfg_content = yaml.safe_load(f)\n",
        "\n",
        "    # print(cfg_content)\n",
        "    # {'input_image': 'oromocto_jun2021_composite.tif',\n",
        "    #  'output_image': 'ndvi.tif',\n",
        "    #  'band_ixs': [3, 7]}\n",
        "\n",
        "    # Box allows to access dict values using dot notation\n",
        "    generate_difference_image(Box(cfg_content))\n"
      ],
      "metadata": {
        "id": "xWeIVExtmkyf"
      },
      "execution_count": null,
      "outputs": []
    }
  ]
}