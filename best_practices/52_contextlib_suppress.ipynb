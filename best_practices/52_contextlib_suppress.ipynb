{
  "nbformat": 4,
  "nbformat_minor": 0,
  "metadata": {
    "colab": {
      "provenance": [],
      "authorship_tag": "ABX9TyNnziSS90qa00KijoLwzH+Y",
      "include_colab_link": true
    },
    "kernelspec": {
      "name": "python3",
      "display_name": "Python 3"
    },
    "language_info": {
      "name": "python"
    }
  },
  "cells": [
    {
      "cell_type": "markdown",
      "metadata": {
        "id": "view-in-github",
        "colab_type": "text"
      },
      "source": [
        "<a href=\"https://colab.research.google.com/github/StratagemGIS/notebooks/blob/main/best_practices/52_contextlib_suppress.ipynb\" target=\"_parent\"><img src=\"https://colab.research.google.com/assets/colab-badge.svg\" alt=\"Open In Colab\"/></a>"
      ]
    },
    {
      "cell_type": "markdown",
      "source": [
        "Vaasudevan Srinivasan 🧑🏻‍💻  \n",
        "StratagemGIS Solutions"
      ],
      "metadata": {
        "id": "TsGMVubrzC8N"
      }
    },
    {
      "cell_type": "code",
      "execution_count": null,
      "metadata": {
        "colab": {
          "base_uri": "https://localhost:8080/"
        },
        "id": "qQL_i9wAy9mC",
        "outputId": "09b9e918-4350-4738-c718-20572e206958"
      },
      "outputs": [
        {
          "output_type": "stream",
          "name": "stdout",
          "text": [
            "Before operation\n"
          ]
        }
      ],
      "source": [
        "try:\n",
        "    print('Before operation')\n",
        "    result = 1 / 0\n",
        "    print('Success')\n",
        "except ZeroDivisionError:\n",
        "    pass"
      ]
    },
    {
      "cell_type": "code",
      "source": [
        "import contextlib\n",
        "\n",
        "with contextlib.suppress(ZeroDivisionError):\n",
        "    print('Before operation')\n",
        "    result = 1 / 0\n",
        "    print('Success')"
      ],
      "metadata": {
        "colab": {
          "base_uri": "https://localhost:8080/"
        },
        "id": "VQnQrUMwzHAN",
        "outputId": "a4568fbd-e5a6-482a-8a50-70a189b79d47"
      },
      "execution_count": null,
      "outputs": [
        {
          "output_type": "stream",
          "name": "stdout",
          "text": [
            "Before operation\n"
          ]
        }
      ]
    }
  ]
}