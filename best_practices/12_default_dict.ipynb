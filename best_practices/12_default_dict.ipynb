{
  "nbformat": 4,
  "nbformat_minor": 0,
  "metadata": {
    "colab": {
      "provenance": [],
      "toc_visible": true,
      "authorship_tag": "ABX9TyMsG6b1mR7mAA0kxa6majVQ",
      "include_colab_link": true
    },
    "kernelspec": {
      "name": "python3",
      "display_name": "Python 3"
    },
    "language_info": {
      "name": "python"
    }
  },
  "cells": [
    {
      "cell_type": "markdown",
      "metadata": {
        "id": "view-in-github",
        "colab_type": "text"
      },
      "source": [
        "<a href=\"https://colab.research.google.com/github/StratagemGIS/notebooks/blob/main/best_practices/12_default_dict.ipynb\" target=\"_parent\"><img src=\"https://colab.research.google.com/assets/colab-badge.svg\" alt=\"Open In Colab\"/></a>"
      ]
    },
    {
      "cell_type": "code",
      "execution_count": 1,
      "metadata": {
        "id": "eLpWTtxD0jod"
      },
      "outputs": [],
      "source": [
        "events = [\n",
        "    ('event1', (1, 2)),\n",
        "    ('event2', (3, 4)),\n",
        "    ('event3', (1, 2)),\n",
        "    ('event4', (5, 6)),\n",
        "    ('event5', (3, 4)),\n",
        "]"
      ]
    },
    {
      "cell_type": "markdown",
      "source": [
        "# Don't do this"
      ],
      "metadata": {
        "id": "R-Nz9NI_3LD6"
      }
    },
    {
      "cell_type": "code",
      "source": [
        "agg = {}\n",
        "for event, location in events:\n",
        "    if location not in agg:\n",
        "        agg[location] = []\n",
        "    agg[location].append(event)\n",
        "\n",
        "print(agg)"
      ],
      "metadata": {
        "colab": {
          "base_uri": "https://localhost:8080/"
        },
        "id": "mkrTY1i32wuc",
        "outputId": "a7605bda-f463-4ff6-fa5b-42e2de870f34"
      },
      "execution_count": 2,
      "outputs": [
        {
          "output_type": "stream",
          "name": "stdout",
          "text": [
            "{(1, 2): ['event1', 'event3'], (3, 4): ['event2', 'event5'], (5, 6): ['event4']}\n"
          ]
        }
      ]
    },
    {
      "cell_type": "markdown",
      "source": [
        "# Do this"
      ],
      "metadata": {
        "id": "gdNLi6_J3MbO"
      }
    },
    {
      "cell_type": "code",
      "source": [
        "from collections import defaultdict as ddict\n",
        "\n",
        "agg = ddict(list)\n",
        "for event, location in events:\n",
        "    agg[location].append(event)\n",
        "\n",
        "print(agg)"
      ],
      "metadata": {
        "colab": {
          "base_uri": "https://localhost:8080/"
        },
        "id": "6LMYnuwD3FTn",
        "outputId": "c568eb04-2c53-4348-e818-7603b689ec41"
      },
      "execution_count": 3,
      "outputs": [
        {
          "output_type": "stream",
          "name": "stdout",
          "text": [
            "defaultdict(<class 'list'>, {(1, 2): ['event1', 'event3'], (3, 4): ['event2', 'event5'], (5, 6): ['event4']})\n"
          ]
        }
      ]
    },
    {
      "cell_type": "markdown",
      "source": [
        "# Full Code"
      ],
      "metadata": {
        "id": "lY1NEHsx3fBp"
      }
    },
    {
      "cell_type": "code",
      "source": [
        "\"\"\"\n",
        "Vaasudevan Srinivasan 🧑🏻‍💻\n",
        "StratagemGIS Solutions\n",
        "Script to show usage of defaultdict\n",
        "\"\"\"\n",
        "\n",
        "events = [\n",
        "    ('event1', (1, 2)),\n",
        "    ('event2', (3, 4)),\n",
        "    ('event3', (1, 2)),\n",
        "    ('event4', (5, 6)),\n",
        "    ('event5', (3, 4)),\n",
        "]\n",
        "\n",
        "# Expected aggregation\n",
        "# {(1, 2): ['event1', 'event3'],\n",
        "#  (3, 4): ['event2', 'event5'],\n",
        "#  (5, 6): ['event4']}\n",
        "\n",
        "\n",
        "# Don't do this\n",
        "agg = {}\n",
        "for event, location in events:\n",
        "    if location not in agg:\n",
        "        agg[location] = []\n",
        "    agg[location].append(event)\n",
        "\n",
        "\n",
        "# Do this instead\n",
        "from collections import defaultdict as ddict\n",
        "agg = ddict(list)\n",
        "for event, location in events:\n",
        "    agg[location].append(event)\n"
      ],
      "metadata": {
        "id": "9xkwWzVo3XIY"
      },
      "execution_count": 4,
      "outputs": []
    }
  ]
}