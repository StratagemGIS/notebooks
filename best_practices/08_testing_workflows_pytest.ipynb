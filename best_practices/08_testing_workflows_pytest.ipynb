{
  "nbformat": 4,
  "nbformat_minor": 0,
  "metadata": {
    "colab": {
      "provenance": [],
      "toc_visible": true,
      "authorship_tag": "ABX9TyMWu8X0gcGJ4kEcT6rTdFwk",
      "include_colab_link": true
    },
    "kernelspec": {
      "name": "python3",
      "display_name": "Python 3"
    },
    "language_info": {
      "name": "python"
    }
  },
  "cells": [
    {
      "cell_type": "markdown",
      "metadata": {
        "id": "view-in-github",
        "colab_type": "text"
      },
      "source": [
        "<a href=\"https://colab.research.google.com/github/StratagemGIS/notebooks/blob/main/best_practices/08_testing_workflows_pytest.ipynb\" target=\"_parent\"><img src=\"https://colab.research.google.com/assets/colab-badge.svg\" alt=\"Open In Colab\"/></a>"
      ]
    },
    {
      "cell_type": "code",
      "source": [
        "!pip install ipytest rasterio"
      ],
      "metadata": {
        "colab": {
          "base_uri": "https://localhost:8080/"
        },
        "id": "0NAaVz0Cjr2p",
        "outputId": "5e825be5-ca2a-4fb4-873e-fa186e7ebb86"
      },
      "execution_count": 1,
      "outputs": [
        {
          "output_type": "stream",
          "name": "stdout",
          "text": [
            "Collecting ipytest\n",
            "  Downloading ipytest-0.14.2-py3-none-any.whl (18 kB)\n",
            "Collecting rasterio\n",
            "  Downloading rasterio-1.3.10-cp310-cp310-manylinux2014_x86_64.whl (21.5 MB)\n",
            "\u001b[2K     \u001b[90m━━━━━━━━━━━━━━━━━━━━━━━━━━━━━━━━━━━━━━━━\u001b[0m \u001b[32m21.5/21.5 MB\u001b[0m \u001b[31m28.4 MB/s\u001b[0m eta \u001b[36m0:00:00\u001b[0m\n",
            "\u001b[?25hRequirement already satisfied: ipython in /usr/local/lib/python3.10/dist-packages (from ipytest) (7.34.0)\n",
            "Requirement already satisfied: packaging in /usr/local/lib/python3.10/dist-packages (from ipytest) (24.0)\n",
            "Requirement already satisfied: pytest>=5.4 in /usr/local/lib/python3.10/dist-packages (from ipytest) (7.4.4)\n",
            "Collecting affine (from rasterio)\n",
            "  Downloading affine-2.4.0-py3-none-any.whl (15 kB)\n",
            "Requirement already satisfied: attrs in /usr/local/lib/python3.10/dist-packages (from rasterio) (23.2.0)\n",
            "Requirement already satisfied: certifi in /usr/local/lib/python3.10/dist-packages (from rasterio) (2024.2.2)\n",
            "Requirement already satisfied: click>=4.0 in /usr/local/lib/python3.10/dist-packages (from rasterio) (8.1.7)\n",
            "Requirement already satisfied: cligj>=0.5 in /usr/local/lib/python3.10/dist-packages (from rasterio) (0.7.2)\n",
            "Requirement already satisfied: numpy in /usr/local/lib/python3.10/dist-packages (from rasterio) (1.25.2)\n",
            "Collecting snuggs>=1.4.1 (from rasterio)\n",
            "  Downloading snuggs-1.4.7-py3-none-any.whl (5.4 kB)\n",
            "Requirement already satisfied: click-plugins in /usr/local/lib/python3.10/dist-packages (from rasterio) (1.1.1)\n",
            "Requirement already satisfied: setuptools in /usr/local/lib/python3.10/dist-packages (from rasterio) (67.7.2)\n",
            "Requirement already satisfied: iniconfig in /usr/local/lib/python3.10/dist-packages (from pytest>=5.4->ipytest) (2.0.0)\n",
            "Requirement already satisfied: pluggy<2.0,>=0.12 in /usr/local/lib/python3.10/dist-packages (from pytest>=5.4->ipytest) (1.5.0)\n",
            "Requirement already satisfied: exceptiongroup>=1.0.0rc8 in /usr/local/lib/python3.10/dist-packages (from pytest>=5.4->ipytest) (1.2.1)\n",
            "Requirement already satisfied: tomli>=1.0.0 in /usr/local/lib/python3.10/dist-packages (from pytest>=5.4->ipytest) (2.0.1)\n",
            "Requirement already satisfied: pyparsing>=2.1.6 in /usr/local/lib/python3.10/dist-packages (from snuggs>=1.4.1->rasterio) (3.1.2)\n",
            "Collecting jedi>=0.16 (from ipython->ipytest)\n",
            "  Downloading jedi-0.19.1-py2.py3-none-any.whl (1.6 MB)\n",
            "\u001b[2K     \u001b[90m━━━━━━━━━━━━━━━━━━━━━━━━━━━━━━━━━━━━━━━━\u001b[0m \u001b[32m1.6/1.6 MB\u001b[0m \u001b[31m35.4 MB/s\u001b[0m eta \u001b[36m0:00:00\u001b[0m\n",
            "\u001b[?25hRequirement already satisfied: decorator in /usr/local/lib/python3.10/dist-packages (from ipython->ipytest) (4.4.2)\n",
            "Requirement already satisfied: pickleshare in /usr/local/lib/python3.10/dist-packages (from ipython->ipytest) (0.7.5)\n",
            "Requirement already satisfied: traitlets>=4.2 in /usr/local/lib/python3.10/dist-packages (from ipython->ipytest) (5.7.1)\n",
            "Requirement already satisfied: prompt-toolkit!=3.0.0,!=3.0.1,<3.1.0,>=2.0.0 in /usr/local/lib/python3.10/dist-packages (from ipython->ipytest) (3.0.43)\n",
            "Requirement already satisfied: pygments in /usr/local/lib/python3.10/dist-packages (from ipython->ipytest) (2.16.1)\n",
            "Requirement already satisfied: backcall in /usr/local/lib/python3.10/dist-packages (from ipython->ipytest) (0.2.0)\n",
            "Requirement already satisfied: matplotlib-inline in /usr/local/lib/python3.10/dist-packages (from ipython->ipytest) (0.1.7)\n",
            "Requirement already satisfied: pexpect>4.3 in /usr/local/lib/python3.10/dist-packages (from ipython->ipytest) (4.9.0)\n",
            "Requirement already satisfied: parso<0.9.0,>=0.8.3 in /usr/local/lib/python3.10/dist-packages (from jedi>=0.16->ipython->ipytest) (0.8.4)\n",
            "Requirement already satisfied: ptyprocess>=0.5 in /usr/local/lib/python3.10/dist-packages (from pexpect>4.3->ipython->ipytest) (0.7.0)\n",
            "Requirement already satisfied: wcwidth in /usr/local/lib/python3.10/dist-packages (from prompt-toolkit!=3.0.0,!=3.0.1,<3.1.0,>=2.0.0->ipython->ipytest) (0.2.13)\n",
            "Installing collected packages: snuggs, jedi, affine, rasterio, ipytest\n",
            "Successfully installed affine-2.4.0 ipytest-0.14.2 jedi-0.19.1 rasterio-1.3.10 snuggs-1.4.7\n"
          ]
        }
      ]
    },
    {
      "cell_type": "code",
      "execution_count": 9,
      "metadata": {
        "id": "ULyYE9nEjR1H"
      },
      "outputs": [],
      "source": [
        "import ipytest\n",
        "import pooch\n",
        "import pytest\n",
        "import rasterio as rio\n",
        "\n",
        "ipytest.autoconfig()"
      ]
    },
    {
      "cell_type": "code",
      "source": [
        "sentinel2_img = pooch.retrieve(\n",
        "    'https://github.com/StratagemGIS/datasets/raw/main/raster/oromocto_jun2021_composite.tif',\n",
        "    known_hash='e08df41e0f301d684f9ed1a487b9abccaf431fd3df25fa5f10da82d44e6b733d'\n",
        ")"
      ],
      "metadata": {
        "colab": {
          "base_uri": "https://localhost:8080/"
        },
        "id": "9CfwdWIAkToK",
        "outputId": "a26d4a82-f37d-4cc7-a515-a2ab4b1d3bc8"
      },
      "execution_count": 3,
      "outputs": [
        {
          "output_type": "stream",
          "name": "stderr",
          "text": [
            "Downloading data from 'https://github.com/StratagemGIS/datasets/raw/main/raster/oromocto_jun2021_composite.tif' to file '/root/.cache/pooch/1b7989bb99434afca6e9eaa37ae6579a-oromocto_jun2021_composite.tif'.\n"
          ]
        }
      ]
    },
    {
      "cell_type": "code",
      "source": [
        "def calculate_ndvi(pixel_data):\n",
        "    red, nir = pixel_data[2], pixel_data[6]\n",
        "    return (nir - red) / (nir + red)"
      ],
      "metadata": {
        "id": "77y9PvTZlSnd"
      },
      "execution_count": 4,
      "outputs": []
    },
    {
      "cell_type": "code",
      "source": [
        "test_cases = {\n",
        "    (2501934, 7427296): 0.7927984838913456,\n",
        "    (2501102, 7427877): 0.1090948368978181,\n",
        "    (2501886, 7427234): 0.46921337019351594,\n",
        "}"
      ],
      "metadata": {
        "id": "xghNAMkImsAZ"
      },
      "execution_count": 5,
      "outputs": []
    },
    {
      "cell_type": "code",
      "source": [
        "@pytest.mark.parametrize(['coord', 'ndvi'], test_cases.items())\n",
        "def test_calculate_ndvi(coord, ndvi):\n",
        "    with rio.open(sentinel2_img) as src:\n",
        "        assert calculate_ndvi(next(src.sample([coord]))) == ndvi"
      ],
      "metadata": {
        "id": "cRQEtIRYmA5b"
      },
      "execution_count": 6,
      "outputs": []
    },
    {
      "cell_type": "code",
      "source": [
        "ipytest.run('-vv')"
      ],
      "metadata": {
        "colab": {
          "base_uri": "https://localhost:8080/"
        },
        "id": "Y-4fnYmRjuP0",
        "outputId": "b5e5605f-6cb1-4453-946b-3a4587d1329f"
      },
      "execution_count": 10,
      "outputs": [
        {
          "output_type": "stream",
          "name": "stdout",
          "text": [
            "\u001b[1m======================================= test session starts ========================================\u001b[0m\n",
            "platform linux -- Python 3.10.12, pytest-7.4.4, pluggy-1.5.0 -- /usr/bin/python3\n",
            "cachedir: .pytest_cache\n",
            "rootdir: /content\n",
            "plugins: anyio-3.7.1\n",
            "\u001b[1mcollecting ... \u001b[0mcollected 3 items\n",
            "\n",
            "t_da4a35d3520646d1af98545aabdfabf1.py::test_calculate_ndvi[coord0-0.7927984838913456] \u001b[32mPASSED\u001b[0m\u001b[32m [ 33%]\u001b[0m\n",
            "t_da4a35d3520646d1af98545aabdfabf1.py::test_calculate_ndvi[coord1-0.1090948368978181] \u001b[32mPASSED\u001b[0m\u001b[32m [ 66%]\u001b[0m\n",
            "t_da4a35d3520646d1af98545aabdfabf1.py::test_calculate_ndvi[coord2-0.46921337019351594] \u001b[32mPASSED\u001b[0m\u001b[32m [100%]\u001b[0m\n",
            "\n",
            "\u001b[32m======================================== \u001b[32m\u001b[1m3 passed\u001b[0m\u001b[32m in 0.09s\u001b[0m\u001b[32m =========================================\u001b[0m\n"
          ]
        },
        {
          "output_type": "execute_result",
          "data": {
            "text/plain": [
              "<ExitCode.OK: 0>"
            ]
          },
          "metadata": {},
          "execution_count": 10
        }
      ]
    },
    {
      "cell_type": "markdown",
      "source": [
        "# Full Code"
      ],
      "metadata": {
        "id": "AsozngTVn2iU"
      }
    },
    {
      "cell_type": "code",
      "source": [
        "\"\"\"\n",
        "Vaasudevan Srinivasan 🧑🏻‍💻\n",
        "StratagemGIS Solutions\n",
        "Script to demonstrate Pytest for testing workflows\n",
        "\"\"\"\n",
        "\n",
        "\n",
        "import ipytest\n",
        "import pooch\n",
        "import pytest\n",
        "import rasterio as rio\n",
        "\n",
        "ipytest.autoconfig()\n",
        "\n",
        "\n",
        "def calculate_ndvi(pixel_data):\n",
        "    red, nir = pixel_data[2], pixel_data[6]\n",
        "    return (nir - red) / (nir + red)\n",
        "\n",
        "\n",
        "# Manually calculated NDVI values\n",
        "test_cases = {\n",
        "    (2501934, 7427296): 0.7927984838913456,\n",
        "    (2501102, 7427877): 0.1090948368978181,\n",
        "    (2501886, 7427234): 0.46921337019351594,\n",
        "}\n",
        "\n",
        "# Using parametrize so each point is a separate test case\n",
        "@pytest.mark.parametrize(['coord', 'ndvi'], test_cases.items())\n",
        "def test_calculate_ndvi(coord, ndvi):\n",
        "    with rio.open(sentinel2_img) as src:\n",
        "        assert calculate_ndvi(next(src.sample([coord]))) == ndvi\n",
        "\n",
        "\n",
        "ipytest.run('-vv')\n",
        "\n",
        "# ============================= test session starts ===============================\n",
        "# platform linux -- Python 3.10.12, pytest-7.4.4, pluggy-1.5.0 -- /usr/bin/python3\n",
        "# cachedir: .pytest_cache\n",
        "# rootdir: /content\n",
        "# plugins: anyio-3.7.1\n",
        "# collecting ... collected 3 items\n",
        "\n",
        "# t_da4adfabf1.py::test_calculate_ndvi[coord0-0.7927984838913456] PASSED [ 33%]\n",
        "# t_da4adfabf1.py::test_calculate_ndvi[coord1-0.1090948368978181] PASSED [ 66%]\n",
        "# t_da4adfabf1.py::test_calculate_ndvi[coord2-0.46921337019351594] PASSED [100%]\n",
        "# ============================ 3 passed in 0.09s ==================================\n"
      ],
      "metadata": {
        "id": "C2hQuC68mhHo"
      },
      "execution_count": null,
      "outputs": []
    },
    {
      "cell_type": "code",
      "source": [],
      "metadata": {
        "id": "uzlgO7QKpe0t"
      },
      "execution_count": 8,
      "outputs": []
    }
  ]
}