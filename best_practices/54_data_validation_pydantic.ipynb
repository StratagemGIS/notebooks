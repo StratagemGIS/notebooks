{
  "nbformat": 4,
  "nbformat_minor": 0,
  "metadata": {
    "colab": {
      "provenance": [],
      "authorship_tag": "ABX9TyNz7IdpBZfpneDGIBBuvQYI",
      "include_colab_link": true
    },
    "kernelspec": {
      "name": "python3",
      "display_name": "Python 3"
    },
    "language_info": {
      "name": "python"
    }
  },
  "cells": [
    {
      "cell_type": "markdown",
      "metadata": {
        "id": "view-in-github",
        "colab_type": "text"
      },
      "source": [
        "<a href=\"https://colab.research.google.com/github/StratagemGIS/notebooks/blob/main/best_practices/54_data_validation_pydantic.ipynb\" target=\"_parent\"><img src=\"https://colab.research.google.com/assets/colab-badge.svg\" alt=\"Open In Colab\"/></a>"
      ]
    },
    {
      "cell_type": "markdown",
      "source": [
        "Vaasudevan Srinivasan 🧑🏻‍💻  \n",
        "StratagemGIS Solutions"
      ],
      "metadata": {
        "id": "j7DcTZ_jyTbG"
      }
    },
    {
      "cell_type": "code",
      "source": [
        "!pip install pydantic[email]"
      ],
      "metadata": {
        "id": "dUXl-yhcyetA"
      },
      "execution_count": null,
      "outputs": []
    },
    {
      "cell_type": "code",
      "execution_count": 4,
      "metadata": {
        "id": "5rOgafyowLxj"
      },
      "outputs": [],
      "source": [
        "from datetime import date\n",
        "from enum import Enum\n",
        "from uuid import UUID, uuid4\n",
        "from pydantic import BaseModel, EmailStr"
      ]
    },
    {
      "cell_type": "code",
      "source": [
        "class Department(Enum):\n",
        "    SALES = 'SALES'\n",
        "    IT = 'IT'\n",
        "    ENGINEERING = 'ENGINEERING'\n",
        "\n",
        "\n",
        "class Employee(BaseModel):\n",
        "    employee_id: UUID = uuid4()\n",
        "    name: str\n",
        "    email: EmailStr\n",
        "    date_of_birth: date\n",
        "    salary: float\n",
        "    department: Department"
      ],
      "metadata": {
        "id": "Cs-X_0d5yW7P"
      },
      "execution_count": 12,
      "outputs": []
    },
    {
      "cell_type": "code",
      "source": [
        "Employee(\n",
        "    name='John Doe',\n",
        "    email='john.doe@apple.com',\n",
        "    date_of_birth='1991-04-01',\n",
        "    salary=120_000,\n",
        "    department='IT',\n",
        ")"
      ],
      "metadata": {
        "colab": {
          "base_uri": "https://localhost:8080/"
        },
        "id": "L3Ti6GTRylBE",
        "outputId": "346bffa1-e52b-4565-a29e-a49d43940a05"
      },
      "execution_count": 17,
      "outputs": [
        {
          "output_type": "execute_result",
          "data": {
            "text/plain": [
              "Employee(employee_id=UUID('c4427479-1c0f-4cc0-b217-1b039afbb352'), name='John Doe', email='john.doe@apple.com', date_of_birth=datetime.date(1991, 4, 1), salary=120000.0, department=<Department.IT: 'IT'>)"
            ]
          },
          "metadata": {},
          "execution_count": 17
        }
      ]
    },
    {
      "cell_type": "code",
      "source": [
        "Employee(\n",
        "    name='John Williams',\n",
        "    email='john.williams',\n",
        "    date_of_birth='2000-01-01',\n",
        "    salary=120_000,\n",
        "    department='HR',\n",
        ")"
      ],
      "metadata": {
        "colab": {
          "base_uri": "https://localhost:8080/",
          "height": 411
        },
        "id": "HnoZKE2EzAqZ",
        "outputId": "6796792d-217a-4a4b-faff-7cc719ecb8f3"
      },
      "execution_count": 18,
      "outputs": [
        {
          "output_type": "error",
          "ename": "ValidationError",
          "evalue": "2 validation errors for Employee\nemail\n  value is not a valid email address: An email address must have an @-sign. [type=value_error, input_value='john.williams', input_type=str]\ndepartment\n  Input should be 'SALES', 'IT' or 'ENGINEERING' [type=enum, input_value='HR', input_type=str]\n    For further information visit https://errors.pydantic.dev/2.8/v/enum",
          "traceback": [
            "\u001b[0;31m---------------------------------------------------------------------------\u001b[0m",
            "\u001b[0;31mValidationError\u001b[0m                           Traceback (most recent call last)",
            "\u001b[0;32m<ipython-input-18-1521a01fa997>\u001b[0m in \u001b[0;36m<cell line: 1>\u001b[0;34m()\u001b[0m\n\u001b[0;32m----> 1\u001b[0;31m Employee(\n\u001b[0m\u001b[1;32m      2\u001b[0m     \u001b[0mname\u001b[0m\u001b[0;34m=\u001b[0m\u001b[0;34m'John Williams'\u001b[0m\u001b[0;34m,\u001b[0m\u001b[0;34m\u001b[0m\u001b[0;34m\u001b[0m\u001b[0m\n\u001b[1;32m      3\u001b[0m     \u001b[0memail\u001b[0m\u001b[0;34m=\u001b[0m\u001b[0;34m'john.williams'\u001b[0m\u001b[0;34m,\u001b[0m\u001b[0;34m\u001b[0m\u001b[0;34m\u001b[0m\u001b[0m\n\u001b[1;32m      4\u001b[0m     \u001b[0mdate_of_birth\u001b[0m\u001b[0;34m=\u001b[0m\u001b[0;34m'2000-01-01'\u001b[0m\u001b[0;34m,\u001b[0m\u001b[0;34m\u001b[0m\u001b[0;34m\u001b[0m\u001b[0m\n\u001b[1;32m      5\u001b[0m     \u001b[0msalary\u001b[0m\u001b[0;34m=\u001b[0m\u001b[0;36m120_000\u001b[0m\u001b[0;34m,\u001b[0m\u001b[0;34m\u001b[0m\u001b[0;34m\u001b[0m\u001b[0m\n",
            "\u001b[0;32m/usr/local/lib/python3.10/dist-packages/pydantic/main.py\u001b[0m in \u001b[0;36m__init__\u001b[0;34m(self, **data)\u001b[0m\n\u001b[1;32m    190\u001b[0m         \u001b[0;31m# `__tracebackhide__` tells pytest and some other tools to omit this function from tracebacks\u001b[0m\u001b[0;34m\u001b[0m\u001b[0;34m\u001b[0m\u001b[0m\n\u001b[1;32m    191\u001b[0m         \u001b[0m__tracebackhide__\u001b[0m \u001b[0;34m=\u001b[0m \u001b[0;32mTrue\u001b[0m\u001b[0;34m\u001b[0m\u001b[0;34m\u001b[0m\u001b[0m\n\u001b[0;32m--> 192\u001b[0;31m         \u001b[0mself\u001b[0m\u001b[0;34m.\u001b[0m\u001b[0m__pydantic_validator__\u001b[0m\u001b[0;34m.\u001b[0m\u001b[0mvalidate_python\u001b[0m\u001b[0;34m(\u001b[0m\u001b[0mdata\u001b[0m\u001b[0;34m,\u001b[0m \u001b[0mself_instance\u001b[0m\u001b[0;34m=\u001b[0m\u001b[0mself\u001b[0m\u001b[0;34m)\u001b[0m\u001b[0;34m\u001b[0m\u001b[0;34m\u001b[0m\u001b[0m\n\u001b[0m\u001b[1;32m    193\u001b[0m \u001b[0;34m\u001b[0m\u001b[0m\n\u001b[1;32m    194\u001b[0m     \u001b[0;31m# The following line sets a flag that we use to determine when `__init__` gets overridden by the user\u001b[0m\u001b[0;34m\u001b[0m\u001b[0;34m\u001b[0m\u001b[0m\n",
            "\u001b[0;31mValidationError\u001b[0m: 2 validation errors for Employee\nemail\n  value is not a valid email address: An email address must have an @-sign. [type=value_error, input_value='john.williams', input_type=str]\ndepartment\n  Input should be 'SALES', 'IT' or 'ENGINEERING' [type=enum, input_value='HR', input_type=str]\n    For further information visit https://errors.pydantic.dev/2.8/v/enum"
          ]
        }
      ]
    }
  ]
}