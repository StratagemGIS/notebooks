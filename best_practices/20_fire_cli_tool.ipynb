{
  "nbformat": 4,
  "nbformat_minor": 0,
  "metadata": {
    "colab": {
      "provenance": [],
      "toc_visible": true,
      "authorship_tag": "ABX9TyNbRM1htBCAgCmyC7XunCSG",
      "include_colab_link": true
    },
    "kernelspec": {
      "name": "python3",
      "display_name": "Python 3"
    },
    "language_info": {
      "name": "python"
    }
  },
  "cells": [
    {
      "cell_type": "markdown",
      "metadata": {
        "id": "view-in-github",
        "colab_type": "text"
      },
      "source": [
        "<a href=\"https://colab.research.google.com/github/StratagemGIS/notebooks/blob/main/best_practices/20_fire_cli_tool.ipynb\" target=\"_parent\"><img src=\"https://colab.research.google.com/assets/colab-badge.svg\" alt=\"Open In Colab\"/></a>"
      ]
    },
    {
      "cell_type": "markdown",
      "source": [
        "# Argparse Approach"
      ],
      "metadata": {
        "id": "wjgW_xEnAjD6"
      }
    },
    {
      "cell_type": "code",
      "execution_count": null,
      "metadata": {
        "id": "xt3idPu-AZ49"
      },
      "outputs": [],
      "source": [
        "import argparse\n",
        "\n",
        "\n",
        "def add_numbers(num1, num2, collection):\n",
        "    print(num1, num2, collection)\n",
        "    return num1 + num2 + sum(collection)\n",
        "\n",
        "\n",
        "if __name__ == '__main__' :\n",
        "    parser = argparse.ArgumentParser (description='Function to add two numbers and collection')\n",
        "    parser.add_argument ('--num1', type=int, help='Number 1')\n",
        "    parser.add_argument ('--num2', type=int, help='Number 2')\n",
        "    parser.add_argument ('--collection', nargs='+', type=int, help='Collection of numbers')\n",
        "    args = parser.parse_args()\n",
        "    print(add_numbers(args.num1, args.num2, args.collection))"
      ]
    },
    {
      "cell_type": "code",
      "source": [
        "# python add_tool.py -h\n",
        "\n",
        "# usage: t1.py [-h] [--num1 NUM1] [--num2 NUM2] [--collection COLLECTION [COLLECTION ...]]\n",
        "\n",
        "# Function to add two numbers and collection\n",
        "\n",
        "# options:\n",
        "#   -h, --help            show this help message and exit\n",
        "#   --num1 NUM1           Number 1\n",
        "#   --num2 NUM2           Number 2\n",
        "#   --collection COLLECTION [COLLECTION ...]\n",
        "#                         Collection of numbers"
      ],
      "metadata": {
        "id": "7pFFMQMtAx1H"
      },
      "execution_count": null,
      "outputs": []
    },
    {
      "cell_type": "code",
      "source": [
        "# python add_tool.py --num1 10 --num2 20 --collection 1 2 3\n",
        "# 10 20 [1, 2, 3]\n",
        "# 36"
      ],
      "metadata": {
        "id": "ES0wcMrTAx_f"
      },
      "execution_count": null,
      "outputs": []
    },
    {
      "cell_type": "markdown",
      "source": [
        "# Fire Approach"
      ],
      "metadata": {
        "id": "4yO3VN9cAqrq"
      }
    },
    {
      "cell_type": "code",
      "source": [
        "import fire\n",
        "\n",
        "\n",
        "def add_numbers(num1: int, num2: int, collection: list[int]) -> int:\n",
        "\n",
        "    \"\"\"\n",
        "    Function to add two numbers and collection\n",
        "\n",
        "    num1: Number 1\n",
        "    num2: Number 2\n",
        "    collection: Collection of numbers\n",
        "    \"\"\"\n",
        "\n",
        "    print(num1, num2, collection)\n",
        "    return num1 + num2 + sum(collection)\n",
        "\n",
        "\n",
        "if __name__ == '__main__':\n",
        "    fire.Fire(add_numbers)"
      ],
      "metadata": {
        "id": "7haTxL98AkSH"
      },
      "execution_count": null,
      "outputs": []
    },
    {
      "cell_type": "code",
      "source": [
        "# python sgis_add_tool.py -h\n",
        "\n",
        "# NAME\n",
        "#     t2.py - Function to add two numbers and collection\n",
        "\n",
        "# SYNOPSIS\n",
        "#     t2.py NUM1 NUM2 COLLECTION\n",
        "\n",
        "# DESCRIPTION\n",
        "#     num1: Number 1\n",
        "#     num2: Number 2\n",
        "#     collection: Collection of numbers\n",
        "\n",
        "# POSITIONAL ARGUMENTS\n",
        "#     NUM1\n",
        "#         Type: int\n",
        "#     NUM2\n",
        "#         Type: int\n",
        "#     COLLECTION\n",
        "#         Type: list"
      ],
      "metadata": {
        "id": "fQf8ObNXBBno"
      },
      "execution_count": null,
      "outputs": []
    },
    {
      "cell_type": "code",
      "source": [
        "# python sgis_add_tool.py --num1 10 --num2 20 --collection \"[1, 2, 3]\"\n",
        "# 10 20 [1, 2, 3]\n",
        "# 36"
      ],
      "metadata": {
        "id": "glAfn2kgBBpZ"
      },
      "execution_count": null,
      "outputs": []
    },
    {
      "cell_type": "markdown",
      "source": [
        "# Full Code"
      ],
      "metadata": {
        "id": "xtUHgChTC0rV"
      }
    },
    {
      "cell_type": "code",
      "source": [
        "\"\"\"\n",
        "Vaasudevan Srinivasan 🧑🏻‍💻\n",
        "StratagemGIS Solutions\n",
        "Script to show CLI tool using argparse\n",
        "\"\"\"\n",
        "\n",
        "import argparse\n",
        "\n",
        "\n",
        "def add_numbers(num1, num2, collection):\n",
        "    print(num1, num2, collection)\n",
        "    return num1 + num2 + sum(collection)\n",
        "\n",
        "\n",
        "if __name__ == '__main__' :\n",
        "    parser = argparse.ArgumentParser (description='Function to add two numbers and collection')\n",
        "    parser.add_argument ('--num1', type=int, help='Number 1')\n",
        "    parser.add_argument ('--num2', type=int, help='Number 2')\n",
        "    parser.add_argument ('--collection', nargs='+', type=int, help='Collection of numbers')\n",
        "    args = parser.parse_args()\n",
        "    print(add_numbers(args.num1, args.num2, args.collection))\n",
        "\n",
        "\n",
        "\n",
        "> python add_tool.py -h\n",
        "\n",
        "usage: t1.py [-h] [--num1 NUM1] [--num2 NUM2] [--collection COLLECTION [COLLECTION ...]]\n",
        "\n",
        "Function to add two numbers and collection\n",
        "\n",
        "options:\n",
        "  -h, --help            show this help message and exit\n",
        "  --num1 NUM1           Number 1\n",
        "  --num2 NUM2           Number 2\n",
        "  --collection COLLECTION [COLLECTION ...]\n",
        "                        Collection of numbers\n",
        "\n",
        "\n",
        "> python add_tool.py --num1 10 --num2 20 --collection 1 2 3\n",
        "\n",
        "10 20 [1, 2, 3]\n",
        "36\n"
      ],
      "metadata": {
        "id": "Rjj2MtLDC1eZ"
      },
      "execution_count": null,
      "outputs": []
    },
    {
      "cell_type": "code",
      "source": [
        "\"\"\"\n",
        "Vaasudevan Srinivasan 🧑🏻‍💻\n",
        "StratagemGIS Solutions\n",
        "Script to show CLI tool using fire\n",
        "\"\"\"\n",
        "\n",
        "\n",
        "import fire\n",
        "\n",
        "\n",
        "def add_numbers(num1: int, num2: int, collection: list[int]) -> int:\n",
        "\n",
        "    \"\"\"\n",
        "    Function to add two numbers and collection\n",
        "\n",
        "    num1: Number 1\n",
        "    num2: Number 2\n",
        "    collection: Collection of numbers\n",
        "    \"\"\"\n",
        "\n",
        "    print(num1, num2, collection)\n",
        "    return num1 + num2 + sum(collection)\n",
        "\n",
        "\n",
        "if __name__ == '__main__':\n",
        "    fire.Fire(add_numbers)\n",
        "\n",
        "\n",
        "\n",
        "> python sgis_add_tool.py -h\n",
        "\n",
        "NAME\n",
        "    t2.py - Function to add two numbers and collection\n",
        "\n",
        "SYNOPSIS\n",
        "    t2.py NUM1 NUM2 COLLECTION\n",
        "\n",
        "DESCRIPTION\n",
        "    num1: Number 1\n",
        "    num2: Number 2\n",
        "    collection: Collection of numbers\n",
        "\n",
        "POSITIONAL ARGUMENTS\n",
        "    NUM1\n",
        "        Type: int\n",
        "    NUM2\n",
        "        Type: int\n",
        "    COLLECTION\n",
        "        Type: list\n",
        "\n",
        "\n",
        "> python sgis_add_tool.py --num1 10 --num2 20 --collection \"[1, 2, 3]\"\n",
        "\n",
        "10 20 [1, 2, 3]\n",
        "36"
      ],
      "metadata": {
        "id": "X2TxMAdcC3NC"
      },
      "execution_count": null,
      "outputs": []
    }
  ]
}