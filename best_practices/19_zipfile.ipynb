{
  "nbformat": 4,
  "nbformat_minor": 0,
  "metadata": {
    "colab": {
      "provenance": [],
      "authorship_tag": "ABX9TyP9MueeIjRdJNu8LNUEin/n",
      "include_colab_link": true
    },
    "kernelspec": {
      "name": "python3",
      "display_name": "Python 3"
    },
    "language_info": {
      "name": "python"
    }
  },
  "cells": [
    {
      "cell_type": "markdown",
      "metadata": {
        "id": "view-in-github",
        "colab_type": "text"
      },
      "source": [
        "<a href=\"https://colab.research.google.com/github/StratagemGIS/notebooks/blob/main/best_practices/19_zipfile.ipynb\" target=\"_parent\"><img src=\"https://colab.research.google.com/assets/colab-badge.svg\" alt=\"Open In Colab\"/></a>"
      ]
    },
    {
      "cell_type": "code",
      "execution_count": 1,
      "metadata": {
        "id": "ImnIonDlKaM_"
      },
      "outputs": [],
      "source": [
        "import zipfile\n",
        "import pooch"
      ]
    },
    {
      "cell_type": "code",
      "source": [
        "nb_counties_file = pooch.retrieve(\n",
        "    'https://github.com/StratagemGIS/datasets/raw/main/vector/geonb_county-comte_shp.zip',\n",
        "    known_hash='2abbb813b5b78f721ea5cc75f4f29a1f27da984476c74fe9f3b3026f41427d6a'\n",
        ")"
      ],
      "metadata": {
        "colab": {
          "base_uri": "https://localhost:8080/"
        },
        "id": "hxG99gp5Kd1K",
        "outputId": "f5172ce4-f95b-44a0-e65d-0cf07034f182"
      },
      "execution_count": 2,
      "outputs": [
        {
          "output_type": "stream",
          "name": "stderr",
          "text": [
            "Downloading data from 'https://github.com/StratagemGIS/datasets/raw/main/vector/geonb_county-comte_shp.zip' to file '/root/.cache/pooch/2d4dde77d5ec90761cad3ae459fab258-geonb_county-comte_shp.zip'.\n"
          ]
        }
      ]
    },
    {
      "cell_type": "code",
      "source": [
        "nb_counties_file"
      ],
      "metadata": {
        "colab": {
          "base_uri": "https://localhost:8080/",
          "height": 35
        },
        "id": "cghZBL8HKo8H",
        "outputId": "d04114bf-a14c-4878-901d-677ad490d056"
      },
      "execution_count": 3,
      "outputs": [
        {
          "output_type": "execute_result",
          "data": {
            "text/plain": [
              "'/root/.cache/pooch/2d4dde77d5ec90761cad3ae459fab258-geonb_county-comte_shp.zip'"
            ],
            "application/vnd.google.colaboratory.intrinsic+json": {
              "type": "string"
            }
          },
          "metadata": {},
          "execution_count": 3
        }
      ]
    },
    {
      "cell_type": "code",
      "source": [
        "with zipfile.ZipFile(nb_counties_file) as archive:\n",
        "\n",
        "    archive.printdir()\n",
        "\n",
        "    print([file for file in archive.namelist() if file.endswith('txt')])\n",
        "\n",
        "    archive.extract('read_me.txt', path='out_dir/')\n",
        "    archive.extractall(path='out_dir/')"
      ],
      "metadata": {
        "colab": {
          "base_uri": "https://localhost:8080/"
        },
        "id": "uPUqWSv2KrY9",
        "outputId": "596ec638-b3cc-45c4-a628-014fd9c98f09"
      },
      "execution_count": 4,
      "outputs": [
        {
          "output_type": "stream",
          "name": "stdout",
          "text": [
            "File Name                                             Modified             Size\n",
            "geonb_county-comte.cpg                         2018-03-07 14:10:48            5\n",
            "geonb_county-comte.dbf                         2018-03-09 13:15:34       719206\n",
            "geonb_county-comte.prj                         2018-03-07 14:10:48          465\n",
            "geonb_county-comte.sbn                         2018-03-07 14:10:48         6412\n",
            "geonb_county-comte.sbx                         2018-03-07 14:10:48          380\n",
            "geonb_county-comte.shp                         2018-03-07 14:10:48      5350380\n",
            "geonb_county-comte.shp.xml                     2018-03-13 11:07:46         9016\n",
            "geonb_county-comte.shx                         2018-03-07 14:10:48         5180\n",
            "license_licence.txt                            2015-06-16 15:36:00          513\n",
            "lisez_moi.txt                                  2015-06-23 10:34:10          656\n",
            "metadata/                                      2018-03-09 13:00:56            0\n",
            "metadata/geonb_county_metadata.xml             2018-03-13 09:54:18         7463\n",
            "read_me.txt                                    2015-06-23 10:36:00          587\n",
            "['license_licence.txt', 'lisez_moi.txt', 'read_me.txt']\n"
          ]
        }
      ]
    },
    {
      "cell_type": "markdown",
      "source": [
        "# Full Code"
      ],
      "metadata": {
        "id": "E9J3EoUILb_R"
      }
    },
    {
      "cell_type": "code",
      "source": [
        "\"\"\"\n",
        "Vaasudevan Srinivasan 🧑🏻‍💻\n",
        "StratagemGIS Solutions\n",
        "Script to use zipfile module to read / extract files\n",
        "\"\"\"\n",
        "\n",
        "\n",
        "import zipfile\n",
        "\n",
        "\n",
        "with zipfile.ZipFile(nb_counties_file) as archive:\n",
        "\n",
        "    archive.printdir()\n",
        "    # File Name                                    Modified             Size\n",
        "    # geonb_county-comte.cpg                2018-03-07 14:10:48            5\n",
        "    # geonb_county-comte.dbf                2018-03-09 13:15:34       719206\n",
        "    # geonb_county-comte.prj                2018-03-07 14:10:48          465\n",
        "    # geonb_county-comte.sbn                2018-03-07 14:10:48         6412\n",
        "    # geonb_county-comte.sbx                2018-03-07 14:10:48          380\n",
        "    # geonb_county-comte.shp                2018-03-07 14:10:48      5350380\n",
        "    # geonb_county-comte.shp.xml            2018-03-13 11:07:46         9016\n",
        "    # geonb_county-comte.shx                2018-03-07 14:10:48         5180\n",
        "    # license_licence.txt                   2015-06-16 15:36:00          513\n",
        "    # lisez_moi.txt                         2015-06-23 10:34:10          656\n",
        "    # metadata/                             2018-03-09 13:00:56            0\n",
        "    # metadata/geonb_county_metadata.xml    2018-03-13 09:54:18         7463\n",
        "    # read_me.txt                           2015-06-23 10:36:00          587\n",
        "\n",
        "    print([file for file in archive.namelist() if file.endswith('txt')])\n",
        "    # ['license_licence.txt', 'lisez_moi.txt', 'read_me.txt']\n",
        "\n",
        "    # Extract a specific file\n",
        "    archive.extract('read_me.txt', path='out_dir/')\n",
        "\n",
        "    # Extract all the files\n",
        "    archive.extractall(path='out_dir/')"
      ],
      "metadata": {
        "id": "qi2Rsx2nKzlv"
      },
      "execution_count": null,
      "outputs": []
    },
    {
      "cell_type": "code",
      "source": [],
      "metadata": {
        "id": "iORi5k3QMXEr"
      },
      "execution_count": null,
      "outputs": []
    }
  ]
}