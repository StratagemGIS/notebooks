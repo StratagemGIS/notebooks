{
  "nbformat": 4,
  "nbformat_minor": 0,
  "metadata": {
    "colab": {
      "provenance": [],
      "toc_visible": true,
      "authorship_tag": "ABX9TyOWkFwNloeuTDQ7CAaho/yK",
      "include_colab_link": true
    },
    "kernelspec": {
      "name": "python3",
      "display_name": "Python 3"
    },
    "language_info": {
      "name": "python"
    }
  },
  "cells": [
    {
      "cell_type": "markdown",
      "metadata": {
        "id": "view-in-github",
        "colab_type": "text"
      },
      "source": [
        "<a href=\"https://colab.research.google.com/github/StratagemGIS/notebooks/blob/main/best_practices/17_tempdir.ipynb\" target=\"_parent\"><img src=\"https://colab.research.google.com/assets/colab-badge.svg\" alt=\"Open In Colab\"/></a>"
      ]
    },
    {
      "cell_type": "code",
      "execution_count": null,
      "metadata": {
        "id": "t1bL5BVJAfBP"
      },
      "outputs": [],
      "source": [
        "import tempfile\n",
        "from pathlib import Path"
      ]
    },
    {
      "cell_type": "code",
      "source": [
        "with tempfile.TemporaryDirectory() as tmp:\n",
        "\n",
        "    tmp = Path(tmp)\n",
        "\n",
        "    with open(tmp / 'f1.txt', 'w') as f:\n",
        "        f.write('Hello world')\n",
        "\n",
        "    with open(tmp / 'img1.tif', 'w') as src:\n",
        "        ..."
      ],
      "metadata": {
        "id": "qd1FxgAfA1j3"
      },
      "execution_count": null,
      "outputs": []
    },
    {
      "cell_type": "markdown",
      "source": [
        "# Full Code"
      ],
      "metadata": {
        "id": "hb9iPymYDo4A"
      }
    },
    {
      "cell_type": "code",
      "source": [
        "\"\"\"\n",
        "Vaasudevan Srinivasan 🧑🏻‍💻\n",
        "StratagemGIS Solutions\n",
        "Script that shows the usage of temp directory\n",
        "\"\"\"\n",
        "\n",
        "\n",
        "import tempfile\n",
        "from pathlib import Path\n",
        "\n",
        "import rasterio as rio\n",
        "\n",
        "\n",
        "with tempfile.TemporaryDirectory() as tmp:\n",
        "\n",
        "    tmp = Path(tmp)\n",
        "\n",
        "    with open(tmp / 'f1.txt', 'w') as f:\n",
        "        f.write('Hello world')\n",
        "\n",
        "    with rio.open('/path/to/your/image.tif') as src:\n",
        "        cfg = src.profile\n",
        "        ...\n",
        "\n",
        "    with rio.open(tmp / 'img1.tif', 'w', **cfg) as src:\n",
        "        ...\n"
      ],
      "metadata": {
        "id": "rkXSG9bRBs7k"
      },
      "execution_count": null,
      "outputs": []
    }
  ]
}