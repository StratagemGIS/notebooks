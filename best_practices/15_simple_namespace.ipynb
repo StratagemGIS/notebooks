{
  "nbformat": 4,
  "nbformat_minor": 0,
  "metadata": {
    "colab": {
      "provenance": [],
      "authorship_tag": "ABX9TyNY+yxDnTarmXYBSeUdnEas",
      "include_colab_link": true
    },
    "kernelspec": {
      "name": "python3",
      "display_name": "Python 3"
    },
    "language_info": {
      "name": "python"
    }
  },
  "cells": [
    {
      "cell_type": "markdown",
      "metadata": {
        "id": "view-in-github",
        "colab_type": "text"
      },
      "source": [
        "<a href=\"https://colab.research.google.com/github/StratagemGIS/notebooks/blob/main/best_practices/15_simple_namespace.ipynb\" target=\"_parent\"><img src=\"https://colab.research.google.com/assets/colab-badge.svg\" alt=\"Open In Colab\"/></a>"
      ]
    },
    {
      "cell_type": "code",
      "execution_count": 1,
      "metadata": {
        "id": "KABbDx18fnzn"
      },
      "outputs": [],
      "source": [
        "from types import SimpleNamespace"
      ]
    },
    {
      "cell_type": "code",
      "source": [
        "student1 = SimpleNamespace()"
      ],
      "metadata": {
        "id": "I1JHnH6tfwtN"
      },
      "execution_count": 2,
      "outputs": []
    },
    {
      "cell_type": "code",
      "source": [
        "student1.name = 'Vaasudevan'\n",
        "student1.college = 'UNB'\n",
        "student1.company = 'StratagemGIS'"
      ],
      "metadata": {
        "id": "wXRFC2_cf4Il"
      },
      "execution_count": 3,
      "outputs": []
    },
    {
      "cell_type": "code",
      "source": [
        "print(student1)"
      ],
      "metadata": {
        "colab": {
          "base_uri": "https://localhost:8080/"
        },
        "id": "GrjWnwqXgAXY",
        "outputId": "99f0f4eb-6061-42f6-da2a-8341bba19143"
      },
      "execution_count": 4,
      "outputs": [
        {
          "output_type": "stream",
          "name": "stdout",
          "text": [
            "namespace(name='Vaasudevan', college='UNB', company='StratagemGIS')\n"
          ]
        }
      ]
    },
    {
      "cell_type": "code",
      "source": [
        "student2 = SimpleNamespace(\n",
        "    **{'name': 'Vaasudevan',\n",
        "       'college': 'UNB',\n",
        "       'company': 'StratagenGIS'}\n",
        ")"
      ],
      "metadata": {
        "id": "dsoNEIfEgBS3"
      },
      "execution_count": 5,
      "outputs": []
    },
    {
      "cell_type": "code",
      "source": [
        "print(student2)"
      ],
      "metadata": {
        "colab": {
          "base_uri": "https://localhost:8080/"
        },
        "id": "st-k2yZbgOmt",
        "outputId": "5dd0a177-9d6f-46eb-ebdb-b263c260e38a"
      },
      "execution_count": 6,
      "outputs": [
        {
          "output_type": "stream",
          "name": "stdout",
          "text": [
            "namespace(name='Vaasudevan', college='UNB', company='StratagenGIS')\n"
          ]
        }
      ]
    },
    {
      "cell_type": "code",
      "source": [],
      "metadata": {
        "id": "6ZRCglbMgSV4"
      },
      "execution_count": 6,
      "outputs": []
    },
    {
      "cell_type": "code",
      "source": [],
      "metadata": {
        "id": "Oruo63R9gWg4"
      },
      "execution_count": null,
      "outputs": []
    }
  ]
}