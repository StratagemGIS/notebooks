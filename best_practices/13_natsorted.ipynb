{
  "nbformat": 4,
  "nbformat_minor": 0,
  "metadata": {
    "colab": {
      "provenance": [],
      "authorship_tag": "ABX9TyMT7yw8L+eKFfYGwo2nm5DC",
      "include_colab_link": true
    },
    "kernelspec": {
      "name": "python3",
      "display_name": "Python 3"
    },
    "language_info": {
      "name": "python"
    }
  },
  "cells": [
    {
      "cell_type": "markdown",
      "metadata": {
        "id": "view-in-github",
        "colab_type": "text"
      },
      "source": [
        "<a href=\"https://colab.research.google.com/github/StratagemGIS/notebooks/blob/main/best_practices/13_natsorted.ipynb\" target=\"_parent\"><img src=\"https://colab.research.google.com/assets/colab-badge.svg\" alt=\"Open In Colab\"/></a>"
      ]
    },
    {
      "cell_type": "code",
      "source": [
        "from pprint import pprint"
      ],
      "metadata": {
        "id": "7AB4SI-O8I3y"
      },
      "execution_count": 1,
      "outputs": []
    },
    {
      "cell_type": "code",
      "execution_count": 2,
      "metadata": {
        "id": "gdt4IxUd4YQ5"
      },
      "outputs": [],
      "source": [
        "files = [\n",
        "    'some_folder1/project1/file1',\n",
        "    'some_folder10/project10/file1',\n",
        "    'some_folder2/project2/file1',\n",
        "    'some_folder1/project11/file1',\n",
        "    'some_folder5/project3/file1',\n",
        "    'some_folder1/project2/file12',\n",
        "    'some_folder2/project1/file2',\n",
        "]"
      ]
    },
    {
      "cell_type": "code",
      "source": [
        "pprint(sorted(files))"
      ],
      "metadata": {
        "colab": {
          "base_uri": "https://localhost:8080/"
        },
        "id": "sHe44DJY8GAk",
        "outputId": "f72ad44d-9d65-4388-b917-e765b01aeab3"
      },
      "execution_count": 3,
      "outputs": [
        {
          "output_type": "stream",
          "name": "stdout",
          "text": [
            "['some_folder1/project1/file1',\n",
            " 'some_folder1/project11/file1',\n",
            " 'some_folder1/project2/file12',\n",
            " 'some_folder10/project10/file1',\n",
            " 'some_folder2/project1/file2',\n",
            " 'some_folder2/project2/file1',\n",
            " 'some_folder5/project3/file1']\n"
          ]
        }
      ]
    },
    {
      "cell_type": "code",
      "source": [
        "from natsort import natsorted\n",
        "pprint(natsorted(files))"
      ],
      "metadata": {
        "colab": {
          "base_uri": "https://localhost:8080/"
        },
        "id": "yOrgnhq28IKR",
        "outputId": "95c2db98-9ccd-4d9d-f64b-9751131b42c2"
      },
      "execution_count": 4,
      "outputs": [
        {
          "output_type": "stream",
          "name": "stdout",
          "text": [
            "['some_folder1/project1/file1',\n",
            " 'some_folder1/project2/file12',\n",
            " 'some_folder1/project11/file1',\n",
            " 'some_folder2/project1/file2',\n",
            " 'some_folder2/project2/file1',\n",
            " 'some_folder5/project3/file1',\n",
            " 'some_folder10/project10/file1']\n"
          ]
        }
      ]
    },
    {
      "cell_type": "code",
      "source": [],
      "metadata": {
        "id": "4f7uEuZL8S2z"
      },
      "execution_count": 4,
      "outputs": []
    },
    {
      "cell_type": "code",
      "source": [],
      "metadata": {
        "id": "gnYvAg8080f-"
      },
      "execution_count": 4,
      "outputs": []
    }
  ]
}