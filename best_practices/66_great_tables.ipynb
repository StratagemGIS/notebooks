{
  "nbformat": 4,
  "nbformat_minor": 0,
  "metadata": {
    "colab": {
      "provenance": [],
      "toc_visible": true,
      "authorship_tag": "ABX9TyMJZ/lTuWU/BRBcivaWAox5",
      "include_colab_link": true
    },
    "kernelspec": {
      "name": "python3",
      "display_name": "Python 3"
    },
    "language_info": {
      "name": "python"
    }
  },
  "cells": [
    {
      "cell_type": "markdown",
      "metadata": {
        "id": "view-in-github",
        "colab_type": "text"
      },
      "source": [
        "<a href=\"https://colab.research.google.com/github/StratagemGIS/notebooks/blob/main/best_practices/66_great_tables.ipynb\" target=\"_parent\"><img src=\"https://colab.research.google.com/assets/colab-badge.svg\" alt=\"Open In Colab\"/></a>"
      ]
    },
    {
      "cell_type": "markdown",
      "source": [
        "Vaasudevan Srinivasan 🧑🏻‍💻  \n",
        "StratagemGIS Solutions"
      ],
      "metadata": {
        "id": "1HBhHEz0yJCy"
      }
    },
    {
      "cell_type": "code",
      "execution_count": null,
      "metadata": {
        "id": "56Y3IJPqyFJX"
      },
      "outputs": [],
      "source": [
        "%%capture\n",
        "!pip install great_tables"
      ]
    },
    {
      "cell_type": "code",
      "source": [
        "import pandas as pd\n",
        "from great_tables import GT, html"
      ],
      "metadata": {
        "id": "pz4EKGkFyLv6"
      },
      "execution_count": null,
      "outputs": []
    },
    {
      "cell_type": "code",
      "source": [
        "result = (\n",
        "    pd.read_csv(\n",
        "        'https://raw.githubusercontent.com/StratagemGIS/datasets/main/table/penguins.csv'\n",
        "    )\n",
        "    .groupby('species', as_index=False)\n",
        "    [['bill_length_mm', 'flipper_length_mm', 'body_mass_g']]\n",
        "    .agg(['min', 'max', 'mean'])\n",
        "    .round(2)\n",
        ")\n",
        "result.columns = result.columns.map('_'.join)"
      ],
      "metadata": {
        "id": "0uYNX1-65bSf"
      },
      "execution_count": null,
      "outputs": []
    },
    {
      "cell_type": "code",
      "source": [
        "(\n",
        "    GT(result)\n",
        "    .tab_header(title='Palmer Penguins', subtitle='Statistics')\n",
        "    .tab_source_note('Reference: Horst AM, Hill AP, Gorman KB (2020)')\n",
        "    .tab_source_note(html('Source: <a>https://doi.org/10.5281/zenodo.3960218</a>'))\n",
        "    .cols_label(species_='Species')\n",
        "    .cols_label(bill_length_mm_min='min', bill_length_mm_max='max', bill_length_mm_mean='mean')\n",
        "    .cols_label(flipper_length_mm_min='min', flipper_length_mm_max='max', flipper_length_mm_mean='mean')\n",
        "    .cols_label(body_mass_g_min='min', body_mass_g_max='max', body_mass_g_mean='mean')\n",
        "    .tab_spanner(\n",
        "        html('<b>bill_length_mm</b>'),\n",
        "        ['bill_length_mm_min', 'bill_length_mm_max', 'bill_length_mm_mean']\n",
        "    )\n",
        "    .tab_spanner(\n",
        "        html('<b>flipper_length_mm</b>'),\n",
        "        ['flipper_length_mm_min', 'flipper_length_mm_max', 'flipper_length_mm_mean']\n",
        "    )\n",
        "    .tab_spanner(\n",
        "        html('<b>body_mass_g</b>'),\n",
        "        ['body_mass_g_min', 'body_mass_g_max', 'body_mass_g_mean']\n",
        "    )\n",
        ")"
      ],
      "metadata": {
        "colab": {
          "base_uri": "https://localhost:8080/",
          "height": 314
        },
        "id": "mNoXW6-e4a6N",
        "outputId": "687debb2-778c-4f19-e30f-10a2e7b08d23"
      },
      "execution_count": null,
      "outputs": [
        {
          "output_type": "execute_result",
          "data": {
            "text/plain": [
              "GT(_tbl_data=    species_  bill_length_mm_min  bill_length_mm_max  bill_length_mm_mean  \\\n",
              "0     Adelie                32.1                46.0                38.79   \n",
              "1  Chinstrap                40.9                58.0                48.83   \n",
              "2     Gentoo                40.9                59.6                47.50   \n",
              "\n",
              "   flipper_length_mm_min  flipper_length_mm_max  flipper_length_mm_mean  \\\n",
              "0                  172.0                  210.0                  189.95   \n",
              "1                  178.0                  212.0                  195.82   \n",
              "2                  203.0                  231.0                  217.19   \n",
              "\n",
              "   body_mass_g_min  body_mass_g_max  body_mass_g_mean  \n",
              "0           2850.0           4775.0           3700.66  \n",
              "1           2700.0           4800.0           3733.09  \n",
              "2           3950.0           6300.0           5076.02  , _body=<great_tables._gt_data.Body object at 0x7d47cbd56aa0>, _boxhead=Boxhead([ColInfo(var='species_', type=<ColInfoTypeEnum.default: 1>, column_label='Species', column_align='left', column_width=None), ColInfo(var='bill_length_mm_min', type=<ColInfoTypeEnum.default: 1>, column_label='min', column_align='right', column_width=None), ColInfo(var='bill_length_mm_max', type=<ColInfoTypeEnum.default: 1>, column_label='max', column_align='right', column_width=None), ColInfo(var='bill_length_mm_mean', type=<ColInfoTypeEnum.default: 1>, column_label='mean', column_align='right', column_width=None), ColInfo(var='flipper_length_mm_min', type=<ColInfoTypeEnum.default: 1>, column_label='min', column_align='right', column_width=None), ColInfo(var='flipper_length_mm_max', type=<ColInfoTypeEnum.default: 1>, column_label='max', column_align='right', column_width=None), ColInfo(var='flipper_length_mm_mean', type=<ColInfoTypeEnum.default: 1>, column_label='mean', column_align='right', column_width=None), ColInfo(var='body_mass_g_min', type=<ColInfoTypeEnum.default: 1>, column_label='min', column_align='right', column_width=None), ColInfo(var='body_mass_g_max', type=<ColInfoTypeEnum.default: 1>, column_label='max', column_align='right', column_width=None), ColInfo(var='body_mass_g_mean', type=<ColInfoTypeEnum.default: 1>, column_label='mean', column_align='right', column_width=None)]), _stub=<great_tables._gt_data.Stub object at 0x7d47cbd03910>, _spanners=Spanners([SpannerInfo(spanner_id='<b>bill_length_mm</b>', spanner_level=0, spanner_label=Html(text='<b>bill_length_mm</b>'), spanner_units=None, spanner_pattern=None, vars=['bill_length_mm_min', 'bill_length_mm_max', 'bill_length_mm_mean'], built=None), SpannerInfo(spanner_id='<b>flipper_length_mm</b>', spanner_level=0, spanner_label=Html(text='<b>flipper_length_mm</b>'), spanner_units=None, spanner_pattern=None, vars=['flipper_length_mm_min', 'flipper_length_mm_max', 'flipper_length_mm_mean'], built=None), SpannerInfo(spanner_id='<b>body_mass_g</b>', spanner_level=0, spanner_label=Html(text='<b>body_mass_g</b>'), spanner_units=None, spanner_pattern=None, vars=['body_mass_g_min', 'body_mass_g_max', 'body_mass_g_mean'], built=None)]), _heading=Heading(title='Palmer Penguins', subtitle='Statistics', preheader=None), _stubhead=None, _source_notes=['Reference: Horst AM, Hill AP, Gorman KB (2020)', Html(text='Source: <a>https://doi.org/10.5281/zenodo.3960218</a>')], _footnotes=[], _styles=[], _locale=<great_tables._gt_data.Locale object at 0x7d47cbd54dc0>, _formats=[], _substitutions=[], _options=Options(table_id=OptionsInfo(scss=False, category='table', type='value', value=None), table_caption=OptionsInfo(scss=False, category='table', type='value', value=None), table_width=OptionsInfo(scss=True, category='table', type='px', value='auto'), table_layout=OptionsInfo(scss=True, category='table', type='value', value='fixed'), table_margin_left=OptionsInfo(scss=True, category='table', type='px', value='auto'), table_margin_right=OptionsInfo(scss=True, category='table', type='px', value='auto'), table_background_color=OptionsInfo(scss=True, category='table', type='value', value='#FFFFFF'), table_font_names=OptionsInfo(scss=False, category='table', type='values', value=['-apple-system', 'BlinkMacSystemFont', 'Segoe UI', 'Roboto', 'Oxygen', 'Ubuntu', 'Cantarell', 'Helvetica Neue', 'Fira Sans', 'Droid Sans', 'Arial', 'sans-serif']), table_font_size=OptionsInfo(scss=True, category='table', type='px', value='16px'), table_font_weight=OptionsInfo(scss=True, category='table', type='value', value='normal'), table_font_style=OptionsInfo(scss=True, category='table', type='value', value='normal'), table_font_color=OptionsInfo(scss=True, category='table', type='value', value='#333333'), table_font_color_light=OptionsInfo(scss=True, category='table', type='value', value='#FFFFFF'), table_border_top_include=OptionsInfo(scss=False, category='table', type='boolean', value=True), table_border_top_style=OptionsInfo(scss=True, category='table', type='value', value='solid'), table_border_top_width=OptionsInfo(scss=True, category='table', type='px', value='2px'), table_border_top_color=OptionsInfo(scss=True, category='table', type='value', value='#A8A8A8'), table_border_right_style=OptionsInfo(scss=True, category='table', type='value', value='none'), table_border_right_width=OptionsInfo(scss=True, category='table', type='px', value='2px'), table_border_right_color=OptionsInfo(scss=True, category='table', type='value', value='#D3D3D3'), table_border_bottom_include=OptionsInfo(scss=False, category='table', type='boolean', value=True), table_border_bottom_style=OptionsInfo(scss=True, category='table', type='value', value='solid'), table_border_bottom_width=OptionsInfo(scss=True, category='table', type='px', value='2px'), table_border_bottom_color=OptionsInfo(scss=True, category='table', type='value', value='#A8A8A8'), table_border_left_style=OptionsInfo(scss=True, category='table', type='value', value='none'), table_border_left_width=OptionsInfo(scss=True, category='table', type='px', value='2px'), table_border_left_color=OptionsInfo(scss=True, category='table', type='value', value='#D3D3D3'), heading_background_color=OptionsInfo(scss=True, category='heading', type='value', value=None), heading_align=OptionsInfo(scss=True, category='heading', type='value', value='center'), heading_title_font_size=OptionsInfo(scss=True, category='heading', type='px', value='125%'), heading_title_font_weight=OptionsInfo(scss=True, category='heading', type='value', value='initial'), heading_subtitle_font_size=OptionsInfo(scss=True, category='heading', type='px', value='85%'), heading_subtitle_font_weight=OptionsInfo(scss=True, category='heading', type='value', value='initial'), heading_padding=OptionsInfo(scss=True, category='heading', type='px', value='4px'), heading_padding_horizontal=OptionsInfo(scss=True, category='heading', type='px', value='5px'), heading_border_bottom_style=OptionsInfo(scss=True, category='heading', type='value', value='solid'), heading_border_bottom_width=OptionsInfo(scss=True, category='heading', type='px', value='2px'), heading_border_bottom_color=OptionsInfo(scss=True, category='heading', type='value', value='#D3D3D3'), heading_border_lr_style=OptionsInfo(scss=True, category='heading', type='value', value='none'), heading_border_lr_width=OptionsInfo(scss=True, category='heading', type='px', value='1px'), heading_border_lr_color=OptionsInfo(scss=True, category='heading', type='value', value='#D3D3D3'), column_labels_background_color=OptionsInfo(scss=True, category='column_labels', type='value', value=None), column_labels_font_size=OptionsInfo(scss=True, category='column_labels', type='px', value='100%'), column_labels_font_weight=OptionsInfo(scss=True, category='column_labels', type='value', value='normal'), column_labels_text_transform=OptionsInfo(scss=True, category='column_labels', type='value', value='inherit'), column_labels_padding=OptionsInfo(scss=True, category='column_labels', type='px', value='5px'), column_labels_padding_horizontal=OptionsInfo(scss=True, category='column_labels', type='px', value='5px'), column_labels_vlines_style=OptionsInfo(scss=True, category='table_body', type='value', value='none'), column_labels_vlines_width=OptionsInfo(scss=True, category='table_body', type='px', value='1px'), column_labels_vlines_color=OptionsInfo(scss=True, category='table_body', type='value', value='#D3D3D3'), column_labels_border_top_style=OptionsInfo(scss=True, category='column_labels', type='value', value='solid'), column_labels_border_top_width=OptionsInfo(scss=True, category='column_labels', type='px', value='2px'), column_labels_border_top_color=OptionsInfo(scss=True, category='column_labels', type='value', value='#D3D3D3'), column_labels_border_bottom_style=OptionsInfo(scss=True, category='column_labels', type='value', value='solid'), column_labels_border_bottom_width=OptionsInfo(scss=True, category='column_labels', type='px', value='2px'), column_labels_border_bottom_color=OptionsInfo(scss=True, category='column_labels', type='value', value='#D3D3D3'), column_labels_border_lr_style=OptionsInfo(scss=True, category='column_labels', type='value', value='none'), column_labels_border_lr_width=OptionsInfo(scss=True, category='column_labels', type='px', value='1px'), column_labels_border_lr_color=OptionsInfo(scss=True, category='column_labels', type='value', value='#D3D3D3'), column_labels_hidden=OptionsInfo(scss=False, category='column_labels', type='boolean', value=False), row_group_background_color=OptionsInfo(scss=True, category='row_group', type='value', value=None), row_group_font_size=OptionsInfo(scss=True, category='row_group', type='px', value='100%'), row_group_font_weight=OptionsInfo(scss=True, category='row_group', type='value', value='initial'), row_group_text_transform=OptionsInfo(scss=True, category='row_group', type='value', value='inherit'), row_group_padding=OptionsInfo(scss=True, category='row_group', type='px', value='8px'), row_group_padding_horizontal=OptionsInfo(scss=True, category='row_group', type='px', value='5px'), row_group_border_top_style=OptionsInfo(scss=True, category='row_group', type='value', value='solid'), row_group_border_top_width=OptionsInfo(scss=True, category='row_group', type='px', value='2px'), row_group_border_top_color=OptionsInfo(scss=True, category='row_group', type='value', value='#D3D3D3'), row_group_border_right_style=OptionsInfo(scss=True, category='row_group', type='value', value='none'), row_group_border_right_width=OptionsInfo(scss=True, category='row_group', type='px', value='1px'), row_group_border_right_color=OptionsInfo(scss=True, category='row_group', type='value', value='#D3D3D3'), row_group_border_bottom_style=OptionsInfo(scss=True, category='row_group', type='value', value='solid'), row_group_border_bottom_width=OptionsInfo(scss=True, category='row_group', type='px', value='2px'), row_group_border_bottom_color=OptionsInfo(scss=True, category='row_group', type='value', value='#D3D3D3'), row_group_border_left_style=OptionsInfo(scss=True, category='row_group', type='value', value='none'), row_group_border_left_width=OptionsInfo(scss=True, category='row_group', type='px', value='1px'), row_group_border_left_color=OptionsInfo(scss=True, category='row_group', type='value', value='#D3D3D3'), row_group_as_column=OptionsInfo(scss=False, category='row_group', type='boolean', value=False), table_body_hlines_style=OptionsInfo(scss=True, category='table_body', type='value', value='solid'), table_body_hlines_width=OptionsInfo(scss=True, category='table_body', type='px', value='1px'), table_body_hlines_color=OptionsInfo(scss=True, category='table_body', type='value', value='#D3D3D3'), table_body_vlines_style=OptionsInfo(scss=True, category='table_body', type='value', value='none'), table_body_vlines_width=OptionsInfo(scss=True, category='table_body', type='px', value='1px'), table_body_vlines_color=OptionsInfo(scss=True, category='table_body', type='value', value='#D3D3D3'), table_body_border_top_style=OptionsInfo(scss=True, category='table_body', type='value', value='solid'), table_body_border_top_width=OptionsInfo(scss=True, category='table_body', type='px', value='2px'), table_body_border_top_color=OptionsInfo(scss=True, category='table_body', type='value', value='#D3D3D3'), table_body_border_bottom_style=OptionsInfo(scss=True, category='table_body', type='value', value='solid'), table_body_border_bottom_width=OptionsInfo(scss=True, category='table_body', type='px', value='2px'), table_body_border_bottom_color=OptionsInfo(scss=True, category='table_body', type='value', value='#D3D3D3'), data_row_padding=OptionsInfo(scss=True, category='data_row', type='px', value='8px'), data_row_padding_horizontal=OptionsInfo(scss=True, category='data_row', type='px', value='5px'), stub_background_color=OptionsInfo(scss=True, category='stub', type='value', value=None), stub_font_size=OptionsInfo(scss=True, category='stub', type='px', value='100%'), stub_font_weight=OptionsInfo(scss=True, category='stub', type='value', value='initial'), stub_text_transform=OptionsInfo(scss=True, category='stub', type='value', value='inherit'), stub_border_style=OptionsInfo(scss=True, category='stub', type='value', value='solid'), stub_border_width=OptionsInfo(scss=True, category='stub', type='px', value='2px'), stub_border_color=OptionsInfo(scss=True, category='stub', type='value', value='#D3D3D3'), stub_row_group_background_color=OptionsInfo(scss=True, category='stub', type='value', value=None), stub_row_group_font_size=OptionsInfo(scss=True, category='stub', type='px', value='100%'), stub_row_group_font_weight=OptionsInfo(scss=True, category='stub', type='value', value='initial'), stub_row_group_text_transform=OptionsInfo(scss=True, category='stub', type='value', value='inherit'), stub_row_group_border_style=OptionsInfo(scss=True, category='stub', type='value', value='solid'), stub_row_group_border_width=OptionsInfo(scss=True, category='stub', type='px', value='2px'), stub_row_group_border_color=OptionsInfo(scss=True, category='stub', type='value', value='#D3D3D3'), source_notes_padding=OptionsInfo(scss=True, category='source_notes', type='px', value='4px'), source_notes_padding_horizontal=OptionsInfo(scss=True, category='source_notes', type='px', value='5px'), source_notes_background_color=OptionsInfo(scss=True, category='source_notes', type='value', value=None), source_notes_font_size=OptionsInfo(scss=True, category='source_notes', type='px', value='90%'), source_notes_border_bottom_style=OptionsInfo(scss=True, category='source_notes', type='value', value='none'), source_notes_border_bottom_width=OptionsInfo(scss=True, category='source_notes', type='px', value='2px'), source_notes_border_bottom_color=OptionsInfo(scss=True, category='source_notes', type='value', value='#D3D3D3'), source_notes_border_lr_style=OptionsInfo(scss=True, category='source_notes', type='value', value='none'), source_notes_border_lr_width=OptionsInfo(scss=True, category='source_notes', type='px', value='2px'), source_notes_border_lr_color=OptionsInfo(scss=True, category='source_notes', type='value', value='#D3D3D3'), source_notes_multiline=OptionsInfo(scss=False, category='source_notes', type='boolean', value=True), source_notes_sep=OptionsInfo(scss=False, category='source_notes', type='value', value=' '), container_width=OptionsInfo(scss=False, category='container', type='px', value='auto'), container_height=OptionsInfo(scss=False, category='container', type='px', value='auto'), container_padding_x=OptionsInfo(scss=False, category='container', type='px', value='0px'), container_padding_y=OptionsInfo(scss=False, category='container', type='px', value='10px'), container_overflow_x=OptionsInfo(scss=False, category='container', type='overflow', value='auto'), container_overflow_y=OptionsInfo(scss=False, category='container', type='overflow', value='auto'), quarto_disable_processing=OptionsInfo(scss=False, category='quarto', type='logical', value=False), quarto_use_bootstrap=OptionsInfo(scss=False, category='quarto', type='logical', value=False)), _has_built=False)"
            ],
            "text/html": [
              "<div id=\"pdzrdiebig\" style=\"padding-left:0px;padding-right:0px;padding-top:10px;padding-bottom:10px;overflow-x:auto;overflow-y:auto;width:auto;height:auto;\">\n",
              "<style>\n",
              "#pdzrdiebig table {\n",
              "          font-family: -apple-system, BlinkMacSystemFont, 'Segoe UI', Roboto, Oxygen, Ubuntu, Cantarell, 'Helvetica Neue', 'Fira Sans', 'Droid Sans', Arial, sans-serif;\n",
              "          -webkit-font-smoothing: antialiased;\n",
              "          -moz-osx-font-smoothing: grayscale;\n",
              "        }\n",
              "\n",
              "#pdzrdiebig thead, tbody, tfoot, tr, td, th { border-style: none; }\n",
              " tr { background-color: transparent; }\n",
              "#pdzrdiebig p { margin: 0; padding: 0; }\n",
              " #pdzrdiebig .gt_table { display: table; border-collapse: collapse; line-height: normal; margin-left: auto; margin-right: auto; color: #333333; font-size: 16px; font-weight: normal; font-style: normal; background-color: #FFFFFF; width: auto; border-top-style: solid; border-top-width: 2px; border-top-color: #A8A8A8; border-right-style: none; border-right-width: 2px; border-right-color: #D3D3D3; border-bottom-style: solid; border-bottom-width: 2px; border-bottom-color: #A8A8A8; border-left-style: none; border-left-width: 2px; border-left-color: #D3D3D3; }\n",
              " #pdzrdiebig .gt_caption { padding-top: 4px; padding-bottom: 4px; }\n",
              " #pdzrdiebig .gt_title { color: #333333; font-size: 125%; font-weight: initial; padding-top: 4px; padding-bottom: 4px; padding-left: 5px; padding-right: 5px; border-bottom-color: #FFFFFF; border-bottom-width: 0; }\n",
              " #pdzrdiebig .gt_subtitle { color: #333333; font-size: 85%; font-weight: initial; padding-top: 3px; padding-bottom: 5px; padding-left: 5px; padding-right: 5px; border-top-color: #FFFFFF; border-top-width: 0; }\n",
              " #pdzrdiebig .gt_heading { background-color: #FFFFFF; text-align: center; border-bottom-color: #FFFFFF; border-left-style: none; border-left-width: 1px; border-left-color: #D3D3D3; border-right-style: none; border-right-width: 1px; border-right-color: #D3D3D3; }\n",
              " #pdzrdiebig .gt_bottom_border { border-bottom-style: solid; border-bottom-width: 2px; border-bottom-color: #D3D3D3; }\n",
              " #pdzrdiebig .gt_col_headings { border-top-style: solid; border-top-width: 2px; border-top-color: #D3D3D3; border-bottom-style: solid; border-bottom-width: 2px; border-bottom-color: #D3D3D3; border-left-style: none; border-left-width: 1px; border-left-color: #D3D3D3; border-right-style: none; border-right-width: 1px; border-right-color: #D3D3D3; }\n",
              " #pdzrdiebig .gt_col_heading { color: #333333; background-color: #FFFFFF; font-size: 100%; font-weight: normal; text-transform: inherit; border-left-style: none; border-left-width: 1px; border-left-color: #D3D3D3; border-right-style: none; border-right-width: 1px; border-right-color: #D3D3D3; vertical-align: bottom; padding-top: 5px; padding-bottom: 5px; padding-left: 5px; padding-right: 5px; overflow-x: hidden; }\n",
              " #pdzrdiebig .gt_column_spanner_outer { color: #333333; background-color: #FFFFFF; font-size: 100%; font-weight: normal; text-transform: inherit; padding-top: 0; padding-bottom: 0; padding-left: 4px; padding-right: 4px; }\n",
              " #pdzrdiebig .gt_column_spanner_outer:first-child { padding-left: 0; }\n",
              " #pdzrdiebig .gt_column_spanner_outer:last-child { padding-right: 0; }\n",
              " #pdzrdiebig .gt_column_spanner { border-bottom-style: solid; border-bottom-width: 2px; border-bottom-color: #D3D3D3; vertical-align: bottom; padding-top: 5px; padding-bottom: 5px; overflow-x: hidden; display: inline-block; width: 100%; }\n",
              " #pdzrdiebig .gt_spanner_row { border-bottom-style: hidden; }\n",
              " #pdzrdiebig .gt_group_heading { padding-top: 8px; padding-bottom: 8px; padding-left: 5px; padding-right: 5px; color: #333333; background-color: #FFFFFF; font-size: 100%; font-weight: initial; text-transform: inherit; border-top-style: solid; border-top-width: 2px; border-top-color: #D3D3D3; border-bottom-style: solid; border-bottom-width: 2px; border-bottom-color: #D3D3D3; border-left-style: none; border-left-width: 1px; border-left-color: #D3D3D3; border-right-style: none; border-right-width: 1px; border-right-color: #D3D3D3; vertical-align: middle; text-align: left; }\n",
              " #pdzrdiebig .gt_empty_group_heading { padding: 0.5px; color: #333333; background-color: #FFFFFF; font-size: 100%; font-weight: initial; border-top-style: solid; border-top-width: 2px; border-top-color: #D3D3D3; border-bottom-style: solid; border-bottom-width: 2px; border-bottom-color: #D3D3D3; vertical-align: middle; }\n",
              " #pdzrdiebig .gt_from_md> :first-child { margin-top: 0; }\n",
              " #pdzrdiebig .gt_from_md> :last-child { margin-bottom: 0; }\n",
              " #pdzrdiebig .gt_row { padding-top: 8px; padding-bottom: 8px; padding-left: 5px; padding-right: 5px; margin: 10px; border-top-style: solid; border-top-width: 1px; border-top-color: #D3D3D3; border-left-style: none; border-left-width: 1px; border-left-color: #D3D3D3; border-right-style: none; border-right-width: 1px; border-right-color: #D3D3D3; vertical-align: middle; overflow-x: hidden; }\n",
              " #pdzrdiebig .gt_stub { color: #333333; background-color: #FFFFFF; font-size: 100%; font-weight: initial; text-transform: inherit; border-right-style: solid; border-right-width: 2px; border-right-color: #D3D3D3; padding-left: 5px; padding-right: 5px; }\n",
              " #pdzrdiebig .gt_stub_row_group { color: #333333; background-color: #FFFFFF; font-size: 100%; font-weight: initial; text-transform: inherit; border-right-style: solid; border-right-width: 2px; border-right-color: #D3D3D3; padding-left: 5px; padding-right: 5px; vertical-align: top; }\n",
              " #pdzrdiebig .gt_row_group_first td { border-top-width: 2px; }\n",
              " #pdzrdiebig .gt_row_group_first th { border-top-width: 2px; }\n",
              " #pdzrdiebig .gt_table_body { border-top-style: solid; border-top-width: 2px; border-top-color: #D3D3D3; border-bottom-style: solid; border-bottom-width: 2px; border-bottom-color: #D3D3D3; }\n",
              " #pdzrdiebig .gt_sourcenotes { color: #333333; background-color: #FFFFFF; border-bottom-style: none; border-bottom-width: 2px; border-bottom-color: #D3D3D3; border-left-style: none; border-left-width: 2px; border-left-color: #D3D3D3; border-right-style: none; border-right-width: 2px; border-right-color: #D3D3D3; }\n",
              " #pdzrdiebig .gt_sourcenote { font-size: 90%; padding-top: 4px; padding-bottom: 4px; padding-left: 5px; padding-right: 5px; text-align: left; }\n",
              " #pdzrdiebig .gt_left { text-align: left; }\n",
              " #pdzrdiebig .gt_center { text-align: center; }\n",
              " #pdzrdiebig .gt_right { text-align: right; font-variant-numeric: tabular-nums; }\n",
              " #pdzrdiebig .gt_font_normal { font-weight: normal; }\n",
              " #pdzrdiebig .gt_font_bold { font-weight: bold; }\n",
              " #pdzrdiebig .gt_font_italic { font-style: italic; }\n",
              " #pdzrdiebig .gt_super { font-size: 65%; }\n",
              " #pdzrdiebig .gt_footnote_marks { font-size: 75%; vertical-align: 0.4em; position: initial; }\n",
              " #pdzrdiebig .gt_asterisk { font-size: 100%; vertical-align: 0; }\n",
              " \n",
              "</style>\n",
              "<table class=\"gt_table\" data-quarto-disable-processing=\"false\" data-quarto-bootstrap=\"false\">\n",
              "<thead class=\"gt_header\">\n",
              "  <tr>\n",
              "    <th colspan=\"10\" class=\"gt_heading gt_title gt_font_normal\">Palmer Penguins</th>\n",
              "  </tr>\n",
              "  <tr>\n",
              "    <th colspan=\"10\" class=\"gt_heading gt_subtitle gt_font_normal gt_bottom_border\">Statistics</th>\n",
              "  </tr>\n",
              "</thead>\n",
              "<tr class=\"gt_col_headings gt_spanner_row\">\n",
              "  <th class=\"gt_col_heading gt_columns_bottom_border gt_left\" rowspan=\"2\" colspan=\"1\" scope=\"col\" id=\"Species\">Species</th>\n",
              "  <th class=\"gt_center gt_columns_top_border gt_column_spanner_outer\" rowspan=\"1\" colspan=\"3\" scope=\"colgroup\" id=\"&lt;b&gt;bill_length_mm&lt;/b&gt;\">\n",
              "    <span class=\"gt_column_spanner\"><b>bill_length_mm</b></span>\n",
              "  </th>\n",
              "  <th class=\"gt_center gt_columns_top_border gt_column_spanner_outer\" rowspan=\"1\" colspan=\"3\" scope=\"colgroup\" id=\"&lt;b&gt;flipper_length_mm&lt;/b&gt;\">\n",
              "    <span class=\"gt_column_spanner\"><b>flipper_length_mm</b></span>\n",
              "  </th>\n",
              "  <th class=\"gt_center gt_columns_top_border gt_column_spanner_outer\" rowspan=\"1\" colspan=\"3\" scope=\"colgroup\" id=\"&lt;b&gt;body_mass_g&lt;/b&gt;\">\n",
              "    <span class=\"gt_column_spanner\"><b>body_mass_g</b></span>\n",
              "  </th>\n",
              "</tr>\n",
              "<tr class=\"gt_col_headings\">\n",
              "  <th class=\"gt_col_heading gt_columns_bottom_border gt_right\" rowspan=\"1\" colspan=\"1\" scope=\"col\" id=\"min\">min</th>\n",
              "  <th class=\"gt_col_heading gt_columns_bottom_border gt_right\" rowspan=\"1\" colspan=\"1\" scope=\"col\" id=\"max\">max</th>\n",
              "  <th class=\"gt_col_heading gt_columns_bottom_border gt_right\" rowspan=\"1\" colspan=\"1\" scope=\"col\" id=\"mean\">mean</th>\n",
              "  <th class=\"gt_col_heading gt_columns_bottom_border gt_right\" rowspan=\"1\" colspan=\"1\" scope=\"col\" id=\"min\">min</th>\n",
              "  <th class=\"gt_col_heading gt_columns_bottom_border gt_right\" rowspan=\"1\" colspan=\"1\" scope=\"col\" id=\"max\">max</th>\n",
              "  <th class=\"gt_col_heading gt_columns_bottom_border gt_right\" rowspan=\"1\" colspan=\"1\" scope=\"col\" id=\"mean\">mean</th>\n",
              "  <th class=\"gt_col_heading gt_columns_bottom_border gt_right\" rowspan=\"1\" colspan=\"1\" scope=\"col\" id=\"min\">min</th>\n",
              "  <th class=\"gt_col_heading gt_columns_bottom_border gt_right\" rowspan=\"1\" colspan=\"1\" scope=\"col\" id=\"max\">max</th>\n",
              "  <th class=\"gt_col_heading gt_columns_bottom_border gt_right\" rowspan=\"1\" colspan=\"1\" scope=\"col\" id=\"mean\">mean</th>\n",
              "</tr>\n",
              "<tbody class=\"gt_table_body\">\n",
              "  <tr>\n",
              "    <td class=\"gt_row gt_left\">Adelie</td>\n",
              "    <td class=\"gt_row gt_right\">32.1</td>\n",
              "    <td class=\"gt_row gt_right\">46.0</td>\n",
              "    <td class=\"gt_row gt_right\">38.79</td>\n",
              "    <td class=\"gt_row gt_right\">172.0</td>\n",
              "    <td class=\"gt_row gt_right\">210.0</td>\n",
              "    <td class=\"gt_row gt_right\">189.95</td>\n",
              "    <td class=\"gt_row gt_right\">2850.0</td>\n",
              "    <td class=\"gt_row gt_right\">4775.0</td>\n",
              "    <td class=\"gt_row gt_right\">3700.66</td>\n",
              "  </tr>\n",
              "  <tr>\n",
              "    <td class=\"gt_row gt_left\">Chinstrap</td>\n",
              "    <td class=\"gt_row gt_right\">40.9</td>\n",
              "    <td class=\"gt_row gt_right\">58.0</td>\n",
              "    <td class=\"gt_row gt_right\">48.83</td>\n",
              "    <td class=\"gt_row gt_right\">178.0</td>\n",
              "    <td class=\"gt_row gt_right\">212.0</td>\n",
              "    <td class=\"gt_row gt_right\">195.82</td>\n",
              "    <td class=\"gt_row gt_right\">2700.0</td>\n",
              "    <td class=\"gt_row gt_right\">4800.0</td>\n",
              "    <td class=\"gt_row gt_right\">3733.09</td>\n",
              "  </tr>\n",
              "  <tr>\n",
              "    <td class=\"gt_row gt_left\">Gentoo</td>\n",
              "    <td class=\"gt_row gt_right\">40.9</td>\n",
              "    <td class=\"gt_row gt_right\">59.6</td>\n",
              "    <td class=\"gt_row gt_right\">47.5</td>\n",
              "    <td class=\"gt_row gt_right\">203.0</td>\n",
              "    <td class=\"gt_row gt_right\">231.0</td>\n",
              "    <td class=\"gt_row gt_right\">217.19</td>\n",
              "    <td class=\"gt_row gt_right\">3950.0</td>\n",
              "    <td class=\"gt_row gt_right\">6300.0</td>\n",
              "    <td class=\"gt_row gt_right\">5076.02</td>\n",
              "  </tr>\n",
              "</tbody>\n",
              "  <tfoot class=\"gt_sourcenotes\">\n",
              "  \n",
              "  <tr>\n",
              "    <td class=\"gt_sourcenote\" colspan=\"10\">Reference: Horst AM, Hill AP, Gorman KB (2020)</td>\n",
              "  </tr>\n",
              "\n",
              "\n",
              "  <tr>\n",
              "    <td class=\"gt_sourcenote\" colspan=\"10\">Source: <a>https://doi.org/10.5281/zenodo.3960218</a></td>\n",
              "  </tr>\n",
              "\n",
              "</tfoot>\n",
              "\n",
              "</table>\n",
              "\n",
              "</div>\n",
              "        "
            ]
          },
          "metadata": {},
          "execution_count": 4
        }
      ]
    }
  ]
}