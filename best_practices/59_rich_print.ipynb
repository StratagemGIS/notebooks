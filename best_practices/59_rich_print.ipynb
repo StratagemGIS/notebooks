{
  "nbformat": 4,
  "nbformat_minor": 0,
  "metadata": {
    "colab": {
      "provenance": [],
      "toc_visible": true,
      "authorship_tag": "ABX9TyOB3LcS1dJGqWKSL0uSJ8qP",
      "include_colab_link": true
    },
    "kernelspec": {
      "name": "python3",
      "display_name": "Python 3"
    },
    "language_info": {
      "name": "python"
    }
  },
  "cells": [
    {
      "cell_type": "markdown",
      "metadata": {
        "id": "view-in-github",
        "colab_type": "text"
      },
      "source": [
        "<a href=\"https://colab.research.google.com/github/StratagemGIS/notebooks/blob/main/best_practices/59_rich_print.ipynb\" target=\"_parent\"><img src=\"https://colab.research.google.com/assets/colab-badge.svg\" alt=\"Open In Colab\"/></a>"
      ]
    },
    {
      "cell_type": "markdown",
      "source": [
        "Vaasudevan Srinivasan 🧑🏻‍💻  \n",
        "StratagemGIS Solutions"
      ],
      "metadata": {
        "id": "cYnXZLAKb55z"
      }
    },
    {
      "cell_type": "code",
      "source": [
        "random_dict = {\n",
        "    'user_id': 78291,\n",
        "    'username': 'cosmic_coder42',\n",
        "    'email': 'cosmic.coder42@galaxymail.com',\n",
        "    'age': 29,\n",
        "    'occupation': 'Software Engineer',\n",
        "    'favorite_languages': ['Python', 'Rust'],\n",
        "    'years_of_experience': 6,\n",
        "    'is_active': True,\n",
        "    'last_login': '2024-07-16 14:23:55',\n",
        "    'projects_completed': 37,\n",
        "    'skills': {\n",
        "        'data_analysis': 7,\n",
        "        'machine_learning': 6,\n",
        "    },\n",
        "    'certifications': ['AWS Certified Developer', 'Google Cloud Professional'],\n",
        "    'hobbies': ['hiking', 'photography', 'chess'],\n",
        "    'location': {\n",
        "        'city': 'Fredericton',\n",
        "        'province': 'New Brunswick',\n",
        "        'country': 'Canada'\n",
        "    },\n",
        "    'preferred_work_hours': {\n",
        "        'start': '09:00',\n",
        "        'end': '17:30'\n",
        "    },\n",
        "    'coffee_preference': 'Espresso',\n",
        "    'favorite_number': 42,\n",
        "    'has_pet': False\n",
        "}"
      ],
      "metadata": {
        "id": "Py_l6WK4Z5au"
      },
      "execution_count": 1,
      "outputs": []
    },
    {
      "cell_type": "code",
      "source": [
        "from pprint import pprint\n",
        "pprint(random_dict, sort_dicts=False)"
      ],
      "metadata": {
        "colab": {
          "base_uri": "https://localhost:8080/"
        },
        "id": "-oRiDdRdbcnX",
        "outputId": "5b2cb082-08ad-42a6-f604-fa04b4e31163"
      },
      "execution_count": 2,
      "outputs": [
        {
          "output_type": "stream",
          "name": "stdout",
          "text": [
            "{'user_id': 78291,\n",
            " 'username': 'cosmic_coder42',\n",
            " 'email': 'cosmic.coder42@galaxymail.com',\n",
            " 'age': 29,\n",
            " 'occupation': 'Software Engineer',\n",
            " 'favorite_languages': ['Python', 'Rust'],\n",
            " 'years_of_experience': 6,\n",
            " 'is_active': True,\n",
            " 'last_login': '2024-07-16 14:23:55',\n",
            " 'projects_completed': 37,\n",
            " 'skills': {'data_analysis': 7, 'machine_learning': 6},\n",
            " 'certifications': ['AWS Certified Developer', 'Google Cloud Professional'],\n",
            " 'hobbies': ['hiking', 'photography', 'chess'],\n",
            " 'location': {'city': 'Fredericton',\n",
            "              'province': 'New Brunswick',\n",
            "              'country': 'Canada'},\n",
            " 'preferred_work_hours': {'start': '09:00', 'end': '17:30'},\n",
            " 'coffee_preference': 'Espresso',\n",
            " 'favorite_number': 42,\n",
            " 'has_pet': False}\n"
          ]
        }
      ]
    },
    {
      "cell_type": "code",
      "source": [
        "from rich import print as rprint\n",
        "rprint(random_dict)"
      ],
      "metadata": {
        "colab": {
          "base_uri": "https://localhost:8080/",
          "height": 337
        },
        "id": "WDGOkImwbe1p",
        "outputId": "0c5de6f3-0c94-4229-b103-faca2ea73642"
      },
      "execution_count": 3,
      "outputs": [
        {
          "output_type": "display_data",
          "data": {
            "text/plain": [
              "\u001b[1m{\u001b[0m\n",
              "    \u001b[32m'user_id'\u001b[0m: \u001b[1;36m78291\u001b[0m,\n",
              "    \u001b[32m'username'\u001b[0m: \u001b[32m'cosmic_coder42'\u001b[0m,\n",
              "    \u001b[32m'email'\u001b[0m: \u001b[32m'cosmic.coder42@galaxymail.com'\u001b[0m,\n",
              "    \u001b[32m'age'\u001b[0m: \u001b[1;36m29\u001b[0m,\n",
              "    \u001b[32m'occupation'\u001b[0m: \u001b[32m'Software Engineer'\u001b[0m,\n",
              "    \u001b[32m'favorite_languages'\u001b[0m: \u001b[1m[\u001b[0m\u001b[32m'Python'\u001b[0m, \u001b[32m'Rust'\u001b[0m\u001b[1m]\u001b[0m,\n",
              "    \u001b[32m'years_of_experience'\u001b[0m: \u001b[1;36m6\u001b[0m,\n",
              "    \u001b[32m'is_active'\u001b[0m: \u001b[3;92mTrue\u001b[0m,\n",
              "    \u001b[32m'last_login'\u001b[0m: \u001b[32m'2024-07-16 14:23:55'\u001b[0m,\n",
              "    \u001b[32m'projects_completed'\u001b[0m: \u001b[1;36m37\u001b[0m,\n",
              "    \u001b[32m'skills'\u001b[0m: \u001b[1m{\u001b[0m\u001b[32m'data_analysis'\u001b[0m: \u001b[1;36m7\u001b[0m, \u001b[32m'machine_learning'\u001b[0m: \u001b[1;36m6\u001b[0m\u001b[1m}\u001b[0m,\n",
              "    \u001b[32m'certifications'\u001b[0m: \u001b[1m[\u001b[0m\u001b[32m'AWS Certified Developer'\u001b[0m, \u001b[32m'Google Cloud Professional'\u001b[0m\u001b[1m]\u001b[0m,\n",
              "    \u001b[32m'hobbies'\u001b[0m: \u001b[1m[\u001b[0m\u001b[32m'hiking'\u001b[0m, \u001b[32m'photography'\u001b[0m, \u001b[32m'chess'\u001b[0m\u001b[1m]\u001b[0m,\n",
              "    \u001b[32m'location'\u001b[0m: \u001b[1m{\u001b[0m\u001b[32m'city'\u001b[0m: \u001b[32m'Fredericton'\u001b[0m, \u001b[32m'province'\u001b[0m: \u001b[32m'New Brunswick'\u001b[0m, \u001b[32m'country'\u001b[0m: \u001b[32m'Canada'\u001b[0m\u001b[1m}\u001b[0m,\n",
              "    \u001b[32m'preferred_work_hours'\u001b[0m: \u001b[1m{\u001b[0m\u001b[32m'start'\u001b[0m: \u001b[32m'09:00'\u001b[0m, \u001b[32m'end'\u001b[0m: \u001b[32m'17:30'\u001b[0m\u001b[1m}\u001b[0m,\n",
              "    \u001b[32m'coffee_preference'\u001b[0m: \u001b[32m'Espresso'\u001b[0m,\n",
              "    \u001b[32m'favorite_number'\u001b[0m: \u001b[1;36m42\u001b[0m,\n",
              "    \u001b[32m'has_pet'\u001b[0m: \u001b[3;91mFalse\u001b[0m\n",
              "\u001b[1m}\u001b[0m\n"
            ],
            "text/html": [
              "<pre style=\"white-space:pre;overflow-x:auto;line-height:normal;font-family:Menlo,'DejaVu Sans Mono',consolas,'Courier New',monospace\"><span style=\"font-weight: bold\">{</span>\n",
              "    <span style=\"color: #008000; text-decoration-color: #008000\">'user_id'</span>: <span style=\"color: #008080; text-decoration-color: #008080; font-weight: bold\">78291</span>,\n",
              "    <span style=\"color: #008000; text-decoration-color: #008000\">'username'</span>: <span style=\"color: #008000; text-decoration-color: #008000\">'cosmic_coder42'</span>,\n",
              "    <span style=\"color: #008000; text-decoration-color: #008000\">'email'</span>: <span style=\"color: #008000; text-decoration-color: #008000\">'cosmic.coder42@galaxymail.com'</span>,\n",
              "    <span style=\"color: #008000; text-decoration-color: #008000\">'age'</span>: <span style=\"color: #008080; text-decoration-color: #008080; font-weight: bold\">29</span>,\n",
              "    <span style=\"color: #008000; text-decoration-color: #008000\">'occupation'</span>: <span style=\"color: #008000; text-decoration-color: #008000\">'Software Engineer'</span>,\n",
              "    <span style=\"color: #008000; text-decoration-color: #008000\">'favorite_languages'</span>: <span style=\"font-weight: bold\">[</span><span style=\"color: #008000; text-decoration-color: #008000\">'Python'</span>, <span style=\"color: #008000; text-decoration-color: #008000\">'Rust'</span><span style=\"font-weight: bold\">]</span>,\n",
              "    <span style=\"color: #008000; text-decoration-color: #008000\">'years_of_experience'</span>: <span style=\"color: #008080; text-decoration-color: #008080; font-weight: bold\">6</span>,\n",
              "    <span style=\"color: #008000; text-decoration-color: #008000\">'is_active'</span>: <span style=\"color: #00ff00; text-decoration-color: #00ff00; font-style: italic\">True</span>,\n",
              "    <span style=\"color: #008000; text-decoration-color: #008000\">'last_login'</span>: <span style=\"color: #008000; text-decoration-color: #008000\">'2024-07-16 14:23:55'</span>,\n",
              "    <span style=\"color: #008000; text-decoration-color: #008000\">'projects_completed'</span>: <span style=\"color: #008080; text-decoration-color: #008080; font-weight: bold\">37</span>,\n",
              "    <span style=\"color: #008000; text-decoration-color: #008000\">'skills'</span>: <span style=\"font-weight: bold\">{</span><span style=\"color: #008000; text-decoration-color: #008000\">'data_analysis'</span>: <span style=\"color: #008080; text-decoration-color: #008080; font-weight: bold\">7</span>, <span style=\"color: #008000; text-decoration-color: #008000\">'machine_learning'</span>: <span style=\"color: #008080; text-decoration-color: #008080; font-weight: bold\">6</span><span style=\"font-weight: bold\">}</span>,\n",
              "    <span style=\"color: #008000; text-decoration-color: #008000\">'certifications'</span>: <span style=\"font-weight: bold\">[</span><span style=\"color: #008000; text-decoration-color: #008000\">'AWS Certified Developer'</span>, <span style=\"color: #008000; text-decoration-color: #008000\">'Google Cloud Professional'</span><span style=\"font-weight: bold\">]</span>,\n",
              "    <span style=\"color: #008000; text-decoration-color: #008000\">'hobbies'</span>: <span style=\"font-weight: bold\">[</span><span style=\"color: #008000; text-decoration-color: #008000\">'hiking'</span>, <span style=\"color: #008000; text-decoration-color: #008000\">'photography'</span>, <span style=\"color: #008000; text-decoration-color: #008000\">'chess'</span><span style=\"font-weight: bold\">]</span>,\n",
              "    <span style=\"color: #008000; text-decoration-color: #008000\">'location'</span>: <span style=\"font-weight: bold\">{</span><span style=\"color: #008000; text-decoration-color: #008000\">'city'</span>: <span style=\"color: #008000; text-decoration-color: #008000\">'Fredericton'</span>, <span style=\"color: #008000; text-decoration-color: #008000\">'province'</span>: <span style=\"color: #008000; text-decoration-color: #008000\">'New Brunswick'</span>, <span style=\"color: #008000; text-decoration-color: #008000\">'country'</span>: <span style=\"color: #008000; text-decoration-color: #008000\">'Canada'</span><span style=\"font-weight: bold\">}</span>,\n",
              "    <span style=\"color: #008000; text-decoration-color: #008000\">'preferred_work_hours'</span>: <span style=\"font-weight: bold\">{</span><span style=\"color: #008000; text-decoration-color: #008000\">'start'</span>: <span style=\"color: #008000; text-decoration-color: #008000\">'09:00'</span>, <span style=\"color: #008000; text-decoration-color: #008000\">'end'</span>: <span style=\"color: #008000; text-decoration-color: #008000\">'17:30'</span><span style=\"font-weight: bold\">}</span>,\n",
              "    <span style=\"color: #008000; text-decoration-color: #008000\">'coffee_preference'</span>: <span style=\"color: #008000; text-decoration-color: #008000\">'Espresso'</span>,\n",
              "    <span style=\"color: #008000; text-decoration-color: #008000\">'favorite_number'</span>: <span style=\"color: #008080; text-decoration-color: #008080; font-weight: bold\">42</span>,\n",
              "    <span style=\"color: #008000; text-decoration-color: #008000\">'has_pet'</span>: <span style=\"color: #ff0000; text-decoration-color: #ff0000; font-style: italic\">False</span>\n",
              "<span style=\"font-weight: bold\">}</span>\n",
              "</pre>\n"
            ]
          },
          "metadata": {}
        }
      ]
    }
  ]
}