{
  "nbformat": 4,
  "nbformat_minor": 0,
  "metadata": {
    "colab": {
      "provenance": [],
      "authorship_tag": "ABX9TyMG1G6aXFT3thk6/m5vnnAP",
      "include_colab_link": true
    },
    "kernelspec": {
      "name": "python3",
      "display_name": "Python 3"
    },
    "language_info": {
      "name": "python"
    }
  },
  "cells": [
    {
      "cell_type": "markdown",
      "metadata": {
        "id": "view-in-github",
        "colab_type": "text"
      },
      "source": [
        "<a href=\"https://colab.research.google.com/github/StratagemGIS/notebooks/blob/main/best_practices/25_dotenv_reading_secrets.ipynb\" target=\"_parent\"><img src=\"https://colab.research.google.com/assets/colab-badge.svg\" alt=\"Open In Colab\"/></a>"
      ]
    },
    {
      "cell_type": "markdown",
      "source": [
        "# Create a `.env` file"
      ],
      "metadata": {
        "id": "KWoIZMPHmJ_h"
      }
    },
    {
      "cell_type": "code",
      "source": [
        "!echo -e \"APP_USERNAME=JohnDoe\\nAPP_API_KEY=au4bkbfjkhef873847kjhdjh\" > .env"
      ],
      "metadata": {
        "id": "ZTNAMeWxlvqS"
      },
      "execution_count": 1,
      "outputs": []
    },
    {
      "cell_type": "code",
      "source": [
        "!cat .env"
      ],
      "metadata": {
        "colab": {
          "base_uri": "https://localhost:8080/"
        },
        "id": "xifcOuVQmEhP",
        "outputId": "f6b7bd05-593c-4015-9eac-b71a3f2bd503"
      },
      "execution_count": 2,
      "outputs": [
        {
          "output_type": "stream",
          "name": "stdout",
          "text": [
            "APP_USERNAME=JohnDoe\n",
            "APP_API_KEY=au4bkbfjkhef873847kjhdjh\n"
          ]
        }
      ]
    },
    {
      "cell_type": "markdown",
      "source": [
        "# python-dotenv"
      ],
      "metadata": {
        "id": "FZCC33CImNCY"
      }
    },
    {
      "cell_type": "code",
      "source": [
        "!pip install python-dotenv"
      ],
      "metadata": {
        "colab": {
          "base_uri": "https://localhost:8080/"
        },
        "id": "y1S2QRdJklnD",
        "outputId": "8b88e322-a103-4f6d-8967-6a5aee2bab2d"
      },
      "execution_count": 3,
      "outputs": [
        {
          "output_type": "stream",
          "name": "stdout",
          "text": [
            "Collecting python-dotenv\n",
            "  Downloading python_dotenv-1.0.1-py3-none-any.whl (19 kB)\n",
            "Installing collected packages: python-dotenv\n",
            "Successfully installed python-dotenv-1.0.1\n"
          ]
        }
      ]
    },
    {
      "cell_type": "code",
      "execution_count": 4,
      "metadata": {
        "colab": {
          "base_uri": "https://localhost:8080/"
        },
        "id": "IbyihAeTj3Du",
        "outputId": "31fe77ae-f7f1-4d39-fd26-703ccc2ef3f1"
      },
      "outputs": [
        {
          "output_type": "execute_result",
          "data": {
            "text/plain": [
              "True"
            ]
          },
          "metadata": {},
          "execution_count": 4
        }
      ],
      "source": [
        "from dotenv import load_dotenv\n",
        "load_dotenv()"
      ]
    },
    {
      "cell_type": "code",
      "source": [
        "import os\n",
        "os.environ['APP_USERNAME']"
      ],
      "metadata": {
        "colab": {
          "base_uri": "https://localhost:8080/",
          "height": 35
        },
        "id": "SSx7BdixmR5V",
        "outputId": "1da71d0b-fc0c-4d24-82cd-5304d2542517"
      },
      "execution_count": 5,
      "outputs": [
        {
          "output_type": "execute_result",
          "data": {
            "text/plain": [
              "'JohnDoe'"
            ],
            "application/vnd.google.colaboratory.intrinsic+json": {
              "type": "string"
            }
          },
          "metadata": {},
          "execution_count": 5
        }
      ]
    },
    {
      "cell_type": "code",
      "source": [
        "os.environ['APP_API_KEY']"
      ],
      "metadata": {
        "colab": {
          "base_uri": "https://localhost:8080/",
          "height": 35
        },
        "id": "M0iejI4emV9s",
        "outputId": "0176a529-8fc6-428f-ae61-6cb3d8c5e3de"
      },
      "execution_count": 6,
      "outputs": [
        {
          "output_type": "execute_result",
          "data": {
            "text/plain": [
              "'au4bkbfjkhef873847kjhdjh'"
            ],
            "application/vnd.google.colaboratory.intrinsic+json": {
              "type": "string"
            }
          },
          "metadata": {},
          "execution_count": 6
        }
      ]
    },
    {
      "cell_type": "markdown",
      "source": [
        "# Full Code"
      ],
      "metadata": {
        "id": "-T0Lj9BOmsgA"
      }
    },
    {
      "cell_type": "code",
      "source": [
        "\"\"\"\n",
        "Vaasudevan Srinivasan 🧑🏻‍💻\n",
        "StratagemGIS Solutions\n",
        "Script to use dotenv package to load secrets\n",
        "\"\"\"\n",
        "\n",
        "# !pip install python-dotenv\n",
        "\n",
        "# .env file\n",
        "\"\"\"\n",
        "APP_USERNAME=JohnDoe\n",
        "APP_API_KEY=au4bkbfjkhef873847kjhdjh\n",
        "\"\"\"\n",
        "\n",
        "import os\n",
        "from dotenv import load_dotenv\n",
        "\n",
        "load_dotenv()\n",
        "\n",
        "print(os.environ['APP_USERNAME']) # JohnDoe\n",
        "print(os.environ['APP_API_KEY'])  # au4bkbfjkhef873847kjhdjh\n"
      ],
      "metadata": {
        "id": "CO1S0H54mjTQ"
      },
      "execution_count": 6,
      "outputs": []
    }
  ]
}