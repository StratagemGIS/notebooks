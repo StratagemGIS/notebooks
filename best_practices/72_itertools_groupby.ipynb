{
  "nbformat": 4,
  "nbformat_minor": 0,
  "metadata": {
    "colab": {
      "provenance": [],
      "toc_visible": true,
      "authorship_tag": "ABX9TyOVQDi7fic/fAuQH+SCQF7D",
      "include_colab_link": true
    },
    "kernelspec": {
      "name": "python3",
      "display_name": "Python 3"
    },
    "language_info": {
      "name": "python"
    }
  },
  "cells": [
    {
      "cell_type": "markdown",
      "metadata": {
        "id": "view-in-github",
        "colab_type": "text"
      },
      "source": [
        "<a href=\"https://colab.research.google.com/github/StratagemGIS/notebooks/blob/main/best_practices/72_itertools_groupby.ipynb\" target=\"_parent\"><img src=\"https://colab.research.google.com/assets/colab-badge.svg\" alt=\"Open In Colab\"/></a>"
      ]
    },
    {
      "cell_type": "markdown",
      "source": [
        "Vaasudevan Srinivasan 🧑🏻‍💻  \n",
        "StratagemGIS Solutions"
      ],
      "metadata": {
        "id": "MdYKY6CvM3AV"
      }
    },
    {
      "cell_type": "code",
      "execution_count": null,
      "metadata": {
        "id": "fG3F0JHxMV8q"
      },
      "outputs": [],
      "source": [
        "from itertools import groupby\n",
        "from pprint import pprint"
      ]
    },
    {
      "cell_type": "code",
      "source": [
        "countries_provinces = [\n",
        "    ('Canada', 'New Brunswick'),\n",
        "    ('India', 'Tamil Nadu'),\n",
        "    ('India', 'Kerala'),\n",
        "    ('Canada', 'Nova Scotia'),\n",
        "    ('India', 'Karnataka'),\n",
        "    ('Canada', 'British Columbia'),\n",
        "]"
      ],
      "metadata": {
        "id": "fOVK6ZWAPDQR"
      },
      "execution_count": null,
      "outputs": []
    },
    {
      "cell_type": "code",
      "source": [
        "def groupby_example(data):\n",
        "    pprint(\n",
        "        {country: list(provinces)\n",
        "         for country, provinces in\n",
        "         groupby(data, key=lambda x: x[0])\n",
        "        }\n",
        "    )"
      ],
      "metadata": {
        "id": "63Ib3BamQ4oc"
      },
      "execution_count": null,
      "outputs": []
    },
    {
      "cell_type": "code",
      "source": [
        "groupby_example(countries_provinces)"
      ],
      "metadata": {
        "colab": {
          "base_uri": "https://localhost:8080/"
        },
        "id": "K30hzjIIRCR6",
        "outputId": "fd1ee4e5-59e8-4030-d4e3-bc424c3f63fd"
      },
      "execution_count": null,
      "outputs": [
        {
          "output_type": "stream",
          "name": "stdout",
          "text": [
            "{'Canada': [('Canada', 'British Columbia')], 'India': [('India', 'Karnataka')]}\n"
          ]
        }
      ]
    },
    {
      "cell_type": "code",
      "source": [
        "groupby_example(sorted(countries_provinces, key=lambda x: x[0]))"
      ],
      "metadata": {
        "colab": {
          "base_uri": "https://localhost:8080/"
        },
        "id": "L9I8Y3pcRHWx",
        "outputId": "4d3fd05f-c7e6-4ee4-880f-427698992892"
      },
      "execution_count": null,
      "outputs": [
        {
          "output_type": "stream",
          "name": "stdout",
          "text": [
            "{'Canada': [('Canada', 'New Brunswick'),\n",
            "            ('Canada', 'Nova Scotia'),\n",
            "            ('Canada', 'British Columbia')],\n",
            " 'India': [('India', 'Tamil Nadu'),\n",
            "           ('India', 'Kerala'),\n",
            "           ('India', 'Karnataka')]}\n"
          ]
        }
      ]
    }
  ]
}