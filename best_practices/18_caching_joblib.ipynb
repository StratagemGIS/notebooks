{
  "nbformat": 4,
  "nbformat_minor": 0,
  "metadata": {
    "colab": {
      "provenance": [],
      "authorship_tag": "ABX9TyPcOsQ/CnDZ+KZttzn2/pB7",
      "include_colab_link": true
    },
    "kernelspec": {
      "name": "python3",
      "display_name": "Python 3"
    },
    "language_info": {
      "name": "python"
    }
  },
  "cells": [
    {
      "cell_type": "markdown",
      "metadata": {
        "id": "view-in-github",
        "colab_type": "text"
      },
      "source": [
        "<a href=\"https://colab.research.google.com/github/StratagemGIS/notebooks/blob/main/best_practices/18_caching_joblib.ipynb\" target=\"_parent\"><img src=\"https://colab.research.google.com/assets/colab-badge.svg\" alt=\"Open In Colab\"/></a>"
      ]
    },
    {
      "cell_type": "code",
      "execution_count": 1,
      "metadata": {
        "id": "CnxtEuGOS7Z_"
      },
      "outputs": [],
      "source": [
        "!mkdir '.stratagemgis_cache'"
      ]
    },
    {
      "cell_type": "code",
      "source": [
        "from joblib import Memory"
      ],
      "metadata": {
        "id": "qbIgClB0TKOD"
      },
      "execution_count": 2,
      "outputs": []
    },
    {
      "cell_type": "code",
      "source": [
        "memory = Memory('.stratagemgis_cache', verbose=0)"
      ],
      "metadata": {
        "id": "JcvbOwEZTL9N"
      },
      "execution_count": 3,
      "outputs": []
    },
    {
      "cell_type": "code",
      "source": [
        "@memory.cache\n",
        "def time_consuming_function(x):\n",
        "    print(f'running for {x=}')\n",
        "    return x ** x"
      ],
      "metadata": {
        "id": "jk3OwGNFTSrr"
      },
      "execution_count": 4,
      "outputs": []
    },
    {
      "cell_type": "code",
      "source": [
        "time_consuming_function(10)"
      ],
      "metadata": {
        "colab": {
          "base_uri": "https://localhost:8080/"
        },
        "id": "m60h-Tv5Tbhl",
        "outputId": "9bd57b56-0dfb-46cc-8021-9e815404109c"
      },
      "execution_count": 5,
      "outputs": [
        {
          "output_type": "stream",
          "name": "stdout",
          "text": [
            "running for x=10\n"
          ]
        },
        {
          "output_type": "execute_result",
          "data": {
            "text/plain": [
              "10000000000"
            ]
          },
          "metadata": {},
          "execution_count": 5
        }
      ]
    },
    {
      "cell_type": "code",
      "source": [
        "time_consuming_function(10)"
      ],
      "metadata": {
        "colab": {
          "base_uri": "https://localhost:8080/"
        },
        "id": "fbdt_u59Thcw",
        "outputId": "a5d9695a-d2a1-40c5-958c-9e55b5ba45cd"
      },
      "execution_count": 6,
      "outputs": [
        {
          "output_type": "execute_result",
          "data": {
            "text/plain": [
              "10000000000"
            ]
          },
          "metadata": {},
          "execution_count": 6
        }
      ]
    },
    {
      "cell_type": "code",
      "source": [],
      "metadata": {
        "id": "ZGLWnZmaTx3U"
      },
      "execution_count": null,
      "outputs": []
    },
    {
      "cell_type": "markdown",
      "source": [
        "# Full code"
      ],
      "metadata": {
        "id": "L1n9r-2yTzTe"
      }
    },
    {
      "cell_type": "code",
      "source": [
        "\"\"\"\n",
        "Vaasudevan Srinivasan 🧑🏻‍💻\n",
        "StratagemGIS Solutions\n",
        "Script to use Joblib's Memory for caching\n",
        "\"\"\"\n",
        "\n",
        "\n",
        "# !pip install joblib\n",
        "\n",
        "from joblib import Memory\n",
        "\n",
        "memory = Memory(location='.stratagemgis_cache', verbose=0)\n",
        "\n",
        "@memory.cache\n",
        "def time_consuming_function(x):\n",
        "    print(f'running for {x=}')\n",
        "    return x ** x\n",
        "\n",
        "\n",
        "time_consuming_function(10)\n",
        "# running for x=10\n",
        "# 10000000000\n",
        "\n",
        "time_consuming_function(10)\n",
        "# 10000000000"
      ],
      "metadata": {
        "id": "-v4lg71WTpph"
      },
      "execution_count": null,
      "outputs": []
    }
  ]
}