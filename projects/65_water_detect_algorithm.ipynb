{
  "nbformat": 4,
  "nbformat_minor": 0,
  "metadata": {
    "colab": {
      "provenance": [],
      "toc_visible": true,
      "authorship_tag": "ABX9TyPMGlrRSGwzv/fYWi0CIEEU",
      "include_colab_link": true
    },
    "kernelspec": {
      "name": "python3",
      "display_name": "Python 3"
    },
    "language_info": {
      "name": "python"
    }
  },
  "cells": [
    {
      "cell_type": "markdown",
      "metadata": {
        "id": "view-in-github",
        "colab_type": "text"
      },
      "source": [
        "<a href=\"https://colab.research.google.com/github/StratagemGIS/notebooks/blob/main/projects/65_water_detect_algorithm.ipynb\" target=\"_parent\"><img src=\"https://colab.research.google.com/assets/colab-badge.svg\" alt=\"Open In Colab\"/></a>"
      ]
    },
    {
      "cell_type": "code",
      "execution_count": null,
      "metadata": {
        "id": "WSV7UkT6Ik9g"
      },
      "outputs": [],
      "source": [
        "%%capture\n",
        "!pip install waterdetect rasterio"
      ]
    },
    {
      "cell_type": "code",
      "source": [
        "import pooch\n",
        "import rasterio as rio\n",
        "import waterdetect as wd"
      ],
      "metadata": {
        "id": "31dnYWwXIn0E"
      },
      "execution_count": null,
      "outputs": []
    },
    {
      "cell_type": "code",
      "source": [
        "s2_img = pooch.retrieve(\n",
        "    'https://github.com/StratagemGIS/datasets/raw/main/raster/oromocto_jun2021_composite.tif',\n",
        "    known_hash='e08df41e0f301d684f9ed1a487b9abccaf431fd3df25fa5f10da82d44e6b733d'\n",
        ")"
      ],
      "metadata": {
        "id": "1s-B0dheIn1u"
      },
      "execution_count": null,
      "outputs": []
    },
    {
      "cell_type": "code",
      "source": [
        "!waterdetect -GC"
      ],
      "metadata": {
        "colab": {
          "base_uri": "https://localhost:8080/"
        },
        "id": "hbxFFmdCIn7T",
        "outputId": "d99eeb3f-1d84-4e64-b461-de2e4140d7d7"
      },
      "execution_count": null,
      "outputs": [
        {
          "output_type": "stream",
          "name": "stdout",
          "text": [
            "Copying /usr/local/lib/python3.10/dist-packages/WaterDetect.ini into current dir.\n",
            "WaterDetect.ini copied into /content.\n"
          ]
        }
      ]
    },
    {
      "cell_type": "code",
      "source": [
        "config = wd.DWConfig(config_file='WaterDetect.ini')\n",
        "config.clustering_bands, config.detect_water_cluster"
      ],
      "metadata": {
        "colab": {
          "base_uri": "https://localhost:8080/"
        },
        "id": "EpEMOGvJIskg",
        "outputId": "4c8463de-adcc-44d5-dae6-937b8f64f99c"
      },
      "execution_count": null,
      "outputs": [
        {
          "output_type": "stream",
          "name": "stdout",
          "text": [
            "Loading configuration file WaterDetect.ini\n",
            "File WaterDetect.ini verified.\n"
          ]
        },
        {
          "output_type": "execute_result",
          "data": {
            "text/plain": [
              "([['ndwi', 'Nir']], 'maxndwi')"
            ]
          },
          "metadata": {},
          "execution_count": 6
        }
      ]
    },
    {
      "cell_type": "code",
      "source": [
        "with rio.open(s2_img) as src:\n",
        "    green, nir = src.read([2, 7])\n",
        "bands = {'Green': green / 10000, 'Nir': nir / 10000}\n",
        "wmask = wd.DWImageClustering(bands=bands, bands_keys=['Nir', 'ndwi'], invalid_mask=None, config=config)\n",
        "mask = wmask.run_detect_water()"
      ],
      "metadata": {
        "colab": {
          "base_uri": "https://localhost:8080/"
        },
        "id": "Kk98Xn6LIsma",
        "outputId": "130b4668-4e1e-42df-848b-4d221d5c7e2d"
      },
      "execution_count": null,
      "outputs": [
        {
          "output_type": "stream",
          "name": "stdout",
          "text": [
            "Selection of best number of clusters using Calinski-Harabasz Index:\n",
            "k=2 :Calinski_harabaz index=21678.1805929731\n",
            "k=3 :Calinski_harabaz index=39384.42501473059\n",
            "k=4 :Calinski_harabaz index=26519.44141131418\n",
            "k=5 :Calinski_harabaz index=19907.481413793612\n",
            "k=6 :Calinski_harabaz index=19740.91847634046\n",
            "k=7 :Calinski_harabaz index=24071.988893085832\n",
            "Applying clusters based naive bayes classifier\n",
            "Assgnin 1 to cluster_id 1\n",
            "Skipping cluster_id 1\n"
          ]
        }
      ]
    },
    {
      "cell_type": "code",
      "source": [
        "with rio.open(s2_img) as src:\n",
        "    cfg = src.profile | dict(count=1, dtype=mask.dtype)\n",
        "    with rio.open('mask.tif', 'w', **cfg) as out:\n",
        "        out.write(mask, 1)"
      ],
      "metadata": {
        "id": "_Dz-IXUgJicu"
      },
      "execution_count": null,
      "outputs": []
    }
  ]
}